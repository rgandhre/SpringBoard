{
 "cells": [
  {
   "cell_type": "code",
   "execution_count": 1,
   "metadata": {},
   "outputs": [],
   "source": [
    "import pandas as pd\n",
    "from flask import Flask, jsonify, request\n",
    "import pickle\n",
    "import os\n",
    "from sklearn import __version__ as sklearn_version\n",
    "from sklearn.model_selection import cross_validate\n",
    "\n",
    "import warnings\n",
    "warnings.filterwarnings('ignore')  # \"error\", \"ignore\", \"always\", \"default\", \"module\" or \"once\"\n"
   ]
  },
  {
   "cell_type": "code",
   "execution_count": 2,
   "metadata": {},
   "outputs": [],
   "source": [
    "#'/Users/rupalgandhre/SpringBoard/DataScience_Capstone2/models/diamond_rings_pricing_model.pkl'\n",
    "\n",
    "#load model \n",
    "expected_model_version = '1.0'\n",
    "model_path = 'diamond_rings_pricing_model.pkl'\n",
    "\n",
    "if os.path.exists(model_path):\n",
    "    with open(model_path, 'rb') as f:\n",
    "        model = pickle.load(f)\n",
    "    if model.version != expected_model_version:\n",
    "        print(\"Expected model version doesn't match version loaded\")\n",
    "    if model.sklearn_version != sklearn_version:\n",
    "        print(\"Warning: model created under different sklearn version\")\n",
    "else:\n",
    "    print(\"Expected model not found\")\n",
    "    "
   ]
  },
  {
   "cell_type": "markdown",
   "metadata": {},
   "source": [
    "## Code to write in PyCharm app.py\n",
    "\n",
    "import pandas as pd\n",
    "from flask import Flask, jsonify, request\n",
    "import pickle\n",
    "\n",
    "#load model\n",
    "model = pickle.load(open('/Users/rupalgandhre/SpringBoard/DataScience_Capstone2/models/diamond_rings_pricing_model.pkl'\n",
    ",'rb'))\n",
    "\n",
    "#app\n",
    "app = Flask(__name__)\n",
    "\n",
    "#routes\n",
    "@app.route('/', methods=['POST'])\n",
    "\n",
    "def predict():\n",
    "    # get data\n",
    "    print(model.X_columns)\n",
    "    data = request.get_json(force=True)\n",
    "    print(data)\n",
    "\n",
    "    # convert data into dataframe\n",
    "    data.update((x, [y]) for x, y in data.items())\n",
    "    df_test = pd.DataFrame.from_dict(data)\n",
    "    print(df_test)\n",
    "    # predictions\n",
    "    X_test = df_test[model.X_columns]\n",
    "\n",
    "    print('before predict')\n",
    "    result = model.predict(X_test)\n",
    "    print('after predict')\n",
    "    # send back to browser\n",
    "    output = {'results': result[0]}\n",
    "    print('after output')\n",
    "    # return data\n",
    "    return jsonify(results=output)\n",
    "\n",
    "if __name__ == '__main__':\n",
    "    app.run(port = 5000, debug=True)\n"
   ]
  },
  {
   "cell_type": "markdown",
   "metadata": {},
   "source": [
    "## Test Flask "
   ]
  },
  {
   "cell_type": "code",
   "execution_count": 10,
   "metadata": {},
   "outputs": [],
   "source": [
    "import requests\n",
    "import json"
   ]
  },
  {
   "cell_type": "code",
   "execution_count": 11,
   "metadata": {},
   "outputs": [
    {
     "data": {
      "text/plain": [
       "'{\"stone1_carat_under_0.5\": 0, \"stone1_carat_above_0.5_and_under_1.0\": 0, \"stone1_carat_above_1.0_and_under_1.5\": 1, \"stone1_carat_above_1.5_and_under_2.0\": 0, \"stone1_carat_above_2.0_and_under_2.5\": 0, \"stone1_carat_above_2.5_and_under_3.0\": 0, \"stone1_carat_above_3.0_and_under_3.5\": 0, \"stone1_carat_above_3.5_and_under_4.0\": 0, \"stone1_carat_above_4.0_and_under_4.5\": 0, \"stone1_carat_above_4.5\": 0, \"Stone1_Color\": \"White\", \"Stone1_Color_Blue\": 0, \"Stone1_Color_Black\": 0, \"Stone1_Color_Cognac\": 0, \"Stone1_Color_White\": 1, \"Stone1_Color_Yellow\": 0, \"Stone1_Cut\": \"Round\", \"Stone1_Cut_Baguette\": 0, \"Stone1_Cut_Cushion\": 0, \"Stone1_Cut_Multi-Shape\": 0, \"Stone1_Cut_Pear\": 0, \"Stone1_Cut_Round\": 1}'"
      ]
     },
     "execution_count": 11,
     "metadata": {},
     "output_type": "execute_result"
    }
   ],
   "source": [
    "#local url:\n",
    "\n",
    "url = 'http://127.0.0.1:5000/'\n",
    "\n",
    "#test data\n",
    "\n",
    "#filename= \"/Users/rupalgandhre/SpringBoard/DataScience_Capstone2/data/processed/Test_Diamond_Rings.csv\"\n",
    "#df = pd.read_csv(filename)\n",
    "#dict1 = dict(df.loc[0])\n",
    "#data = dict1.to_json()\n",
    "\n",
    "data = {\n",
    " 'stone1_carat_under_0.5': 0,\n",
    " 'stone1_carat_above_0.5_and_under_1.0': 0,\n",
    " 'stone1_carat_above_1.0_and_under_1.5': 1,\n",
    " 'stone1_carat_above_1.5_and_under_2.0': 0,\n",
    " 'stone1_carat_above_2.0_and_under_2.5': 0,\n",
    " 'stone1_carat_above_2.5_and_under_3.0': 0,\n",
    " 'stone1_carat_above_3.0_and_under_3.5': 0,\n",
    " 'stone1_carat_above_3.5_and_under_4.0': 0,\n",
    " 'stone1_carat_above_4.0_and_under_4.5': 0,\n",
    " 'stone1_carat_above_4.5': 0,\n",
    " 'Stone1_Color': 'White',\n",
    " 'Stone1_Color_Blue': 0,\n",
    " 'Stone1_Color_Black': 0,\n",
    " 'Stone1_Color_Cognac': 0,\n",
    " 'Stone1_Color_White': 1,\n",
    " 'Stone1_Color_Yellow': 0,\n",
    " 'Stone1_Cut': 'Round',\n",
    " 'Stone1_Cut_Baguette': 0,\n",
    " 'Stone1_Cut_Cushion': 0,\n",
    " 'Stone1_Cut_Multi-Shape': 0,\n",
    " 'Stone1_Cut_Pear': 0,\n",
    " 'Stone1_Cut_Round': 1}\n",
    "\n",
    "\n",
    "data1 = json.dumps(data)\n",
    "data1"
   ]
  },
  {
   "cell_type": "code",
   "execution_count": 15,
   "metadata": {},
   "outputs": [
    {
     "name": "stdout",
     "output_type": "stream",
     "text": [
      "<Response [200]>\n"
     ]
    }
   ],
   "source": [
    "r_survey = requests.post(url, data1)\n",
    "print(r_survey)"
   ]
  },
  {
   "cell_type": "code",
   "execution_count": 16,
   "metadata": {},
   "outputs": [
    {
     "name": "stdout",
     "output_type": "stream",
     "text": [
      "{'results': {'results': 'above_5000_under_6000'}}\n"
     ]
    }
   ],
   "source": [
    "print(r_survey.json())"
   ]
  },
  {
   "cell_type": "markdown",
   "metadata": {},
   "source": [
    "### Test App in Heroku"
   ]
  },
  {
   "cell_type": "code",
   "execution_count": 7,
   "metadata": {},
   "outputs": [
    {
     "name": "stdout",
     "output_type": "stream",
     "text": [
      "<Response [200]>\n"
     ]
    }
   ],
   "source": [
    "heroku_url = 'https://capstone2-flask-model.herokuapp.com'\n",
    "\n",
    "r_survey = requests.post(heroku_url, data1)\n",
    "print(r_survey)"
   ]
  },
  {
   "cell_type": "code",
   "execution_count": 9,
   "metadata": {},
   "outputs": [
    {
     "name": "stdout",
     "output_type": "stream",
     "text": [
      "{'results': {'results': 'above_5000_under_6000'}}\n"
     ]
    }
   ],
   "source": [
    "print(r_survey.json())"
   ]
  }
 ],
 "metadata": {
  "kernelspec": {
   "display_name": "Python 3",
   "language": "python",
   "name": "python3"
  },
  "language_info": {
   "codemirror_mode": {
    "name": "ipython",
    "version": 3
   },
   "file_extension": ".py",
   "mimetype": "text/x-python",
   "name": "python",
   "nbconvert_exporter": "python",
   "pygments_lexer": "ipython3",
   "version": "3.8.2"
  }
 },
 "nbformat": 4,
 "nbformat_minor": 4
}
