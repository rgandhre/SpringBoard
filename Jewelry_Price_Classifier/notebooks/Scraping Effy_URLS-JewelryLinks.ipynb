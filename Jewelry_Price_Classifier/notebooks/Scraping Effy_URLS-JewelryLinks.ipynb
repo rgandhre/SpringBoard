{
 "cells": [
  {
   "cell_type": "code",
   "execution_count": 1,
   "metadata": {},
   "outputs": [],
   "source": [
    "#Import the requried library\n",
    "import requests\n",
    "from bs4 import BeautifulSoup"
   ]
  },
  {
   "cell_type": "markdown",
   "metadata": {},
   "source": []
  },
  {
   "cell_type": "code",
   "execution_count": 2,
   "metadata": {},
   "outputs": [],
   "source": [
    "\n",
    "def scrape_effy(page_url:str, filename) ->None:\n",
    "    base_url = 'https://www.effyjewelry.com'\n",
    "    \n",
    "    print('Scraping product URLs from page: ' + page_url)\n",
    "    \n",
    "    response = requests.get(page_url)\n",
    "    soup = BeautifulSoup(response.content , 'html.parser')\n",
    "    \n",
    "    all_products = soup.find_all('div',{'class':'collection__products--wrapper grid'})\n",
    "    all_prod_links  = all_products[0].find_all('a') \n",
    "\n",
    "    \n",
    "    for prod_link in all_prod_links:\n",
    "        link = prod_link['href']\n",
    "        with open(filename,'a') as file:\n",
    "            file.write(base_url + link + '\\n')\n",
    "            \n",
    "    next_page = soup.find('li',{\"class\":\"pagination_next\"})\n",
    "    \n",
    "    try:\n",
    "        scrape_effy(base_url + next_page.a['href'],filename)\n",
    "    except(TypeError, KeyError) as e:\n",
    "    # Token not found. Replace 'pass' \n",
    "        pass    \n",
    "        \n",
    "    return\n",
    "    "
   ]
  },
  {
   "cell_type": "code",
   "execution_count": 3,
   "metadata": {
    "scrolled": false
   },
   "outputs": [
    {
     "name": "stdout",
     "output_type": "stream",
     "text": [
      "Scraping product URLs from page: https://www.effyjewelry.com/collections/earrings\n",
      "Scraping product URLs from page: https://www.effyjewelry.com/collections/earrings?page=2#filters\n",
      "Scraping product URLs from page: https://www.effyjewelry.com/collections/earrings?page=3#filters\n",
      "Scraping product URLs from page: https://www.effyjewelry.com/collections/earrings?page=4#filters\n",
      "Scraping product URLs from page: https://www.effyjewelry.com/collections/earrings?page=5#filters\n",
      "Scraping product URLs from page: https://www.effyjewelry.com/collections/earrings?page=6#filters\n",
      "Scraping product URLs from page: https://www.effyjewelry.com/collections/earrings?page=7#filters\n",
      "Scraping product URLs from page: https://www.effyjewelry.com/collections/earrings?page=8#filters\n",
      "Scraping product URLs from page: https://www.effyjewelry.com/collections/earrings?page=9#filters\n",
      "Scraping product URLs from page: https://www.effyjewelry.com/collections/earrings?page=10#filters\n",
      "Scraping product URLs from page: https://www.effyjewelry.com/collections/earrings?page=11#filters\n"
     ]
    }
   ],
   "source": [
    "page_url = 'https://www.effyjewelry.com/collections/earrings'\n",
    "#scrape_effy(page_url,'effy_earrings.txt')"
   ]
  },
  {
   "cell_type": "code",
   "execution_count": 4,
   "metadata": {},
   "outputs": [
    {
     "name": "stdout",
     "output_type": "stream",
     "text": [
      "Scraping product URLs from page: https://www.effyjewelry.com/collections/rings\n",
      "Scraping product URLs from page: https://www.effyjewelry.com/collections/rings?page=2#filters\n",
      "Scraping product URLs from page: https://www.effyjewelry.com/collections/rings?page=3#filters\n",
      "Scraping product URLs from page: https://www.effyjewelry.com/collections/rings?page=4#filters\n",
      "Scraping product URLs from page: https://www.effyjewelry.com/collections/rings?page=5#filters\n",
      "Scraping product URLs from page: https://www.effyjewelry.com/collections/rings?page=6#filters\n",
      "Scraping product URLs from page: https://www.effyjewelry.com/collections/rings?page=7#filters\n",
      "Scraping product URLs from page: https://www.effyjewelry.com/collections/rings?page=8#filters\n",
      "Scraping product URLs from page: https://www.effyjewelry.com/collections/rings?page=9#filters\n",
      "Scraping product URLs from page: https://www.effyjewelry.com/collections/rings?page=10#filters\n",
      "Scraping product URLs from page: https://www.effyjewelry.com/collections/rings?page=11#filters\n",
      "Scraping product URLs from page: https://www.effyjewelry.com/collections/rings?page=12#filters\n",
      "Scraping product URLs from page: https://www.effyjewelry.com/collections/rings?page=13#filters\n",
      "Scraping product URLs from page: https://www.effyjewelry.com/collections/rings?page=14#filters\n",
      "Scraping product URLs from page: https://www.effyjewelry.com/collections/rings?page=15#filters\n",
      "Scraping product URLs from page: https://www.effyjewelry.com/collections/rings?page=16#filters\n",
      "Scraping product URLs from page: https://www.effyjewelry.com/collections/rings?page=17#filters\n",
      "Scraping product URLs from page: https://www.effyjewelry.com/collections/rings?page=18#filters\n",
      "Scraping product URLs from page: https://www.effyjewelry.com/collections/rings?page=19#filters\n",
      "Scraping product URLs from page: https://www.effyjewelry.com/collections/rings?page=20#filters\n",
      "Scraping product URLs from page: https://www.effyjewelry.com/collections/rings?page=21#filters\n",
      "Scraping product URLs from page: https://www.effyjewelry.com/collections/rings?page=22#filters\n",
      "Scraping product URLs from page: https://www.effyjewelry.com/collections/rings?page=23#filters\n",
      "Scraping product URLs from page: https://www.effyjewelry.com/collections/rings?page=24#filters\n",
      "Scraping product URLs from page: https://www.effyjewelry.com/collections/rings?page=25#filters\n",
      "Scraping product URLs from page: https://www.effyjewelry.com/collections/rings?page=26#filters\n",
      "Scraping product URLs from page: https://www.effyjewelry.com/collections/rings?page=27#filters\n",
      "Scraping product URLs from page: https://www.effyjewelry.com/collections/rings?page=28#filters\n"
     ]
    }
   ],
   "source": [
    "page_url = 'https://www.effyjewelry.com/collections/rings'\n",
    "#scrape_effy(page_url,'effy_rings.txt')"
   ]
  },
  {
   "cell_type": "code",
   "execution_count": 8,
   "metadata": {},
   "outputs": [
    {
     "name": "stdout",
     "output_type": "stream",
     "text": [
      "Scraping product URLs from page: https://www.effyjewelry.com/collections/necklaces-pendants\n",
      "Scraping product URLs from page: https://www.effyjewelry.com/collections/necklaces-pendants?page=2#filters\n",
      "Scraping product URLs from page: https://www.effyjewelry.com/collections/necklaces-pendants?page=3#filters\n",
      "Scraping product URLs from page: https://www.effyjewelry.com/collections/necklaces-pendants?page=4#filters\n",
      "Scraping product URLs from page: https://www.effyjewelry.com/collections/necklaces-pendants?page=5#filters\n",
      "Scraping product URLs from page: https://www.effyjewelry.com/collections/necklaces-pendants?page=6#filters\n",
      "Scraping product URLs from page: https://www.effyjewelry.com/collections/necklaces-pendants?page=7#filters\n",
      "Scraping product URLs from page: https://www.effyjewelry.com/collections/necklaces-pendants?page=8#filters\n",
      "Scraping product URLs from page: https://www.effyjewelry.com/collections/necklaces-pendants?page=9#filters\n",
      "Scraping product URLs from page: https://www.effyjewelry.com/collections/necklaces-pendants?page=10#filters\n",
      "Scraping product URLs from page: https://www.effyjewelry.com/collections/necklaces-pendants?page=11#filters\n",
      "Scraping product URLs from page: https://www.effyjewelry.com/collections/necklaces-pendants?page=12#filters\n",
      "Scraping product URLs from page: https://www.effyjewelry.com/collections/necklaces-pendants?page=13#filters\n",
      "Scraping product URLs from page: https://www.effyjewelry.com/collections/necklaces-pendants?page=14#filters\n",
      "Scraping product URLs from page: https://www.effyjewelry.com/collections/necklaces-pendants?page=15#filters\n",
      "Scraping product URLs from page: https://www.effyjewelry.com/collections/necklaces-pendants?page=16#filters\n",
      "Scraping product URLs from page: https://www.effyjewelry.com/collections/necklaces-pendants?page=17#filters\n",
      "Scraping product URLs from page: https://www.effyjewelry.com/collections/necklaces-pendants?page=18#filters\n"
     ]
    }
   ],
   "source": [
    "page_url = 'https://www.effyjewelry.com/collections/necklaces-pendants'\n",
    "#scrape_effy(page_url,'effy_neck_pend.txt')\n"
   ]
  },
  {
   "cell_type": "code",
   "execution_count": 7,
   "metadata": {},
   "outputs": [
    {
     "name": "stdout",
     "output_type": "stream",
     "text": [
      "Scraping product URLs from page: https://www.effyjewelry.com/collections/bracelets\n",
      "Scraping product URLs from page: https://www.effyjewelry.com/collections/bracelets?page=2#filters\n",
      "Scraping product URLs from page: https://www.effyjewelry.com/collections/bracelets?page=3#filters\n",
      "Scraping product URLs from page: https://www.effyjewelry.com/collections/bracelets?page=4#filters\n",
      "Scraping product URLs from page: https://www.effyjewelry.com/collections/bracelets?page=5#filters\n",
      "Scraping product URLs from page: https://www.effyjewelry.com/collections/bracelets?page=6#filters\n"
     ]
    }
   ],
   "source": [
    "page_url = 'https://www.effyjewelry.com/collections/bracelets'\n",
    "#scrape_effy(page_url,'effy_bracelets.txt')"
   ]
  },
  {
   "cell_type": "code",
   "execution_count": 22,
   "metadata": {},
   "outputs": [],
   "source": [
    "#page_url = 'https://www.effyjewelry.com/pages/mens'\n",
    "#scrape_effy(page_url,'effy_mens.txt')"
   ]
  }
 ],
 "metadata": {
  "kernelspec": {
   "display_name": "Python 3",
   "language": "python",
   "name": "python3"
  },
  "language_info": {
   "codemirror_mode": {
    "name": "ipython",
    "version": 3
   },
   "file_extension": ".py",
   "mimetype": "text/x-python",
   "name": "python",
   "nbconvert_exporter": "python",
   "pygments_lexer": "ipython3",
   "version": "3.8.5"
  }
 },
 "nbformat": 4,
 "nbformat_minor": 4
}
