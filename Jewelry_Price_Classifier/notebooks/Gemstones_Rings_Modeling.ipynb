{
 "cells": [
  {
   "cell_type": "markdown",
   "metadata": {},
   "source": [
    "# Classifying price range for jewelry - Modeling "
   ]
  },
  {
   "cell_type": "markdown",
   "metadata": {},
   "source": [
    "## Capstone Project One: Springboard Data Science Career track "
   ]
  },
  {
   "cell_type": "markdown",
   "metadata": {},
   "source": [
    "### Notebook by Rupal Gandhre\n",
    "\n",
    "\n"
   ]
  },
  {
   "cell_type": "markdown",
   "metadata": {},
   "source": [
    "### Introduction: \n",
    "The Jewelry industry has a potential to benefit from data and advanced analytics. Many of the retail industry are already leveraging the benefits. These days most of the sales have been through ecommerce websites. Even I have bought jewelry online!! "
   ]
  },
  {
   "cell_type": "markdown",
   "metadata": {},
   "source": [
    "####    Goal:\n",
    "The goal of this project is to classify price range for jewelry based on the features of jewelry. The features include \n",
    "1. Metal of jewelry (18K Gold, 14K Gold, Sterling Silver)\n",
    "2. Type of Stone(Diamond or Gemstones)\n",
    "3. Color of the Stone\n",
    "4. Cut of the Stone \n",
    "5. Carat weight of the Stone\n",
    "\n",
    "This model may help the client to get a price range for the custom jewelry.\n"
   ]
  },
  {
   "cell_type": "markdown",
   "metadata": {},
   "source": [
    "####  The Data:\n",
    "\n",
    "Data is web-scrapped from one of the leading jewelry brand using BeautifulSoup. I am thankful to the web developers for not implementing a script to block my nuisance of an IP address.\n",
    "\n",
    "\n"
   ]
  },
  {
   "cell_type": "markdown",
   "metadata": {},
   "source": [
    "#### Import the necessary libraries and the data"
   ]
  },
  {
   "cell_type": "markdown",
   "metadata": {},
   "source": [
    "## Applying Best Model\n",
    "\n",
    "In this notebook, we now take our model for jewelry price and leverage it to gain some insights."
   ]
  },
  {
   "cell_type": "code",
   "execution_count": 1,
   "metadata": {},
   "outputs": [],
   "source": [
    "import pandas as pd\n",
    "import numpy as np\n",
    "import os\n",
    "import pickle\n",
    "import matplotlib.pyplot as plt\n",
    "import seaborn as sns\n",
    "from sklearn import __version__ as sklearn_version\n",
    "from sklearn.model_selection import cross_validate\n",
    "\n",
    "import warnings\n",
    "warnings.filterwarnings('ignore')  # \"error\", \"ignore\", \"always\", \"default\", \"module\" or \"once\""
   ]
  },
  {
   "cell_type": "markdown",
   "metadata": {},
   "source": [
    "### Load Model"
   ]
  },
  {
   "cell_type": "code",
   "execution_count": 2,
   "metadata": {},
   "outputs": [],
   "source": [
    "# This isn't exactly production-grade, but a quick check for development\n",
    "# These checks can save some head-scratching in development when moving from\n",
    "# one python environment to another, for example\n",
    "expected_model_version = '1.0'\n",
    "model_path = '../models/gemstones_rings_pricing_model.pkl'\n",
    "\n",
    "if os.path.exists(model_path):\n",
    "    with open(model_path, 'rb') as f:\n",
    "        model = pickle.load(f)\n",
    "    if model.version != expected_model_version:\n",
    "        print(\"Expected model version doesn't match version loaded\")\n",
    "    if model.sklearn_version != sklearn_version:\n",
    "        print(\"Warning: model created under different sklearn version\")\n",
    "else:\n",
    "    print(\"Expected model not found\")"
   ]
  },
  {
   "cell_type": "code",
   "execution_count": null,
   "metadata": {},
   "outputs": [],
   "source": []
  },
  {
   "cell_type": "code",
   "execution_count": 3,
   "metadata": {},
   "outputs": [],
   "source": [
    "filename= \"/Users/rupalgandhre/SpringBoard/DataScience_Capstone2/data/processed/Preprocessing_Gemstone_Rings.csv\"\n",
    "df = pd.read_csv(filename)"
   ]
  },
  {
   "cell_type": "code",
   "execution_count": 4,
   "metadata": {},
   "outputs": [],
   "source": [
    "df_gemstones = df.drop(columns=['Description', 'Discount_Price', 'Metal',\n",
    "                                                'Metal_Color', 'Stones','Jewelry_Type',\n",
    "                                                'Product_Carat', 'Stone1_Desc', 'Price',\n",
    "                                                'Stone1_Stone','Stone1_Carat','Stone1_Color',\n",
    "                                                'Stone1_Cut'])"
   ]
  },
  {
   "cell_type": "code",
   "execution_count": 5,
   "metadata": {},
   "outputs": [
    {
     "name": "stdout",
     "output_type": "stream",
     "text": [
      "<class 'pandas.core.frame.DataFrame'>\n",
      "RangeIndex: 534 entries, 0 to 533\n",
      "Data columns (total 60 columns):\n",
      " #   Column                                Non-Null Count  Dtype \n",
      "---  ------                                --------------  ----- \n",
      " 0   Price_Category                        534 non-null    object\n",
      " 1   Stone1_Stone_Alexandrite              534 non-null    int64 \n",
      " 2   Stone1_Stone_Amethyst                 534 non-null    int64 \n",
      " 3   Stone1_Stone_Aquamarine               534 non-null    int64 \n",
      " 4   Stone1_Stone_Citrine                  534 non-null    int64 \n",
      " 5   Stone1_Stone_Emerald                  534 non-null    int64 \n",
      " 6   Stone1_Stone_Garnet                   534 non-null    int64 \n",
      " 7   Stone1_Stone_Jade                     534 non-null    int64 \n",
      " 8   Stone1_Stone_Lapis-Lazuli             534 non-null    int64 \n",
      " 9   Stone1_Stone_Malachite                534 non-null    int64 \n",
      " 10  Stone1_Stone_Morganite                534 non-null    int64 \n",
      " 11  Stone1_Stone_Multi-Color              534 non-null    int64 \n",
      " 12  Stone1_Stone_Multi-Sapphire           534 non-null    int64 \n",
      " 13  Stone1_Stone_Onyx                     534 non-null    int64 \n",
      " 14  Stone1_Stone_Opal                     534 non-null    int64 \n",
      " 15  Stone1_Stone_Quartz                   534 non-null    int64 \n",
      " 16  Stone1_Stone_Ruby                     534 non-null    int64 \n",
      " 17  Stone1_Stone_Sapphire                 534 non-null    int64 \n",
      " 18  Stone1_Stone_Tanzanite                534 non-null    int64 \n",
      " 19  Stone1_Stone_Topaz                    534 non-null    int64 \n",
      " 20  Stone1_Stone_Turquoise                534 non-null    int64 \n",
      " 21  stone1_carat_under_0.5                534 non-null    int64 \n",
      " 22  stone1_carat_above_0.5_and_under_1.0  534 non-null    int64 \n",
      " 23  stone1_carat_above_1.0_and_under_1.5  534 non-null    int64 \n",
      " 24  stone1_carat_above_1.5_and_under_2.0  534 non-null    int64 \n",
      " 25  stone1_carat_above_2.0_and_under_2.5  534 non-null    int64 \n",
      " 26  stone1_carat_above_2.5_and_under_3.0  534 non-null    int64 \n",
      " 27  stone1_carat_above_3.0_and_under_3.5  534 non-null    int64 \n",
      " 28  stone1_carat_above_3.5_and_under_4.0  534 non-null    int64 \n",
      " 29  stone1_carat_above_4.0_and_under_4.5  534 non-null    int64 \n",
      " 30  stone1_carat_above_4.5                534 non-null    int64 \n",
      " 31  Stone1_Color_Blue                     534 non-null    int64 \n",
      " 32  Stone1_Color_Black                    534 non-null    int64 \n",
      " 33  Stone1_Color_Bluish-Green             534 non-null    int64 \n",
      " 34  Stone1_Color_White                    534 non-null    int64 \n",
      " 35  Stone1_Color_Yellow                   534 non-null    int64 \n",
      " 36  Stone1_Color_Lapis                    534 non-null    int64 \n",
      " 37  Stone1_Color_Multi-Color              534 non-null    int64 \n",
      " 38  Stone1_Color_Multi-Sapphire           534 non-null    int64 \n",
      " 39  Stone1_Color_Greenish-Blue            534 non-null    int64 \n",
      " 40  Stone1_Color_Pink                     534 non-null    int64 \n",
      " 41  Stone1_Color_Red                      534 non-null    int64 \n",
      " 42  Stone1_Color_Rose                     534 non-null    int64 \n",
      " 43  Stone1_Color_Smokey                   534 non-null    int64 \n",
      " 44  Stone1_Color_Turquoise                534 non-null    int64 \n",
      " 45  Stone1_Cut_Baguette                   534 non-null    int64 \n",
      " 46  Stone1_Cut_Blue                       534 non-null    int64 \n",
      " 47  Stone1_Cut_Cushion                    534 non-null    int64 \n",
      " 48  Stone1_Cut_Emerald                    534 non-null    int64 \n",
      " 49  Stone1_Cut_Fantasy                    534 non-null    int64 \n",
      " 50  Stone1_Cut_Heart                      534 non-null    int64 \n",
      " 51  Stone1_Cut_Marquise                   534 non-null    int64 \n",
      " 52  Stone1_Cut_Multi-Shape                534 non-null    int64 \n",
      " 53  Stone1_Cut_Oval                       534 non-null    int64 \n",
      " 54  Stone1_Cut_Pear                       534 non-null    int64 \n",
      " 55  Stone1_Cut_Princess                   534 non-null    int64 \n",
      " 56  Stone1_Cut_Rectangle                  534 non-null    int64 \n",
      " 57  Stone1_Cut_Round                      534 non-null    int64 \n",
      " 58  Stone1_Cut_Square                     534 non-null    int64 \n",
      " 59  Stone1_Cut_Trillion                   534 non-null    int64 \n",
      "dtypes: int64(59), object(1)\n",
      "memory usage: 250.4+ KB\n"
     ]
    }
   ],
   "source": [
    "df_gemstones.info()"
   ]
  },
  {
   "cell_type": "code",
   "execution_count": 6,
   "metadata": {},
   "outputs": [
    {
     "data": {
      "text/plain": [
       "['Stone1_Stone_Alexandrite',\n",
       " 'Stone1_Stone_Amethyst',\n",
       " 'Stone1_Stone_Aquamarine',\n",
       " 'Stone1_Stone_Citrine',\n",
       " 'Stone1_Stone_Emerald',\n",
       " 'Stone1_Stone_Garnet',\n",
       " 'Stone1_Stone_Jade',\n",
       " 'Stone1_Stone_Lapis-Lazuli',\n",
       " 'Stone1_Stone_Malachite',\n",
       " 'Stone1_Stone_Morganite',\n",
       " 'Stone1_Stone_Multi-Color',\n",
       " 'Stone1_Stone_Multi-Sapphire',\n",
       " 'Stone1_Stone_Onyx',\n",
       " 'Stone1_Stone_Opal',\n",
       " 'Stone1_Stone_Quartz',\n",
       " 'Stone1_Stone_Ruby',\n",
       " 'Stone1_Stone_Sapphire',\n",
       " 'Stone1_Stone_Tanzanite',\n",
       " 'Stone1_Stone_Topaz',\n",
       " 'Stone1_Stone_Turquoise',\n",
       " 'stone1_carat_under_0.5',\n",
       " 'stone1_carat_above_0.5_and_under_1.0',\n",
       " 'stone1_carat_above_1.0_and_under_1.5',\n",
       " 'stone1_carat_above_1.5_and_under_2.0',\n",
       " 'stone1_carat_above_2.0_and_under_2.5',\n",
       " 'stone1_carat_above_2.5_and_under_3.0',\n",
       " 'stone1_carat_above_3.0_and_under_3.5',\n",
       " 'stone1_carat_above_3.5_and_under_4.0',\n",
       " 'stone1_carat_above_4.0_and_under_4.5',\n",
       " 'stone1_carat_above_4.5',\n",
       " 'Stone1_Color_Blue',\n",
       " 'Stone1_Color_Black',\n",
       " 'Stone1_Color_Bluish-Green',\n",
       " 'Stone1_Color_White',\n",
       " 'Stone1_Color_Yellow',\n",
       " 'Stone1_Color_Lapis',\n",
       " 'Stone1_Color_Multi-Color',\n",
       " 'Stone1_Color_Multi-Sapphire',\n",
       " 'Stone1_Color_Greenish-Blue',\n",
       " 'Stone1_Color_Pink',\n",
       " 'Stone1_Color_Red',\n",
       " 'Stone1_Color_Rose',\n",
       " 'Stone1_Color_Smokey',\n",
       " 'Stone1_Color_Turquoise',\n",
       " 'Stone1_Cut_Baguette',\n",
       " 'Stone1_Cut_Blue',\n",
       " 'Stone1_Cut_Cushion',\n",
       " 'Stone1_Cut_Emerald',\n",
       " 'Stone1_Cut_Fantasy',\n",
       " 'Stone1_Cut_Heart',\n",
       " 'Stone1_Cut_Marquise',\n",
       " 'Stone1_Cut_Multi-Shape',\n",
       " 'Stone1_Cut_Oval',\n",
       " 'Stone1_Cut_Pear',\n",
       " 'Stone1_Cut_Princess',\n",
       " 'Stone1_Cut_Rectangle',\n",
       " 'Stone1_Cut_Round',\n",
       " 'Stone1_Cut_Square',\n",
       " 'Stone1_Cut_Trillion']"
      ]
     },
     "execution_count": 6,
     "metadata": {},
     "output_type": "execute_result"
    }
   ],
   "source": [
    "model.X_columns"
   ]
  },
  {
   "cell_type": "code",
   "execution_count": 7,
   "metadata": {},
   "outputs": [],
   "source": [
    "X = df_gemstones[model.X_columns]\n",
    "y = df_gemstones.Price_Category"
   ]
  },
  {
   "cell_type": "code",
   "execution_count": 8,
   "metadata": {},
   "outputs": [
    {
     "data": {
      "text/plain": [
       "(534, 534)"
      ]
     },
     "execution_count": 8,
     "metadata": {},
     "output_type": "execute_result"
    }
   ],
   "source": [
    "len(X), len(y)"
   ]
  },
  {
   "cell_type": "code",
   "execution_count": 9,
   "metadata": {},
   "outputs": [
    {
     "data": {
      "text/plain": [
       "LogisticRegression(C=100, solver='liblinear')"
      ]
     },
     "execution_count": 9,
     "metadata": {},
     "output_type": "execute_result"
    }
   ],
   "source": [
    "model.fit(X,y)"
   ]
  },
  {
   "cell_type": "code",
   "execution_count": null,
   "metadata": {},
   "outputs": [],
   "source": []
  },
  {
   "cell_type": "code",
   "execution_count": 10,
   "metadata": {},
   "outputs": [],
   "source": [
    "filename= \"/Users/rupalgandhre/SpringBoard/DataScience_Capstone2/data/processed/Test_Gemstone_Rings.csv\"\n",
    "df_test = pd.read_csv(filename)"
   ]
  },
  {
   "cell_type": "code",
   "execution_count": 11,
   "metadata": {},
   "outputs": [],
   "source": [
    "X_test = df_test[model.X_columns]\n",
    "y_test = df_test.Price_Category"
   ]
  },
  {
   "cell_type": "code",
   "execution_count": 12,
   "metadata": {},
   "outputs": [],
   "source": [
    "model_pred = model.predict(X_test)"
   ]
  },
  {
   "cell_type": "code",
   "execution_count": 13,
   "metadata": {},
   "outputs": [
    {
     "data": {
      "text/plain": [
       "0      above_6000_under_8000\n",
       "1      above_4000_under_5000\n",
       "2                 under_2000\n",
       "3                 under_2000\n",
       "4                 under_2000\n",
       "               ...          \n",
       "371               under_2000\n",
       "372               under_2000\n",
       "373    above_3000_under_4000\n",
       "374               under_2000\n",
       "375               under_2000\n",
       "Name: Price_Category, Length: 376, dtype: object"
      ]
     },
     "execution_count": 13,
     "metadata": {},
     "output_type": "execute_result"
    }
   ],
   "source": [
    "y_test"
   ]
  },
  {
   "cell_type": "code",
   "execution_count": 14,
   "metadata": {},
   "outputs": [
    {
     "data": {
      "text/plain": [
       "array(['above_5000_under_6000', 'above_5000_under_6000', 'under_2000',\n",
       "       'under_2000', 'under_2000', 'under_2000', 'above_3000_under_4000',\n",
       "       'above_2000_under_3000', 'above_2000_under_3000',\n",
       "       'above_3000_under_4000', 'above_2000_under_3000',\n",
       "       'above_3000_under_4000', 'above_2000_under_3000',\n",
       "       'above_2000_under_3000', 'above_2000_under_3000',\n",
       "       'above_2000_under_3000', 'above_2000_under_3000',\n",
       "       'above_2000_under_3000', 'above_2000_under_3000',\n",
       "       'above_2000_under_3000', 'above_2000_under_3000', 'under_2000',\n",
       "       'above_2000_under_3000', 'above_2000_under_3000', 'under_2000',\n",
       "       'above_3000_under_4000', 'under_2000', 'above_6000_under_8000',\n",
       "       'above_3000_under_4000', 'above_3000_under_4000',\n",
       "       'above_6000_under_8000', 'above_3000_under_4000',\n",
       "       'above_3000_under_4000', 'above_3000_under_4000', 'under_2000',\n",
       "       'above_6000_under_8000', 'above_3000_under_4000',\n",
       "       'above_6000_under_8000', 'under_2000', 'above_3000_under_4000',\n",
       "       'above_6000_under_8000', 'above_3000_under_4000',\n",
       "       'above_6000_under_8000', 'above_6000_under_8000',\n",
       "       'above_3000_under_4000', 'above_3000_under_4000',\n",
       "       'above_6000_under_8000', 'above_6000_under_8000',\n",
       "       'above_3000_under_4000', 'above_3000_under_4000',\n",
       "       'above_6000_under_8000', 'above_6000_under_8000',\n",
       "       'above_3000_under_4000', 'under_2000', 'above_6000_under_8000',\n",
       "       'above_2000_under_3000', 'above_6000_under_8000',\n",
       "       'above_6000_under_8000', 'above_2000_under_3000',\n",
       "       'above_6000_under_8000', 'above_3000_under_4000',\n",
       "       'above_3000_under_4000', 'above_3000_under_4000',\n",
       "       'above_6000_under_8000', 'above_3000_under_4000',\n",
       "       'above_3000_under_4000', 'above_6000_under_8000',\n",
       "       'above_3000_under_4000', 'above_6000_under_8000',\n",
       "       'above_6000_under_8000', 'above_3000_under_4000',\n",
       "       'above_3000_under_4000', 'above_3000_under_4000',\n",
       "       'above_2000_under_3000', 'above_3000_under_4000',\n",
       "       'above_3000_under_4000', 'above_2000_under_3000',\n",
       "       'above_3000_under_4000', 'above_3000_under_4000',\n",
       "       'above_3000_under_4000', 'above_6000_under_8000',\n",
       "       'above_3000_under_4000', 'above_6000_under_8000',\n",
       "       'above_6000_under_8000', 'above_6000_under_8000',\n",
       "       'above_3000_under_4000', 'above_6000_under_8000',\n",
       "       'above_3000_under_4000', 'under_2000', 'above_3000_under_4000',\n",
       "       'above_3000_under_4000', 'above_2000_under_3000',\n",
       "       'above_3000_under_4000', 'above_2000_under_3000', 'under_2000',\n",
       "       'under_2000', 'above_3000_under_4000', 'above_2000_under_3000',\n",
       "       'above_2000_under_3000', 'above_3000_under_4000',\n",
       "       'above_2000_under_3000', 'above_3000_under_4000', 'under_2000',\n",
       "       'above_2000_under_3000', 'above_3000_under_4000',\n",
       "       'above_2000_under_3000', 'above_2000_under_3000', 'under_2000',\n",
       "       'under_2000', 'under_2000', 'above_2000_under_3000',\n",
       "       'above_2000_under_3000', 'above_2000_under_3000',\n",
       "       'above_2000_under_3000', 'above_2000_under_3000',\n",
       "       'above_2000_under_3000', 'above_2000_under_3000',\n",
       "       'above_3000_under_4000', 'above_3000_under_4000',\n",
       "       'above_3000_under_4000', 'above_3000_under_4000',\n",
       "       'above_3000_under_4000', 'under_2000', 'above_3000_under_4000',\n",
       "       'above_3000_under_4000', 'above_3000_under_4000',\n",
       "       'above_3000_under_4000', 'above_2000_under_3000', 'under_2000',\n",
       "       'above_2000_under_3000', 'above_3000_under_4000',\n",
       "       'above_3000_under_4000', 'above_3000_under_4000',\n",
       "       'above_3000_under_4000', 'above_3000_under_4000',\n",
       "       'above_3000_under_4000', 'above_3000_under_4000',\n",
       "       'above_3000_under_4000', 'above_3000_under_4000',\n",
       "       'above_2000_under_3000', 'above_2000_under_3000',\n",
       "       'above_3000_under_4000', 'above_2000_under_3000',\n",
       "       'above_3000_under_4000', 'above_3000_under_4000',\n",
       "       'above_3000_under_4000', 'above_3000_under_4000',\n",
       "       'above_2000_under_3000', 'above_3000_under_4000',\n",
       "       'above_3000_under_4000', 'above_3000_under_4000',\n",
       "       'above_3000_under_4000', 'above_2000_under_3000',\n",
       "       'above_3000_under_4000', 'above_3000_under_4000', 'under_2000',\n",
       "       'above_3000_under_4000', 'above_3000_under_4000',\n",
       "       'above_3000_under_4000', 'under_2000', 'under_2000', 'under_2000',\n",
       "       'above_2000_under_3000', 'above_3000_under_4000',\n",
       "       'above_3000_under_4000', 'above_2000_under_3000',\n",
       "       'above_2000_under_3000', 'under_2000', 'under_2000', 'under_2000',\n",
       "       'under_2000', 'above_2000_under_3000', 'above_3000_under_4000',\n",
       "       'under_2000', 'above_3000_under_4000', 'above_3000_under_4000',\n",
       "       'above_3000_under_4000', 'under_2000', 'above_3000_under_4000',\n",
       "       'under_2000', 'under_2000', 'under_2000', 'above_2000_under_3000',\n",
       "       'under_2000', 'under_2000', 'under_2000', 'under_2000',\n",
       "       'under_2000', 'under_2000', 'under_2000', 'under_2000',\n",
       "       'under_2000', 'under_2000', 'above_2000_under_3000', 'under_2000',\n",
       "       'under_2000', 'above_2000_under_3000', 'above_2000_under_3000',\n",
       "       'above_2000_under_3000', 'under_2000', 'under_2000',\n",
       "       'above_2000_under_3000', 'above_2000_under_3000', 'under_2000',\n",
       "       'above_2000_under_3000', 'under_2000', 'under_2000', 'above_8000',\n",
       "       'above_2000_under_3000', 'above_2000_under_3000', 'under_2000',\n",
       "       'above_6000_under_8000', 'under_2000', 'under_2000', 'under_2000',\n",
       "       'under_2000', 'above_2000_under_3000', 'above_5000_under_6000',\n",
       "       'above_2000_under_3000', 'above_2000_under_3000',\n",
       "       'above_3000_under_4000', 'above_2000_under_3000',\n",
       "       'above_2000_under_3000', 'above_2000_under_3000',\n",
       "       'above_2000_under_3000', 'above_2000_under_3000',\n",
       "       'above_5000_under_6000', 'above_5000_under_6000', 'under_2000',\n",
       "       'above_5000_under_6000', 'above_2000_under_3000',\n",
       "       'above_2000_under_3000', 'under_2000', 'above_5000_under_6000',\n",
       "       'under_2000', 'under_2000', 'above_2000_under_3000',\n",
       "       'above_2000_under_3000', 'under_2000', 'under_2000',\n",
       "       'above_2000_under_3000', 'above_2000_under_3000',\n",
       "       'above_2000_under_3000', 'above_2000_under_3000', 'under_2000',\n",
       "       'under_2000', 'above_5000_under_6000', 'under_2000', 'under_2000',\n",
       "       'under_2000', 'above_3000_under_4000', 'above_3000_under_4000',\n",
       "       'under_2000', 'under_2000', 'under_2000', 'under_2000',\n",
       "       'above_3000_under_4000', 'under_2000', 'above_5000_under_6000',\n",
       "       'under_2000', 'under_2000', 'above_3000_under_4000', 'under_2000',\n",
       "       'under_2000', 'above_3000_under_4000', 'above_3000_under_4000',\n",
       "       'above_3000_under_4000', 'under_2000', 'under_2000',\n",
       "       'above_3000_under_4000', 'above_3000_under_4000',\n",
       "       'above_3000_under_4000', 'under_2000', 'under_2000', 'under_2000',\n",
       "       'under_2000', 'above_3000_under_4000', 'under_2000', 'under_2000',\n",
       "       'under_2000', 'above_3000_under_4000', 'above_3000_under_4000',\n",
       "       'under_2000', 'above_3000_under_4000', 'under_2000', 'under_2000',\n",
       "       'above_2000_under_3000', 'above_2000_under_3000', 'above_8000',\n",
       "       'above_8000', 'above_8000', 'under_2000', 'above_8000',\n",
       "       'under_2000', 'above_2000_under_3000', 'above_8000', 'above_8000',\n",
       "       'under_2000', 'above_3000_under_4000', 'above_2000_under_3000',\n",
       "       'above_8000', 'under_2000', 'above_8000', 'above_8000',\n",
       "       'above_2000_under_3000', 'above_8000', 'above_8000',\n",
       "       'above_3000_under_4000', 'above_8000', 'above_2000_under_3000',\n",
       "       'above_8000', 'above_8000', 'under_2000', 'above_8000',\n",
       "       'under_2000', 'above_2000_under_3000', 'above_2000_under_3000',\n",
       "       'above_2000_under_3000', 'under_2000', 'above_8000', 'above_8000',\n",
       "       'above_8000', 'above_8000', 'under_2000', 'above_8000',\n",
       "       'above_8000', 'above_2000_under_3000', 'above_8000', 'above_8000',\n",
       "       'above_2000_under_3000', 'above_8000', 'above_8000', 'above_8000',\n",
       "       'under_2000', 'above_8000', 'above_8000', 'above_2000_under_3000',\n",
       "       'above_8000', 'under_2000', 'above_8000', 'above_2000_under_3000',\n",
       "       'above_8000', 'above_8000', 'above_8000', 'under_2000',\n",
       "       'above_8000', 'above_8000', 'above_2000_under_3000', 'under_2000',\n",
       "       'under_2000', 'under_2000', 'under_2000', 'under_2000',\n",
       "       'under_2000', 'under_2000', 'under_2000', 'under_2000',\n",
       "       'under_2000', 'under_2000', 'under_2000', 'under_2000',\n",
       "       'under_2000', 'under_2000', 'under_2000', 'under_2000',\n",
       "       'under_2000', 'under_2000', 'under_2000', 'under_2000',\n",
       "       'under_2000', 'under_2000', 'under_2000', 'under_2000',\n",
       "       'under_2000', 'under_2000', 'under_2000'], dtype=object)"
      ]
     },
     "execution_count": 14,
     "metadata": {},
     "output_type": "execute_result"
    }
   ],
   "source": [
    "model_pred"
   ]
  },
  {
   "cell_type": "code",
   "execution_count": null,
   "metadata": {},
   "outputs": [],
   "source": []
  }
 ],
 "metadata": {
  "kernelspec": {
   "display_name": "Python 3",
   "language": "python",
   "name": "python3"
  },
  "language_info": {
   "codemirror_mode": {
    "name": "ipython",
    "version": 3
   },
   "file_extension": ".py",
   "mimetype": "text/x-python",
   "name": "python",
   "nbconvert_exporter": "python",
   "pygments_lexer": "ipython3",
   "version": "3.8.2"
  }
 },
 "nbformat": 4,
 "nbformat_minor": 4
}
