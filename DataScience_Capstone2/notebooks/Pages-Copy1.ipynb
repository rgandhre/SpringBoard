{
 "cells": [
  {
   "cell_type": "code",
   "execution_count": 1,
   "metadata": {},
   "outputs": [],
   "source": [
    "import requests\n",
    "from bs4 import BeautifulSoup\n",
    "from numpy import nan\n",
    "import pandas as pd"
   ]
  },
  {
   "cell_type": "code",
   "execution_count": null,
   "metadata": {},
   "outputs": [],
   "source": []
  },
  {
   "cell_type": "code",
   "execution_count": 2,
   "metadata": {},
   "outputs": [],
   "source": [
    "def getsoup(url):\n",
    "    response = requests.get(url)\n",
    "    print('response',response)\n",
    "    print('url', url)\n",
    "    html_doc = response.text\n",
    "    soup = BeautifulSoup(html_doc,'html.parser')\n",
    "    return soup\n"
   ]
  },
  {
   "cell_type": "code",
   "execution_count": 3,
   "metadata": {},
   "outputs": [],
   "source": [
    "def elementdata(soup):\n",
    "    data = {}\n",
    "\n",
    "    try: \n",
    "        description = soup.find('h1',{'class':'product__header'}).string\n",
    "        data['Description'] = description\n",
    "    except AttributeError:\n",
    "        data['Description'] = nan\n",
    "\n",
    "    try:\n",
    "        discount_price = soup.find('span',{'class':'product__price'}).string.strip()\n",
    "        discount_price = discount_price.replace(',','')\n",
    "        data['Discount_Price'] = float(discount_price.strip('$'))\n",
    "    except AttributeError:\n",
    "        data['Discount_Price'] = nan\n",
    "\n",
    "    try:\n",
    "        price = soup.find('span',{'class':'product__compare-at'}).string.strip()\n",
    "        price = price.replace(',','')\n",
    "        data['Price'] = float(price.strip('$'))\n",
    "    except:\n",
    "        data['Price'] = nan\n",
    "\n",
    "\n",
    "    try:\n",
    "        specs = soup.find('div',{'id':'toggle-product__description'})\n",
    "        details = [detail.text for detail in specs.find_all('p')]\n",
    "        details = [detail.text for detail in specs]\n",
    "        print(\"details\",details)\n",
    "        stone_flag = False \n",
    "        stone_string = \"\"\n",
    "    \n",
    "        for item in range(len(details)):\n",
    "  #          print(\"details\",details[item])\n",
    "            if 'Stones' in details[item]:\n",
    "                stone_flag = True\n",
    "                if ':' in details[item]:\n",
    "  #                  print(\"Inside stone first flag true and : \")\n",
    "                    try:\n",
    "                        metal_col, metal_type = details[item].split(':')\n",
    "                        data[metal_col] = metal_type.strip()\n",
    "                    except ValueError:\n",
    "                        print(\"ValueError: too many values to unpack (expected 2)\", details[item])\n",
    "                        pass\n",
    "                continue\n",
    "            \n",
    "   #         print(\"No continue \")\n",
    "            if stone_flag == True:\n",
    "                if ':' in details[item]:\n",
    "    #                print(\"Inside stone flag true and : \")\n",
    "                    stone_flag = False\n",
    "                else:\n",
    "     #               print(print(\"Inside stone flag true and else \"))\n",
    "                    stone_string = details[item]\n",
    "                    data[metal_col] = data[metal_col] + ',' + stone_string\n",
    "                    \n",
    "            if stone_flag != True:\n",
    "                if ':' in details[item]:\n",
    "      #              print(\"Inside stone flag false and : \")\n",
    "                    try:\n",
    "                        metal_col, metal_type = details[item].split(':')\n",
    "                        data[metal_col] = metal_type.strip()\n",
    "                    except ValueError:\n",
    "                        total_semi = details[item].count(':')\n",
    "                        \n",
    "                        all_col = details[item].split('.')\n",
    "                        \n",
    "                        print(\"all_Col\",all_col)\n",
    "                        \n",
    "                        for i in range(0, total_semi):\n",
    "                            if ':' in all_col[i]:\n",
    "                                try:\n",
    "                                    metal_col, metal_type = all_col[i].split(':')\n",
    "                                    data[metal_col] = metal_type.strip()\n",
    "                                except (ValueError, IndexError):\n",
    "                                    print(\"ValueError1: too many values to unpack (expected 2)\",all_col[i])\n",
    "                                    break\n",
    "                            else:\n",
    "                                data['Information'] = all_col[i].strip()\n",
    "                else:\n",
    "       #             print(\"Inside stone flag false and information \")\n",
    "                    data['Information'] = details[item].strip()\n",
    "\n",
    "    except AttributeError:\n",
    "        pass\n",
    "\n",
    "    return data"
   ]
  },
  {
   "cell_type": "code",
   "execution_count": 4,
   "metadata": {},
   "outputs": [],
   "source": [
    "def getdata(filename):\n",
    "    element_data = []\n",
    "    with open(filename, \"r\") as file:\n",
    "        for url in file:\n",
    "            soup=getsoup(url.strip())\n",
    "            element_data.append(elementdata(soup))\n",
    "    return element_data"
   ]
  },
  {
   "cell_type": "markdown",
   "metadata": {},
   "source": [
    "## Get Data for Earrings"
   ]
  },
  {
   "cell_type": "code",
   "execution_count": null,
   "metadata": {
    "scrolled": false
   },
   "outputs": [],
   "source": [
    "#df_earrings = pd.DataFrame(getdata('effy_earrings.txt'))\n",
    "\n",
    "#df_earrings['Jewelry_Type'] = 'Earrings'\n",
    "#df_earrings['Sex'] = 'Women' \n",
    "        \n",
    "#df_earrings.count()"
   ]
  },
  {
   "cell_type": "code",
   "execution_count": null,
   "metadata": {},
   "outputs": [],
   "source": [
    "#Copy the data to csv file \n",
    "#df_earrings.to_csv(\"effy_earrings.csv\", index=False, header=True)"
   ]
  },
  {
   "cell_type": "markdown",
   "metadata": {},
   "source": [
    "## Get data for Rings"
   ]
  },
  {
   "cell_type": "code",
   "execution_count": null,
   "metadata": {
    "scrolled": true
   },
   "outputs": [],
   "source": [
    "#get Rings data\n",
    "#df_rings = pd.DataFrame(getdata('effy_rings.txt'))\n"
   ]
  },
  {
   "cell_type": "code",
   "execution_count": null,
   "metadata": {},
   "outputs": [],
   "source": [
    "\n",
    "#df_rings['Jewelry_Type'] = 'Rings'\n",
    "#df_rings['Sex'] = 'Women' \n",
    "           \n",
    "#df_rings.head(1)"
   ]
  },
  {
   "cell_type": "code",
   "execution_count": null,
   "metadata": {},
   "outputs": [],
   "source": [
    "#Copy data to csv file \n",
    "df_rings.to_csv(\"effy_rings.csv\", index=False, header=True)\n"
   ]
  },
  {
   "cell_type": "markdown",
   "metadata": {},
   "source": [
    "## Get data for Bracelets "
   ]
  },
  {
   "cell_type": "code",
   "execution_count": null,
   "metadata": {
    "scrolled": false
   },
   "outputs": [],
   "source": [
    "#df_bracelets = pd.DataFrame(getdata('effy_bracelets.txt'))\n",
    "\n",
    "#df_bracelets['Jewelry_Type'] = 'Bracelets'\n",
    "#df_bracelets['Sex'] = 'Women' \n",
    "\n"
   ]
  },
  {
   "cell_type": "code",
   "execution_count": null,
   "metadata": {
    "scrolled": false
   },
   "outputs": [],
   "source": [
    "df_bracelets.head(1)"
   ]
  },
  {
   "cell_type": "code",
   "execution_count": null,
   "metadata": {},
   "outputs": [],
   "source": [
    "\n",
    "df_bracelets.to_csv(\"effy_bracelets.csv\", index=False, header=True)\n"
   ]
  },
  {
   "cell_type": "markdown",
   "metadata": {},
   "source": [
    "## Get Necklace and Pendant Data"
   ]
  },
  {
   "cell_type": "code",
   "execution_count": null,
   "metadata": {
    "scrolled": false
   },
   "outputs": [
    {
     "name": "stdout",
     "output_type": "stream",
     "text": [
      "response <Response [200]>\n",
      "url https://www.effyjewelry.com/collections/necklaces-pendants/products/effy-watercolors-14k-white-gold-multi-sapphire-diamond-pendant-1-17-tcw\n",
      "response <Response [200]>\n",
      "url https://www.effyjewelry.com/collections/necklaces-pendants/products/effy-14k-yellow-gold-diamond-station-necklace-1-35-tcw\n",
      "response <Response [200]>\n",
      "url https://www.effyjewelry.com/collections/necklaces-pendants/products/effy-signature-14k-white-gold-diamond-panther-necklace-4-51-tcw\n",
      "response <Response [200]>\n",
      "url https://www.effyjewelry.com/collections/necklaces-pendants/products/effy-brasilica-14k-yellow-gold-emerald-and-diamond-necklace-9-74-tcw\n",
      "response <Response [200]>\n",
      "url https://www.effyjewelry.com/collections/necklaces-pendants/products/effy-novelty-14k-rose-gold-ruby-and-diamond-evil-eye-pendant-0-39-tcw\n",
      "response <Response [200]>\n",
      "url https://www.effyjewelry.com/collections/necklaces-pendants/products/effy-novelty-14k-gold-ruby-sapphire-diamond-eagle-head-pendant-1-06-tcw\n",
      "response <Response [200]>\n",
      "url https://www.effyjewelry.com/collections/necklaces-pendants/products/effy-novelty-14k-yellow-gold-sapphire-diamond-evil-eye-pendant-0-42-tcw\n",
      "response <Response [200]>\n",
      "url https://www.effyjewelry.com/collections/necklaces-pendants/products/effy-pave-rose-14k-rose-gold-diamond-station-necklace-0-69-tcw\n",
      "response <Response [200]>\n",
      "url https://www.effyjewelry.com/collections/necklaces-pendants/products/effy-watercolors-14k-gold-sapphire-diamond-vertical-pendant-2-06-tcw\n",
      "response <Response [200]>\n",
      "url https://www.effyjewelry.com/collections/necklaces-pendants/products/effy-novelty-14k-white-gold-diamond-palm-tree-necklace-0-23-tcw\n",
      "response <Response [200]>\n",
      "url https://www.effyjewelry.com/collections/necklaces-pendants/products/effy-watercolors-14k-white-gold-multi-sapphire-diamond-necklace-11-31-tcw\n",
      "response <Response [200]>\n",
      "url https://www.effyjewelry.com/collections/necklaces-pendants/products/effy-royale-bleu-14k-white-gold-sapphire-and-diamond-necklace-11-21-tcw\n",
      "response <Response [200]>\n",
      "url https://www.effyjewelry.com/collections/necklaces-pendants/products/effy-doro-14k-yellow-gold-diamond-necklace-0-90-tcw\n",
      "response <Response [200]>\n",
      "url https://www.effyjewelry.com/collections/necklaces-pendants/products/effy-watercolors-14k-gold-multi-sapphire-diamond-wave-pendant-1-63-tcw\n",
      "response <Response [200]>\n",
      "url https://www.effyjewelry.com/collections/necklaces-pendants/products/effy-novelty-14k-white-gold-diamond-ribbon-pendant-0-18-tcw\n",
      "response <Response [200]>\n",
      "url https://www.effyjewelry.com/collections/necklaces-pendants/products/effy-novelty-14k-gold-turquoise-diamond-evil-eye-necklace-1-14-tcw\n",
      "response <Response [200]>\n",
      "url https://www.effyjewelry.com/collections/necklaces-pendants/products/effy-pave-classica-14k-white-gold-diamond-pendant-0-32-tcw-1\n",
      "response <Response [200]>\n",
      "url https://www.effyjewelry.com/collections/necklaces-pendants/products/effy-bouquet-14k-white-gold-diamond-pendant-0-53-tcw\n",
      "response <Response [200]>\n",
      "url https://www.effyjewelry.com/collections/necklaces-pendants/products/effy-classique-14k-white-gold-diamond-necklace-4-16-tcw\n",
      "response <Response [200]>\n",
      "url https://www.effyjewelry.com/collections/necklaces-pendants/products/effy-seaside-14k-white-gold-diamond-anchor-pendant-0-21\n",
      "response <Response [200]>\n",
      "url https://www.effyjewelry.com/collections/necklaces-pendants/products/effy-seaside-14k-white-gold-sapphire-and-diamond-anchor-pendant-0-29-tcw\n",
      "response <Response [200]>\n",
      "url https://www.effyjewelry.com/collections/necklaces-pendants/products/effy-seaside-14k-two-tone-gold-diamond-anchor-pendant-0-18-tcw\n",
      "response <Response [200]>\n",
      "url https://www.effyjewelry.com/collections/necklaces-pendants/products/effy-bouquet-14k-white-gold-diamond-cluster-double-halo-pendant-0-71-tcw\n",
      "response <Response [200]>\n",
      "url https://www.effyjewelry.com/collections/necklaces-pendants/products/effy-watercolors-14k-yellow-gold-multi-sapphire-starfish-pendant-0-80-tcw\n",
      "response <Response [200]>\n",
      "url https://www.effyjewelry.com/collections/necklaces-pendants/products/effy-seaside-14k-yellow-gold-diamond-whales-tail-pendant-0-05-tcw\n",
      "response <Response [200]>\n",
      "url https://www.effyjewelry.com/collections/necklaces-pendants/products/effy-watercolors-14k-gold-multi-sapphire-diamond-anchor-pendant-0-76-tcw\n",
      "response <Response [200]>\n",
      "url https://www.effyjewelry.com/collections/necklaces-pendants/products/effy-seaside-14k-yellow-gold-diamond-whales-tail-pendant-0-28-tcw\n",
      "response <Response [200]>\n",
      "url https://www.effyjewelry.com/collections/necklaces-pendants/products/effy-seaside-14k-yellow-gold-blue-diamond-whales-tail-pendant-0-05-tcw\n",
      "response <Response [200]>\n",
      "url https://www.effyjewelry.com/collections/necklaces-pendants/products/effy-novelty-sterling-silver-blue-sapphire-anchor-pendant-1-44-tcw\n",
      "response <Response [200]>\n",
      "url https://www.effyjewelry.com/collections/necklaces-pendants/products/effy-seaside-sterling-silver-sapphire-starfish-pendant-0-15-tcw\n",
      "response <Response [200]>\n",
      "url https://www.effyjewelry.com/collections/necklaces-pendants/products/effy-splash-sterling-silver-multi-sapphire-necklace-0-95-tcw\n"
     ]
    }
   ],
   "source": [
    "\n",
    "df_neck_pend = pd.DataFrame(getdata('/Users/rupalgandhre/SpringBoard/DataScience_Capstone2/data/raw/effy_neck_pend.txt'))\n",
    "\n",
    "df_neck_pend['Jewelry_Type'] = 'Necklace and Pendant'\n",
    "df_neck_pend['Sex'] = 'Women' \n",
    "           \n"
   ]
  },
  {
   "cell_type": "code",
   "execution_count": null,
   "metadata": {},
   "outputs": [],
   "source": [
    "df_neck_pend.head(1)"
   ]
  },
  {
   "cell_type": "code",
   "execution_count": null,
   "metadata": {},
   "outputs": [],
   "source": [
    "df_neck_pend.to_csv(\"effy_neck_pend.csv\", index=False, header=True)\n"
   ]
  },
  {
   "cell_type": "markdown",
   "metadata": {},
   "source": [
    "## Concat all the dataframes"
   ]
  },
  {
   "cell_type": "code",
   "execution_count": null,
   "metadata": {},
   "outputs": [],
   "source": [
    "\n",
    "\n",
    "frames = [df_earrings,df_rings,df_bracelets,df_neck_pend]\n",
    "\n",
    "result = pd.concat(frames)\n",
    "\n",
    "result.to_csv(\"effy_all_jewelry_cat.csv\", index=False, header=True)"
   ]
  },
  {
   "cell_type": "code",
   "execution_count": null,
   "metadata": {},
   "outputs": [],
   "source": []
  },
  {
   "cell_type": "code",
   "execution_count": null,
   "metadata": {},
   "outputs": [],
   "source": []
  },
  {
   "cell_type": "code",
   "execution_count": null,
   "metadata": {},
   "outputs": [],
   "source": []
  },
  {
   "cell_type": "code",
   "execution_count": null,
   "metadata": {},
   "outputs": [],
   "source": []
  },
  {
   "cell_type": "code",
   "execution_count": null,
   "metadata": {},
   "outputs": [],
   "source": []
  },
  {
   "cell_type": "code",
   "execution_count": null,
   "metadata": {},
   "outputs": [],
   "source": []
  },
  {
   "cell_type": "code",
   "execution_count": null,
   "metadata": {},
   "outputs": [],
   "source": []
  },
  {
   "cell_type": "code",
   "execution_count": null,
   "metadata": {},
   "outputs": [],
   "source": []
  },
  {
   "cell_type": "code",
   "execution_count": null,
   "metadata": {},
   "outputs": [],
   "source": []
  },
  {
   "cell_type": "code",
   "execution_count": null,
   "metadata": {},
   "outputs": [],
   "source": []
  },
  {
   "cell_type": "code",
   "execution_count": null,
   "metadata": {},
   "outputs": [],
   "source": []
  },
  {
   "cell_type": "code",
   "execution_count": null,
   "metadata": {},
   "outputs": [],
   "source": []
  },
  {
   "cell_type": "code",
   "execution_count": null,
   "metadata": {},
   "outputs": [],
   "source": []
  },
  {
   "cell_type": "code",
   "execution_count": null,
   "metadata": {},
   "outputs": [],
   "source": []
  },
  {
   "cell_type": "code",
   "execution_count": null,
   "metadata": {},
   "outputs": [],
   "source": []
  },
  {
   "cell_type": "code",
   "execution_count": null,
   "metadata": {},
   "outputs": [],
   "source": []
  },
  {
   "cell_type": "code",
   "execution_count": null,
   "metadata": {},
   "outputs": [],
   "source": []
  },
  {
   "cell_type": "code",
   "execution_count": null,
   "metadata": {},
   "outputs": [],
   "source": []
  },
  {
   "cell_type": "code",
   "execution_count": null,
   "metadata": {},
   "outputs": [],
   "source": []
  }
 ],
 "metadata": {
  "kernelspec": {
   "display_name": "Python 3",
   "language": "python",
   "name": "python3"
  },
  "language_info": {
   "codemirror_mode": {
    "name": "ipython",
    "version": 3
   },
   "file_extension": ".py",
   "mimetype": "text/x-python",
   "name": "python",
   "nbconvert_exporter": "python",
   "pygments_lexer": "ipython3",
   "version": "3.8.5"
  }
 },
 "nbformat": 4,
 "nbformat_minor": 5
}
