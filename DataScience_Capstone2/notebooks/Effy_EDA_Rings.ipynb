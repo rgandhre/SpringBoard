{
 "cells": [
  {
   "cell_type": "markdown",
   "metadata": {},
   "source": [
    "## Exploratory Analysis for Jewelry_Type = 'Rings'"
   ]
  },
  {
   "cell_type": "code",
   "execution_count": 1,
   "metadata": {},
   "outputs": [],
   "source": [
    "import pandas as pd\n",
    "import numpy as np\n",
    "import matplotlib.pyplot as plt\n",
    "from numpy import nan\n",
    "import json\n",
    "import re\n",
    "import seaborn as sns\n",
    "\n",
    "import statsmodels.api as sm # What does this do? Find out and type here.\n",
    "from statsmodels.graphics.api import abline_plot # What does this do? Find out and type here.\n",
    "from sklearn.metrics import mean_squared_error, r2_score, mean_absolute_error # What does this do? Find out and type here.\n",
    "from sklearn.model_selection import train_test_split, cross_validate, GridSearchCV, learning_curve #  What does this do? Find out and type here.\n",
    "from sklearn import linear_model, preprocessing # What does this do? Find out and type here.\n",
    "import warnings # For handling error messages.\n",
    "# Don't worry about the following two instructions: they just suppress warnings that could occur later. \n",
    "warnings.simplefilter(action=\"ignore\", category=FutureWarning)\n",
    "warnings.filterwarnings(action=\"ignore\", module=\"scipy\", message=\"^internal gelsd\")\n",
    "\n",
    "from sklearn.pipeline import make_pipeline\n",
    "from sklearn.impute import SimpleImputer\n",
    "from sklearn.feature_selection import SelectKBest, f_regression\n",
    "from sklearn.linear_model import LogisticRegression\n",
    "from sklearn.linear_model import LinearRegression\n",
    "from sklearn.preprocessing import StandardScaler, MinMaxScaler\n",
    "from sklearn.metrics import accuracy_score\n",
    "\n",
    "\n",
    "#Create label for price\n",
    "pd.set_option('display.max_columns', None)\n",
    "pd.set_option('display.max_rows', None)\n",
    "#used for expanding the no o viible columns of dataframe\n"
   ]
  },
  {
   "cell_type": "code",
   "execution_count": 2,
   "metadata": {},
   "outputs": [],
   "source": [
    "pd.set_option('display.max_colwidth', None)"
   ]
  },
  {
   "cell_type": "code",
   "execution_count": 3,
   "metadata": {},
   "outputs": [],
   "source": [
    "filename = '/Users/rupalgandhre/SpringBoard/DataScience_Capstone2/data/raw/effy_clean_split_data.csv'\n",
    "df = pd.read_csv(filename )"
   ]
  },
  {
   "cell_type": "code",
   "execution_count": 4,
   "metadata": {},
   "outputs": [
    {
     "data": {
      "text/plain": [
       "Rings                   1104\n",
       "Necklace and Pendant     690\n",
       "Earrings                 413\n",
       "Bracelets                234\n",
       "Name: Jewelry_Type, dtype: int64"
      ]
     },
     "execution_count": 4,
     "metadata": {},
     "output_type": "execute_result"
    }
   ],
   "source": [
    "df['Jewelry_Type'].value_counts()"
   ]
  },
  {
   "cell_type": "code",
   "execution_count": 5,
   "metadata": {},
   "outputs": [
    {
     "data": {
      "text/html": [
       "<div>\n",
       "<style scoped>\n",
       "    .dataframe tbody tr th:only-of-type {\n",
       "        vertical-align: middle;\n",
       "    }\n",
       "\n",
       "    .dataframe tbody tr th {\n",
       "        vertical-align: top;\n",
       "    }\n",
       "\n",
       "    .dataframe thead th {\n",
       "        text-align: right;\n",
       "    }\n",
       "</style>\n",
       "<table border=\"1\" class=\"dataframe\">\n",
       "  <thead>\n",
       "    <tr style=\"text-align: right;\">\n",
       "      <th></th>\n",
       "      <th>Discount_Price</th>\n",
       "      <th>Price</th>\n",
       "      <th>Product_Carat</th>\n",
       "      <th>Stone1_Carat</th>\n",
       "      <th>Stone2_Carat</th>\n",
       "      <th>Stone3_Carat</th>\n",
       "      <th>Stone4_Carat</th>\n",
       "      <th>Stone5_Carat</th>\n",
       "      <th>Stone6_Carat</th>\n",
       "    </tr>\n",
       "  </thead>\n",
       "  <tbody>\n",
       "    <tr>\n",
       "      <th>count</th>\n",
       "      <td>1104.000000</td>\n",
       "      <td>1104.000000</td>\n",
       "      <td>1104.000000</td>\n",
       "      <td>1104.000000</td>\n",
       "      <td>580.000000</td>\n",
       "      <td>28.000000</td>\n",
       "      <td>3.000000</td>\n",
       "      <td>2.0</td>\n",
       "      <td>1.0</td>\n",
       "    </tr>\n",
       "    <tr>\n",
       "      <th>mean</th>\n",
       "      <td>2912.287591</td>\n",
       "      <td>4591.213768</td>\n",
       "      <td>1.966014</td>\n",
       "      <td>1.803931</td>\n",
       "      <td>0.395328</td>\n",
       "      <td>0.413571</td>\n",
       "      <td>0.023333</td>\n",
       "      <td>0.0</td>\n",
       "      <td>0.0</td>\n",
       "    </tr>\n",
       "    <tr>\n",
       "      <th>std</th>\n",
       "      <td>3415.502234</td>\n",
       "      <td>5131.953538</td>\n",
       "      <td>2.245148</td>\n",
       "      <td>2.233570</td>\n",
       "      <td>0.512195</td>\n",
       "      <td>1.103809</td>\n",
       "      <td>0.040415</td>\n",
       "      <td>0.0</td>\n",
       "      <td>NaN</td>\n",
       "    </tr>\n",
       "    <tr>\n",
       "      <th>min</th>\n",
       "      <td>157.500000</td>\n",
       "      <td>225.000000</td>\n",
       "      <td>0.000000</td>\n",
       "      <td>0.000000</td>\n",
       "      <td>0.000000</td>\n",
       "      <td>0.000000</td>\n",
       "      <td>0.000000</td>\n",
       "      <td>0.0</td>\n",
       "      <td>0.0</td>\n",
       "    </tr>\n",
       "    <tr>\n",
       "      <th>25%</th>\n",
       "      <td>1396.500000</td>\n",
       "      <td>2195.000000</td>\n",
       "      <td>0.650000</td>\n",
       "      <td>0.550000</td>\n",
       "      <td>0.130000</td>\n",
       "      <td>0.000000</td>\n",
       "      <td>0.000000</td>\n",
       "      <td>0.0</td>\n",
       "      <td>0.0</td>\n",
       "    </tr>\n",
       "    <tr>\n",
       "      <th>50%</th>\n",
       "      <td>2215.000000</td>\n",
       "      <td>3495.000000</td>\n",
       "      <td>1.360000</td>\n",
       "      <td>1.140000</td>\n",
       "      <td>0.270000</td>\n",
       "      <td>0.045000</td>\n",
       "      <td>0.000000</td>\n",
       "      <td>0.0</td>\n",
       "      <td>0.0</td>\n",
       "    </tr>\n",
       "    <tr>\n",
       "      <th>75%</th>\n",
       "      <td>3297.500000</td>\n",
       "      <td>5500.000000</td>\n",
       "      <td>2.372500</td>\n",
       "      <td>2.100000</td>\n",
       "      <td>0.470000</td>\n",
       "      <td>0.160000</td>\n",
       "      <td>0.035000</td>\n",
       "      <td>0.0</td>\n",
       "      <td>0.0</td>\n",
       "    </tr>\n",
       "    <tr>\n",
       "      <th>max</th>\n",
       "      <td>56350.000000</td>\n",
       "      <td>80500.000000</td>\n",
       "      <td>23.360000</td>\n",
       "      <td>21.160000</td>\n",
       "      <td>4.990000</td>\n",
       "      <td>5.000000</td>\n",
       "      <td>0.070000</td>\n",
       "      <td>0.0</td>\n",
       "      <td>0.0</td>\n",
       "    </tr>\n",
       "  </tbody>\n",
       "</table>\n",
       "</div>"
      ],
      "text/plain": [
       "       Discount_Price         Price  Product_Carat  Stone1_Carat  \\\n",
       "count     1104.000000   1104.000000    1104.000000   1104.000000   \n",
       "mean      2912.287591   4591.213768       1.966014      1.803931   \n",
       "std       3415.502234   5131.953538       2.245148      2.233570   \n",
       "min        157.500000    225.000000       0.000000      0.000000   \n",
       "25%       1396.500000   2195.000000       0.650000      0.550000   \n",
       "50%       2215.000000   3495.000000       1.360000      1.140000   \n",
       "75%       3297.500000   5500.000000       2.372500      2.100000   \n",
       "max      56350.000000  80500.000000      23.360000     21.160000   \n",
       "\n",
       "       Stone2_Carat  Stone3_Carat  Stone4_Carat  Stone5_Carat  Stone6_Carat  \n",
       "count    580.000000     28.000000      3.000000           2.0           1.0  \n",
       "mean       0.395328      0.413571      0.023333           0.0           0.0  \n",
       "std        0.512195      1.103809      0.040415           0.0           NaN  \n",
       "min        0.000000      0.000000      0.000000           0.0           0.0  \n",
       "25%        0.130000      0.000000      0.000000           0.0           0.0  \n",
       "50%        0.270000      0.045000      0.000000           0.0           0.0  \n",
       "75%        0.470000      0.160000      0.035000           0.0           0.0  \n",
       "max        4.990000      5.000000      0.070000           0.0           0.0  "
      ]
     },
     "execution_count": 5,
     "metadata": {},
     "output_type": "execute_result"
    }
   ],
   "source": [
    "df[df['Jewelry_Type']=='Rings'].describe()"
   ]
  },
  {
   "cell_type": "code",
   "execution_count": 6,
   "metadata": {},
   "outputs": [
    {
     "data": {
      "image/png": "[encoded data removed]",
      "text/plain": [
       "<Figure size 432x288 with 1 Axes>"
      ]
     },
     "metadata": {
      "needs_background": "light"
     },
     "output_type": "display_data"
    }
   ],
   "source": [
    "# Making a histogram of the price variable.\n",
    "_ = plt.hist(df['Price'])\n",
    "_ = plt.xlabel('Price')\n",
    "plt.show()"
   ]
  },
  {
   "cell_type": "code",
   "execution_count": 7,
   "metadata": {},
   "outputs": [
    {
     "data": {
      "image/png": "[encoded data removed]",
      "text/plain": [
       "<Figure size 432x288 with 1 Axes>"
      ]
     },
     "metadata": {
      "needs_background": "light"
     },
     "output_type": "display_data"
    }
   ],
   "source": [
    "# Making a histogram of the price variable.\n",
    "_ = plt.scatter(df['Jewelry_Type'], df['Price'])\n",
    "_ = plt.xlabel('Jewelry_Type')\n",
    "plt.show()"
   ]
  },
  {
   "cell_type": "code",
   "execution_count": null,
   "metadata": {},
   "outputs": [],
   "source": []
  },
  {
   "cell_type": "code",
   "execution_count": 8,
   "metadata": {},
   "outputs": [],
   "source": [
    "df_rings = df[df['Jewelry_Type']=='Rings']"
   ]
  },
  {
   "cell_type": "code",
   "execution_count": 9,
   "metadata": {},
   "outputs": [],
   "source": [
    "df_rings = df_rings.drop(columns=['Stone3_Desc', 'Stone3_Carat', 'Stone3_Stone', 'Stone3_Color','Stone3_Cut',                               \n",
    "                                  'Stone4_Desc', 'Stone4_Carat', 'Stone4_Stone', 'Stone4_Color','Stone4_Cut',\n",
    "                                  'Stone5_Desc','Stone5_Carat', 'Stone5_Stone', 'Stone5_Color', 'Stone5_Cut',\n",
    "                                  'Stone6_Desc', 'Stone6_Carat', 'Stone6_Stone', 'Stone6_Color','Stone6_Cut'])"
   ]
  },
  {
   "cell_type": "code",
   "execution_count": 10,
   "metadata": {},
   "outputs": [
    {
     "data": {
      "text/plain": [
       "Index(['Description', 'Discount_Price', 'Price', 'Metal', 'Metal Color',\n",
       "       'Stones', 'Jewelry_Type', 'Product_Carat', 'Stone1_Desc',\n",
       "       'Stone1_Carat', 'Stone1_Stone', 'Stone1_Color', 'Stone1_Cut',\n",
       "       'Stone2_Desc', 'Stone2_Carat', 'Stone2_Stone', 'Stone2_Color',\n",
       "       'Stone2_Cut'],\n",
       "      dtype='object')"
      ]
     },
     "execution_count": 10,
     "metadata": {},
     "output_type": "execute_result"
    }
   ],
   "source": [
    "df_rings.columns"
   ]
  },
  {
   "cell_type": "code",
   "execution_count": 11,
   "metadata": {},
   "outputs": [
    {
     "name": "stdout",
     "output_type": "stream",
     "text": [
      "<class 'pandas.core.frame.DataFrame'>\n",
      "Int64Index: 1104 entries, 413 to 1516\n",
      "Data columns (total 18 columns):\n",
      " #   Column          Non-Null Count  Dtype  \n",
      "---  ------          --------------  -----  \n",
      " 0   Description     1104 non-null   object \n",
      " 1   Discount_Price  1104 non-null   float64\n",
      " 2   Price           1104 non-null   float64\n",
      " 3   Metal           1104 non-null   object \n",
      " 4   Metal Color     1104 non-null   object \n",
      " 5   Stones          1104 non-null   object \n",
      " 6   Jewelry_Type    1104 non-null   object \n",
      " 7   Product_Carat   1104 non-null   float64\n",
      " 8   Stone1_Desc     1104 non-null   object \n",
      " 9   Stone1_Carat    1104 non-null   float64\n",
      " 10  Stone1_Stone    1104 non-null   object \n",
      " 11  Stone1_Color    1104 non-null   object \n",
      " 12  Stone1_Cut      1104 non-null   object \n",
      " 13  Stone2_Desc     580 non-null    object \n",
      " 14  Stone2_Carat    580 non-null    float64\n",
      " 15  Stone2_Stone    580 non-null    object \n",
      " 16  Stone2_Color    580 non-null    object \n",
      " 17  Stone2_Cut      580 non-null    object \n",
      "dtypes: float64(5), object(13)\n",
      "memory usage: 163.9+ KB\n"
     ]
    }
   ],
   "source": [
    "df_rings.info()"
   ]
  },
  {
   "cell_type": "code",
   "execution_count": 12,
   "metadata": {},
   "outputs": [
    {
     "data": {
      "image/png": "[encoded data removed]",
      "text/plain": [
       "<Figure size 900x900 with 30 Axes>"
      ]
     },
     "metadata": {
      "needs_background": "light"
     },
     "output_type": "display_data"
    }
   ],
   "source": [
    "sns.pairplot(df_rings)\n",
    "plt.show()"
   ]
  },
  {
   "cell_type": "code",
   "execution_count": 13,
   "metadata": {},
   "outputs": [
    {
     "data": {
      "image/png": "[encoded data removed]",
      "text/plain": [
       "<Figure size 2880x1440 with 2 Axes>"
      ]
     },
     "metadata": {
      "needs_background": "light"
     },
     "output_type": "display_data"
    }
   ],
   "source": [
    "plt.figure(figsize=(40,20))\n",
    "sns.heatmap(df_rings.corr(), annot=True)\n",
    "plt.show()"
   ]
  },
  {
   "cell_type": "code",
   "execution_count": 14,
   "metadata": {},
   "outputs": [
    {
     "data": {
      "text/plain": [
       "array(['14K Gold', '18K Gold', 'Sterling Silver',\n",
       "       'Sterling Silver & 18K Gold', 'Sterling Silver & 14K Gold',\n",
       "       'Stainless Steel & 18K Gold', '14k Gold'], dtype=object)"
      ]
     },
     "execution_count": 14,
     "metadata": {},
     "output_type": "execute_result"
    }
   ],
   "source": [
    "df_rings['Metal'].unique()"
   ]
  },
  {
   "cell_type": "code",
   "execution_count": 15,
   "metadata": {},
   "outputs": [],
   "source": [
    "df_rings['Metal'] = df_rings['Metal'].str.replace('14k Gold','14K Gold')"
   ]
  },
  {
   "cell_type": "code",
   "execution_count": 16,
   "metadata": {},
   "outputs": [],
   "source": [
    "idx = df_rings[df_rings['Metal'] =='Stainless Steel & 18K Gold'].index\n",
    "df_rings.drop(idx,inplace=True)"
   ]
  },
  {
   "cell_type": "code",
   "execution_count": 17,
   "metadata": {},
   "outputs": [],
   "source": [
    "#df_rings[df_rings['Metal Color'] == '']\n",
    "df_rings.loc[(df_rings['Stone1_Stone'] == 'Alexandrite') & \n",
    "             (df_rings['Stone1_Color'].str.isspace()),\n",
    "            'Stone1_Color'] = 'Bluish-Green'"
   ]
  },
  {
   "cell_type": "code",
   "execution_count": 18,
   "metadata": {},
   "outputs": [],
   "source": [
    "df_rings['Stone1_Stone'] = df_rings['Stone1_Stone'].str.replace('Lazuli','Lapis-Lazuli')"
   ]
  },
  {
   "cell_type": "code",
   "execution_count": 19,
   "metadata": {},
   "outputs": [],
   "source": [
    "df_rings.loc[(df_rings['Stone1_Stone'] == 'Amethyst') & \n",
    "             (df_rings['Stone1_Color'].str.isspace()),\n",
    "             'Stone1_Color'] = 'Green'\n",
    "\n",
    "#df_rings.loc[(df_rings['Stone1_Stone'] == 'Amethyst')]"
   ]
  },
  {
   "cell_type": "code",
   "execution_count": 20,
   "metadata": {},
   "outputs": [],
   "source": [
    "df_rings.loc[(df_rings['Stone1_Stone'] == 'Aquamarine') & \n",
    "             (df_rings['Stone1_Color'].str.isspace()), \n",
    "             'Stone1_Color'] = 'Greenish-Blue'\n",
    "#df_rings.loc[(df_rings['Stone1_Stone'] == 'Aquamarine')]"
   ]
  },
  {
   "cell_type": "code",
   "execution_count": 21,
   "metadata": {},
   "outputs": [],
   "source": [
    "df_rings.loc[(df_rings['Stone1_Stone'] == 'Citrine') & \n",
    "             (df_rings['Stone1_Color'].str.isspace()), \n",
    "             'Stone1_Color'] = 'Yellow'\n",
    "#df_rings.loc[(df_rings['Stone1_Stone'] == 'Citrine')]"
   ]
  },
  {
   "cell_type": "code",
   "execution_count": 22,
   "metadata": {},
   "outputs": [],
   "source": [
    "df_rings.loc[(df_rings['Stone1_Stone'] == 'Diamond') & \n",
    "             (df_rings['Stone1_Color'].str.isspace()), \n",
    "             'Stone1_Color'] = 'White'\n",
    "\n",
    "#df_rings.loc[(df_rings['Stone1_Stone'] == 'Diamond')]"
   ]
  },
  {
   "cell_type": "code",
   "execution_count": 23,
   "metadata": {},
   "outputs": [],
   "source": [
    "df_rings.loc[(df_rings['Stone1_Stone'] == 'Emerald') & \n",
    "             (df_rings['Stone1_Color'].str.isspace()), \n",
    "             'Stone1_Color'] = 'Green'\n",
    "\n",
    "#df_rings.loc[(df_rings['Stone1_Stone'] == 'Emerald')]"
   ]
  },
  {
   "cell_type": "code",
   "execution_count": 24,
   "metadata": {},
   "outputs": [],
   "source": [
    "df_rings.loc[(df_rings['Stone1_Stone'] == 'Garnet') & \n",
    "             (df_rings['Stone1_Color'].str.isspace()),\n",
    "             'Stone1_Color'] = 'Red'\n",
    "\n",
    "#df_rings.loc[(df_rings['Stone1_Stone'] == 'Garnet')]"
   ]
  },
  {
   "cell_type": "code",
   "execution_count": 25,
   "metadata": {},
   "outputs": [],
   "source": [
    "df_rings.loc[(df_rings['Stone1_Stone'] == 'Jade') & \n",
    "             (df_rings['Stone1_Color'].str.isspace()),\n",
    "             'Stone1_Color'] = 'Green'\n",
    "\n",
    "#df_rings.loc[(df_rings['Stone1_Stone'] == 'Jade')]\n",
    "\n",
    "df_rings.loc[(df_rings['Stone1_Stone'] == 'Lapis-Lazuli') & \n",
    "             (df_rings['Stone1_Color'].str.isspace()),\n",
    "             'Stone1_Color'] = 'Blue'\n",
    "\n",
    "#df_rings.loc[(df_rings['Stone1_Stone'] == 'Lapis-Lazuli')]\n",
    "\n",
    "df_rings.loc[(df_rings['Stone1_Stone'] == 'Malachite') & \n",
    "             (df_rings['Stone1_Color'].str.isspace()),\n",
    "             'Stone1_Color'] = 'Green'\n",
    "\n",
    "#df_rings.loc[(df_rings['Stone1_Stone'] == 'Malachite')]\n",
    "\n",
    "\n",
    "df_rings.loc[(df_rings['Stone1_Stone'] == 'Morganite') & \n",
    "             (df_rings['Stone1_Color'].str.isspace()),\n",
    "             'Stone1_Color'] = 'Pink'\n",
    "\n",
    "#df_rings.loc[(df_rings['Stone1_Stone'] == 'Morganite')]\n",
    "\n",
    "df_rings.loc[(df_rings['Stone1_Stone'] == 'Multi-Color') & \n",
    "             (df_rings['Stone1_Color'].str.isspace()),\n",
    "             'Stone1_Color'] = 'Multi-Color'\n",
    "\n",
    "#df_rings.loc[(df_rings['Stone1_Stone'] == 'Multi-Color')]\n",
    "\n",
    "df_rings.loc[(df_rings['Stone1_Stone'] == 'Multi-Sapphire') & \n",
    "             (df_rings['Stone1_Color'].str.isspace()),\n",
    "             'Stone1_Color'] = 'Multi-Sapphire'\n",
    "\n",
    "#df_rings.loc[(df_rings['Stone1_Stone'] == 'Multi-Sapphire')]\n",
    "\n",
    "df_rings.loc[(df_rings['Stone1_Stone'] == 'Onyx') & \n",
    "             (df_rings['Stone1_Color'].str.isspace()),\n",
    "             'Stone1_Color'] = 'Black'\n",
    "\n",
    "#df_rings.loc[(df_rings['Stone1_Stone'] == 'Onyx')]\n",
    "\n",
    "df_rings.loc[(df_rings['Stone1_Stone'] == 'Opal') & \n",
    "             (df_rings['Stone1_Color'].str.isspace()),\n",
    "             'Stone1_Color'] = 'White'\n",
    "\n",
    "#df_rings.loc[(df_rings['Stone1_Stone'] == 'Opal')]\n",
    "\n",
    "df_rings.loc[(df_rings['Stone1_Stone'] == 'Pearl') & \n",
    "             (df_rings['Stone1_Color'].str.isspace()),\n",
    "             'Stone1_Color'] = 'White'\n",
    "\n",
    "#df_rings.loc[(df_rings['Stone1_Stone'] == 'Pearl')]\n",
    "\n",
    "\n",
    "df_rings.loc[(df_rings['Stone1_Stone'] == 'Quartz') & \n",
    "             (df_rings['Stone1_Color'].str.isspace()),\n",
    "             'Stone1_Color'] = 'Smokey'\n",
    "\n",
    "#df_rings.loc[(df_rings['Stone1_Stone'] == 'Quartz')]\n",
    "\n",
    "\n",
    "df_rings.loc[(df_rings['Stone1_Stone'] == 'Ruby') & \n",
    "             (df_rings['Stone1_Color'].str.isspace()),\n",
    "             'Stone1_Color'] = 'Red'\n",
    "\n",
    "#df_rings.loc[(df_rings['Stone1_Stone'] == 'Ruby')]\n",
    "\n",
    "df_rings.loc[(df_rings['Stone1_Stone'] == 'Sapphire') & \n",
    "             (df_rings['Stone1_Color'].str.isspace()),\n",
    "             'Stone1_Color'] = 'Blue'\n",
    "\n",
    "#df_rings.loc[(df_rings['Stone1_Stone'] == 'Sapphire')]\n",
    "\n",
    "\n",
    "df_rings.loc[(df_rings['Stone1_Stone'] == 'Tanzanite') & \n",
    "             (df_rings['Stone1_Color'].str.isspace()),\n",
    "             'Stone1_Color'] = 'Blue'\n",
    "\n",
    "#df_rings.loc[(df_rings['Stone1_Stone'] == 'Tanzanite')]\n",
    "\n",
    "\n",
    "df_rings.loc[(df_rings['Stone1_Stone'] == 'Topaz') & \n",
    "             (df_rings['Stone1_Color'].str.isspace()),\n",
    "             'Stone1_Color'] = 'Blue'\n",
    "\n",
    "#df_rings.loc[(df_rings['Stone1_Stone'] == 'Topaz')]\n",
    "\n",
    "\n",
    "df_rings.loc[(df_rings['Stone1_Stone'] == 'Turquoise') & \n",
    "             (df_rings['Stone1_Color'].str.isspace()),\n",
    "             'Stone1_Color'] = 'Turquoise'\n",
    "\n",
    "#df_rings.loc[(df_rings['Stone1_Stone'] == 'Turquoise')]\n"
   ]
  },
  {
   "cell_type": "code",
   "execution_count": 26,
   "metadata": {},
   "outputs": [
    {
     "data": {
      "text/html": [
       "<div>\n",
       "<style scoped>\n",
       "    .dataframe tbody tr th:only-of-type {\n",
       "        vertical-align: middle;\n",
       "    }\n",
       "\n",
       "    .dataframe tbody tr th {\n",
       "        vertical-align: top;\n",
       "    }\n",
       "\n",
       "    .dataframe thead th {\n",
       "        text-align: right;\n",
       "    }\n",
       "</style>\n",
       "<table border=\"1\" class=\"dataframe\">\n",
       "  <thead>\n",
       "    <tr style=\"text-align: right;\">\n",
       "      <th></th>\n",
       "      <th>Description</th>\n",
       "      <th>Discount_Price</th>\n",
       "      <th>Price</th>\n",
       "      <th>Metal</th>\n",
       "      <th>Metal Color</th>\n",
       "      <th>Stones</th>\n",
       "      <th>Jewelry_Type</th>\n",
       "      <th>Product_Carat</th>\n",
       "      <th>Stone1_Desc</th>\n",
       "      <th>Stone1_Carat</th>\n",
       "      <th>Stone1_Stone</th>\n",
       "      <th>Stone1_Color</th>\n",
       "      <th>Stone1_Cut</th>\n",
       "      <th>Stone2_Desc</th>\n",
       "      <th>Stone2_Carat</th>\n",
       "      <th>Stone2_Stone</th>\n",
       "      <th>Stone2_Color</th>\n",
       "      <th>Stone2_Cut</th>\n",
       "    </tr>\n",
       "  </thead>\n",
       "  <tbody>\n",
       "    <tr>\n",
       "      <th>1285</th>\n",
       "      <td>Effy Mosaic Sterling Silver Multi Gemstone Ring, 1.66 TCW</td>\n",
       "      <td>157.5</td>\n",
       "      <td>225.0</td>\n",
       "      <td>Sterling Silver</td>\n",
       "      <td>Sterling Silver</td>\n",
       "      <td>Smokey Quartz, Peridot, Garnet, Citrine, Amethyst, Blue Topaz and Garnet</td>\n",
       "      <td>Rings</td>\n",
       "      <td>1.66</td>\n",
       "      <td>Smokey Quartz</td>\n",
       "      <td>0.0</td>\n",
       "      <td>Quartz</td>\n",
       "      <td>Smokey</td>\n",
       "      <td>Smokey</td>\n",
       "      <td>Peridot</td>\n",
       "      <td>0.0</td>\n",
       "      <td>Peridot</td>\n",
       "      <td></td>\n",
       "      <td></td>\n",
       "    </tr>\n",
       "  </tbody>\n",
       "</table>\n",
       "</div>"
      ],
      "text/plain": [
       "                                                    Description  \\\n",
       "1285  Effy Mosaic Sterling Silver Multi Gemstone Ring, 1.66 TCW   \n",
       "\n",
       "      Discount_Price  Price            Metal      Metal Color  \\\n",
       "1285           157.5  225.0  Sterling Silver  Sterling Silver   \n",
       "\n",
       "                                                                        Stones  \\\n",
       "1285  Smokey Quartz, Peridot, Garnet, Citrine, Amethyst, Blue Topaz and Garnet   \n",
       "\n",
       "     Jewelry_Type  Product_Carat    Stone1_Desc  Stone1_Carat Stone1_Stone  \\\n",
       "1285        Rings           1.66  Smokey Quartz           0.0       Quartz   \n",
       "\n",
       "     Stone1_Color Stone1_Cut Stone2_Desc  Stone2_Carat Stone2_Stone  \\\n",
       "1285       Smokey     Smokey     Peridot           0.0      Peridot   \n",
       "\n",
       "     Stone2_Color Stone2_Cut  \n",
       "1285                          "
      ]
     },
     "execution_count": 26,
     "metadata": {},
     "output_type": "execute_result"
    }
   ],
   "source": [
    "df_rings.loc[(df_rings['Stone1_Stone'] == 'Quartz') &\n",
    "            (df_rings['Stone1_Cut'] == 'Smokey')]"
   ]
  },
  {
   "cell_type": "code",
   "execution_count": 27,
   "metadata": {},
   "outputs": [],
   "source": [
    "df_rings.loc[(df_rings['Stone1_Stone'] == 'Quartz') &\n",
    "            (df_rings['Stone1_Cut'] == 'Smokey'), 'Stone1_Cut'] = 'Oval'"
   ]
  },
  {
   "cell_type": "code",
   "execution_count": 28,
   "metadata": {},
   "outputs": [],
   "source": [
    "df_rings.loc[(df_rings['Stone1_Stone'] == 'Diamond') &\n",
    "            (df_rings['Stone1_Cut'].str.isspace()), 'Stone1_Cut'] = 'Round'"
   ]
  },
  {
   "cell_type": "code",
   "execution_count": 29,
   "metadata": {},
   "outputs": [],
   "source": [
    "df_rings.drop(df_rings[df_rings['Stone1_Stone']== ' '].index,inplace=True)\n",
    "df_rings.drop(df_rings[df_rings['Stone2_Stone'] == 'Band'].index, inplace=True)\n",
    "df_rings.drop(df_rings[df_rings['Stone2_Stone'] == 'Bands'].index, inplace=True)\n",
    "\n",
    "df_rings.drop(df_rings[df_rings['Stone2_Desc'] == 'Matching band for Style WZ0M486DTR'].index, inplace=True)\n",
    "df_rings.drop(df_rings[df_rings['Stone2_Desc'] == 'Matching band for Style WZ0P637D26'].index, inplace=True)\n",
    "\n"
   ]
  },
  {
   "cell_type": "code",
   "execution_count": null,
   "metadata": {},
   "outputs": [],
   "source": [
    "\n"
   ]
  },
  {
   "cell_type": "code",
   "execution_count": 30,
   "metadata": {},
   "outputs": [],
   "source": [
    "df_rings.loc[(df_rings['Stone2_Stone'] == 'Diamond') & \n",
    "             (df_rings['Stone2_Color'].str.isspace()), \n",
    "             'Stone2_Color'] = 'White'\n",
    "\n",
    "#df_rings.loc[(df_rings['Stone2_Stone'] == 'Diamond')]"
   ]
  },
  {
   "cell_type": "code",
   "execution_count": 31,
   "metadata": {},
   "outputs": [],
   "source": [
    "df_rings.loc[(df_rings['Stone2_Stone'] == 'Emerald') & \n",
    "             (df_rings['Stone2_Color'].str.isspace()), \n",
    "             'Stone2_Color'] = 'Green'\n",
    "\n",
    "#df_rings.loc[(df_rings['Stone2_Stone'] == 'Emerald')]"
   ]
  },
  {
   "cell_type": "code",
   "execution_count": 32,
   "metadata": {},
   "outputs": [],
   "source": [
    "df_rings.loc[(df_rings['Stone2_Stone'] == 'Garnet') & \n",
    "             (df_rings['Stone2_Color'].str.isspace()),\n",
    "             'Stone2_Color'] = 'Red'\n",
    "\n",
    "#df_rings.loc[(df_rings['Stone2_Stone'] == 'Garnet')]"
   ]
  },
  {
   "cell_type": "code",
   "execution_count": 33,
   "metadata": {},
   "outputs": [],
   "source": [
    "df_rings.loc[(df_rings['Stone2_Stone'] == 'Multi-Sapphire') & \n",
    "             (df_rings['Stone2_Color'].str.isspace()),\n",
    "             'Stone2_Color'] = 'Multi-Sapphire'\n",
    "#df_rings.loc[(df_rings['Stone1_Stone'] == 'Multi-Sapphire')]"
   ]
  },
  {
   "cell_type": "code",
   "execution_count": 34,
   "metadata": {},
   "outputs": [],
   "source": [
    "df_rings.loc[(df_rings['Stone2_Stone'] == 'Ruby') & \n",
    "             (df_rings['Stone2_Color'].str.isspace()),\n",
    "             'Stone2_Color'] = 'Red'\n",
    "\n",
    "#df_rings.loc[(df_rings['Stone2_Stone'] == 'Ruby')]\n",
    "\n",
    "df_rings.loc[(df_rings['Stone2_Stone'] == 'Sapphire') & \n",
    "             (df_rings['Stone2_Color'].str.isspace()),\n",
    "             'Stone2_Color'] = 'Blue'\n",
    "\n",
    "#df_rings.loc[(df_rings['Stone2_Stone'] == 'Sapphire')]\n"
   ]
  },
  {
   "cell_type": "code",
   "execution_count": 35,
   "metadata": {},
   "outputs": [],
   "source": [
    "df_rings.loc[(df_rings['Stone2_Stone'] == 'Peridot') & \n",
    "             (df_rings['Stone2_Color'].str.isspace()),\n",
    "             'Stone2_Color'] = 'Green'\n",
    "\n",
    "df_rings.loc[(df_rings['Stone2_Stone'] == 'Peridot') & \n",
    "             (df_rings['Stone2_Cut'].str.isspace()),\n",
    "             'Stone2_Cut'] = 'Oval'"
   ]
  },
  {
   "cell_type": "code",
   "execution_count": 36,
   "metadata": {},
   "outputs": [],
   "source": [
    "df_rings.loc[(df_rings['Stone2_Stone'] == 'Tsavorite') & \n",
    "             (df_rings['Stone2_Color'].str.isspace()),\n",
    "             'Stone2_Color'] = 'Green'"
   ]
  },
  {
   "cell_type": "code",
   "execution_count": 37,
   "metadata": {},
   "outputs": [
    {
     "data": {
      "text/html": [
       "<div>\n",
       "<style scoped>\n",
       "    .dataframe tbody tr th:only-of-type {\n",
       "        vertical-align: middle;\n",
       "    }\n",
       "\n",
       "    .dataframe tbody tr th {\n",
       "        vertical-align: top;\n",
       "    }\n",
       "\n",
       "    .dataframe thead th {\n",
       "        text-align: right;\n",
       "    }\n",
       "</style>\n",
       "<table border=\"1\" class=\"dataframe\">\n",
       "  <thead>\n",
       "    <tr style=\"text-align: right;\">\n",
       "      <th></th>\n",
       "      <th>Stones</th>\n",
       "      <th>Product_Carat</th>\n",
       "    </tr>\n",
       "  </thead>\n",
       "  <tbody>\n",
       "    <tr>\n",
       "      <th>425</th>\n",
       "      <td>Round Diamond, Round Black Diamond , Round Cognac Diamond</td>\n",
       "      <td>1.47</td>\n",
       "    </tr>\n",
       "    <tr>\n",
       "      <th>619</th>\n",
       "      <td>Round Cognac Diamond, Round Diamond ,</td>\n",
       "      <td>0.46</td>\n",
       "    </tr>\n",
       "    <tr>\n",
       "      <th>623</th>\n",
       "      <td>Round Diamond, Round Black Diamond , Round Cognac Diamond ,</td>\n",
       "      <td>0.72</td>\n",
       "    </tr>\n",
       "    <tr>\n",
       "      <th>626</th>\n",
       "      <td>Round Diamond, Round Black Diamond , Round Emerald 0.05,</td>\n",
       "      <td>1.40</td>\n",
       "    </tr>\n",
       "    <tr>\n",
       "      <th>631</th>\n",
       "      <td>Round Diamond, Round Cognac Diamond , Round Emerald 0.19</td>\n",
       "      <td>2.89</td>\n",
       "    </tr>\n",
       "    <tr>\n",
       "      <th>635</th>\n",
       "      <td>Round Cognac Diamond, Round Diamond ,</td>\n",
       "      <td>0.89</td>\n",
       "    </tr>\n",
       "    <tr>\n",
       "      <th>636</th>\n",
       "      <td>Round Diamond, Round Cognac Diamond , Round Emerald 0.02,</td>\n",
       "      <td>0.66</td>\n",
       "    </tr>\n",
       "    <tr>\n",
       "      <th>637</th>\n",
       "      <td>Round Diamond, Round Cognac Diamond , Round Emerald 0.06,</td>\n",
       "      <td>1.35</td>\n",
       "    </tr>\n",
       "    <tr>\n",
       "      <th>648</th>\n",
       "      <td>Round Diamond, Round Black Diamond ,</td>\n",
       "      <td>1.28</td>\n",
       "    </tr>\n",
       "    <tr>\n",
       "      <th>674</th>\n",
       "      <td>Round Black Diamond, Round Diamond ,</td>\n",
       "      <td>1.64</td>\n",
       "    </tr>\n",
       "    <tr>\n",
       "      <th>716</th>\n",
       "      <td>Round Black Diamond, Round Diamond ,</td>\n",
       "      <td>2.74</td>\n",
       "    </tr>\n",
       "    <tr>\n",
       "      <th>761</th>\n",
       "      <td>Round Yellow Diamond, Round Diamond ,</td>\n",
       "      <td>0.74</td>\n",
       "    </tr>\n",
       "    <tr>\n",
       "      <th>795</th>\n",
       "      <td>Round Diamond, Round Cognac Diamond ,</td>\n",
       "      <td>0.60</td>\n",
       "    </tr>\n",
       "    <tr>\n",
       "      <th>810</th>\n",
       "      <td>Round Cognac Diamond, Round Diamond ,</td>\n",
       "      <td>0.57</td>\n",
       "    </tr>\n",
       "    <tr>\n",
       "      <th>833</th>\n",
       "      <td>Round Cognac Diamond, Round Diamond ,</td>\n",
       "      <td>1.08</td>\n",
       "    </tr>\n",
       "    <tr>\n",
       "      <th>851</th>\n",
       "      <td>Round Cognac Diamond, Round Diamond ,</td>\n",
       "      <td>1.64</td>\n",
       "    </tr>\n",
       "    <tr>\n",
       "      <th>856</th>\n",
       "      <td>Round Black Diamond, Round Diamond ,</td>\n",
       "      <td>0.74</td>\n",
       "    </tr>\n",
       "    <tr>\n",
       "      <th>1099</th>\n",
       "      <td>Round Diamond, Round Cognac Diamond</td>\n",
       "      <td>0.84</td>\n",
       "    </tr>\n",
       "    <tr>\n",
       "      <th>1151</th>\n",
       "      <td>Round Diamond, Round Black Diamond ,</td>\n",
       "      <td>2.26</td>\n",
       "    </tr>\n",
       "    <tr>\n",
       "      <th>1191</th>\n",
       "      <td>Round Diamond, Round Cognac Diamond ,</td>\n",
       "      <td>2.74</td>\n",
       "    </tr>\n",
       "    <tr>\n",
       "      <th>1255</th>\n",
       "      <td>Pear Blue Topaz, Oval Amethyst ,</td>\n",
       "      <td>1.62</td>\n",
       "    </tr>\n",
       "    <tr>\n",
       "      <th>1285</th>\n",
       "      <td>Smokey Quartz, Peridot, Garnet, Citrine, Amethyst, Blue Topaz and Garnet</td>\n",
       "      <td>1.66</td>\n",
       "    </tr>\n",
       "    <tr>\n",
       "      <th>1367</th>\n",
       "      <td>Round Black Diamond, Round Diamond ,</td>\n",
       "      <td>1.61</td>\n",
       "    </tr>\n",
       "    <tr>\n",
       "      <th>1428</th>\n",
       "      <td>Round Cognac Diamond, Round Diamond</td>\n",
       "      <td>1.03</td>\n",
       "    </tr>\n",
       "    <tr>\n",
       "      <th>1472</th>\n",
       "      <td>Round Blue Diamond, Round Diamond ,</td>\n",
       "      <td>1.28</td>\n",
       "    </tr>\n",
       "  </tbody>\n",
       "</table>\n",
       "</div>"
      ],
      "text/plain": [
       "                                                                        Stones  \\\n",
       "425                 Round Diamond, Round Black Diamond , Round Cognac Diamond    \n",
       "619                                      Round Cognac Diamond, Round Diamond ,   \n",
       "623                Round Diamond, Round Black Diamond , Round Cognac Diamond ,   \n",
       "626                   Round Diamond, Round Black Diamond , Round Emerald 0.05,   \n",
       "631                   Round Diamond, Round Cognac Diamond , Round Emerald 0.19   \n",
       "635                                      Round Cognac Diamond, Round Diamond ,   \n",
       "636                  Round Diamond, Round Cognac Diamond , Round Emerald 0.02,   \n",
       "637                  Round Diamond, Round Cognac Diamond , Round Emerald 0.06,   \n",
       "648                                       Round Diamond, Round Black Diamond ,   \n",
       "674                                       Round Black Diamond, Round Diamond ,   \n",
       "716                                       Round Black Diamond, Round Diamond ,   \n",
       "761                                      Round Yellow Diamond, Round Diamond ,   \n",
       "795                                      Round Diamond, Round Cognac Diamond ,   \n",
       "810                                      Round Cognac Diamond, Round Diamond ,   \n",
       "833                                      Round Cognac Diamond, Round Diamond ,   \n",
       "851                                      Round Cognac Diamond, Round Diamond ,   \n",
       "856                                       Round Black Diamond, Round Diamond ,   \n",
       "1099                                      Round Diamond, Round Cognac Diamond    \n",
       "1151                                      Round Diamond, Round Black Diamond ,   \n",
       "1191                                     Round Diamond, Round Cognac Diamond ,   \n",
       "1255                                          Pear Blue Topaz, Oval Amethyst ,   \n",
       "1285  Smokey Quartz, Peridot, Garnet, Citrine, Amethyst, Blue Topaz and Garnet   \n",
       "1367                                      Round Black Diamond, Round Diamond ,   \n",
       "1428                                      Round Cognac Diamond, Round Diamond    \n",
       "1472                                       Round Blue Diamond, Round Diamond ,   \n",
       "\n",
       "      Product_Carat  \n",
       "425            1.47  \n",
       "619            0.46  \n",
       "623            0.72  \n",
       "626            1.40  \n",
       "631            2.89  \n",
       "635            0.89  \n",
       "636            0.66  \n",
       "637            1.35  \n",
       "648            1.28  \n",
       "674            1.64  \n",
       "716            2.74  \n",
       "761            0.74  \n",
       "795            0.60  \n",
       "810            0.57  \n",
       "833            1.08  \n",
       "851            1.64  \n",
       "856            0.74  \n",
       "1099           0.84  \n",
       "1151           2.26  \n",
       "1191           2.74  \n",
       "1255           1.62  \n",
       "1285           1.66  \n",
       "1367           1.61  \n",
       "1428           1.03  \n",
       "1472           1.28  "
      ]
     },
     "execution_count": 37,
     "metadata": {},
     "output_type": "execute_result"
    }
   ],
   "source": [
    "df_rings[['Stones','Product_Carat']].loc[(df_rings['Stone1_Carat'] == 0) & \n",
    "             (df_rings['Stone2_Carat'] == 0)]"
   ]
  },
  {
   "cell_type": "code",
   "execution_count": 38,
   "metadata": {},
   "outputs": [],
   "source": [
    "#df_rings[['Stones','Product_Carat','Stone1_Carat','Stone2_Carat']].loc[(df_rings['Stone1_Carat'] == 0) & \n",
    " #            (df_rings['Stone2_Carat'] == 0), ['Stone1_Carat','Stone2_Carat'] = df_rings['Product_Carat']/2\n",
    "\n",
    "\n",
    "for index, row in df_rings.iterrows():\n",
    "    if (row['Stone1_Carat'] == 0 ) & (row['Stone2_Carat'] == 0):\n",
    "        c = row['Product_Carat'] / 2 \n",
    "        #print('Divided c: ', c )\n",
    "        \n",
    "        df_rings.at[index, 'Stone1_Carat'] = c\n",
    "        df_rings.at[index, 'Stone2_Carat'] = c\n",
    "        #print()\n",
    " \n",
    "                                                                       \n",
    "                                                                       "
   ]
  },
  {
   "cell_type": "code",
   "execution_count": 39,
   "metadata": {},
   "outputs": [],
   "source": [
    "#Droping rows with 'Pearl' as Stone1 as Stone1_Carat is 0\n",
    "#df_rings.drop(df_rings.loc[(df_rings['Stone1_Stone'] == 'Pearl')], axis=0)\n",
    "df_rings.drop(df_rings[df_rings['Stone1_Stone'] == 'Pearl'].index, inplace=True)"
   ]
  },
  {
   "cell_type": "code",
   "execution_count": null,
   "metadata": {},
   "outputs": [],
   "source": []
  },
  {
   "cell_type": "code",
   "execution_count": 40,
   "metadata": {},
   "outputs": [
    {
     "data": {
      "image/png": "[encoded data removed]",
      "text/plain": [
       "<Figure size 432x288 with 1 Axes>"
      ]
     },
     "metadata": {
      "needs_background": "light"
     },
     "output_type": "display_data"
    }
   ],
   "source": [
    "_ = plt.hist(df_rings['Metal'])\n",
    "plt.xticks(rotation=90)\n",
    "\n",
    "plt.show()"
   ]
  },
  {
   "cell_type": "code",
   "execution_count": 41,
   "metadata": {},
   "outputs": [
    {
     "data": {
      "image/png": "[encoded data removed]",
      "text/plain": [
       "<Figure size 576x360 with 1 Axes>"
      ]
     },
     "metadata": {
      "needs_background": "light"
     },
     "output_type": "display_data"
    }
   ],
   "source": [
    "plt.figure(figsize=(8,5))\n",
    "sns.boxplot(x='Metal Color',y='Price',data=df_rings, palette='rainbow')\n",
    "plt.title(\"Metal Color Vs Price\")\n",
    "plt.xticks(rotation=90)\n",
    "plt.show()"
   ]
  },
  {
   "cell_type": "code",
   "execution_count": 42,
   "metadata": {},
   "outputs": [
    {
     "data": {
      "image/png": "[encoded data removed]",
      "text/plain": [
       "<Figure size 576x360 with 1 Axes>"
      ]
     },
     "metadata": {
      "needs_background": "light"
     },
     "output_type": "display_data"
    }
   ],
   "source": [
    "plt.figure(figsize=(8,5))\n",
    "sns.barplot(x='Metal',y='Price',data=df_rings, palette='rainbow')\n",
    "plt.title(\"Metal Vs Price\")\n",
    "plt.xticks(rotation=90)\n",
    "plt.show()"
   ]
  },
  {
   "cell_type": "code",
   "execution_count": 43,
   "metadata": {},
   "outputs": [
    {
     "data": {
      "image/png": "[encoded data removed]",
      "text/plain": [
       "<Figure size 576x360 with 1 Axes>"
      ]
     },
     "metadata": {
      "needs_background": "light"
     },
     "output_type": "display_data"
    }
   ],
   "source": [
    "sns.color_palette(\"flare\", as_cmap=True)\n",
    "plt.figure(figsize=(8,5))\n",
    "sns.barplot(x='Stone1_Cut',y='Price',data=df_rings)\n",
    "plt.xlabel('Stone Cut')\n",
    "#plt.title(\"Stone1 Cut Vs Price\")\n",
    "plt.xticks(rotation=90)\n",
    "plt.show()"
   ]
  },
  {
   "cell_type": "code",
   "execution_count": 44,
   "metadata": {},
   "outputs": [
    {
     "data": {
      "image/png": "[encoded data removed]",
      "text/plain": [
       "<Figure size 576x360 with 1 Axes>"
      ]
     },
     "metadata": {
      "needs_background": "light"
     },
     "output_type": "display_data"
    }
   ],
   "source": [
    "plt.figure(figsize=(8,5))\n",
    "sns.barplot(x='Stone1_Color',y='Price',data=df_rings, palette='rainbow')\n",
    "plt.title(\"Stone1 Color Vs Price\")\n",
    "plt.xticks(rotation=90)\n",
    "plt.show()"
   ]
  },
  {
   "cell_type": "code",
   "execution_count": 45,
   "metadata": {},
   "outputs": [
    {
     "data": {
      "image/png": "[encoded data removed]",
      "text/plain": [
       "<Figure size 576x360 with 1 Axes>"
      ]
     },
     "metadata": {
      "needs_background": "light"
     },
     "output_type": "display_data"
    }
   ],
   "source": [
    "plt.figure(figsize=(8,5))\n",
    "sns.barplot(x='Stone1_Stone',y='Price',data=df_rings,palette='rainbow')\n",
    "#plt.title(\"Stone1 Vs Price\")\n",
    "plt.xlabel('GemStone')\n",
    "plt.xticks(rotation=90)\n",
    "plt.show()"
   ]
  },
  {
   "cell_type": "code",
   "execution_count": 46,
   "metadata": {},
   "outputs": [
    {
     "data": {
      "image/png": "[encoded data removed]",
      "text/plain": [
       "<Figure size 1800x360 with 5 Axes>"
      ]
     },
     "metadata": {
      "needs_background": "light"
     },
     "output_type": "display_data"
    }
   ],
   "source": [
    "#plt.figure(figsize=(8,5))\n",
    "sns.catplot(x='Stone1_Stone',y='Price',data=df_rings,col='Metal',palette='rainbow',kind='bar', )\n",
    "plt.title(\"Stone1 Vs Price\")\n",
    "plt.xticks(rotation=90)\n",
    "plt.show()"
   ]
  },
  {
   "cell_type": "code",
   "execution_count": 47,
   "metadata": {},
   "outputs": [
    {
     "data": {
      "image/png": "[encoded data removed]",
      "text/plain": [
       "<Figure size 432x288 with 1 Axes>"
      ]
     },
     "metadata": {
      "needs_background": "light"
     },
     "output_type": "display_data"
    }
   ],
   "source": [
    "sns.scatterplot(x='Product_Carat', y='Price',data=df_rings)\n",
    "_ = plt.title('Product_Carat vs Price')\n",
    "_ = plt.xlabel('Product_Carat')\n",
    "_ = plt.ylabel('Price')\n",
    "plt.show()"
   ]
  },
  {
   "cell_type": "code",
   "execution_count": 48,
   "metadata": {},
   "outputs": [
    {
     "data": {
      "image/png": "[encoded data removed]",
      "text/plain": [
       "<Figure size 432x288 with 1 Axes>"
      ]
     },
     "metadata": {
      "needs_background": "light"
     },
     "output_type": "display_data"
    }
   ],
   "source": [
    "sns.scatterplot(x='Product_Carat', y=np.log2(df_rings['Price']),data=df_rings)\n",
    "_ = plt.title('Product_Carat vs Log2_Price')\n",
    "_ = plt.xlabel('Product_Carat')\n",
    "_ = plt.ylabel('Price')\n",
    "plt.show()"
   ]
  },
  {
   "cell_type": "code",
   "execution_count": 49,
   "metadata": {},
   "outputs": [
    {
     "data": {
      "image/png": "[encoded data removed]",
      "text/plain": [
       "<Figure size 432x288 with 1 Axes>"
      ]
     },
     "metadata": {
      "needs_background": "light"
     },
     "output_type": "display_data"
    }
   ],
   "source": [
    "sns.regplot(x='Product_Carat', y='Price',data=df_rings)\n",
    "_ = plt.title('Product_Carat vs Price')\n",
    "_ = plt.xlabel('Product_Carat')\n",
    "_ = plt.ylabel('Price')\n",
    "plt.show()"
   ]
  },
  {
   "cell_type": "code",
   "execution_count": 50,
   "metadata": {},
   "outputs": [
    {
     "data": {
      "image/png": "[encoded data removed]",
      "text/plain": [
       "<Figure size 432x288 with 1 Axes>"
      ]
     },
     "metadata": {
      "needs_background": "light"
     },
     "output_type": "display_data"
    }
   ],
   "source": [
    "sns.regplot(x='Product_Carat', y=np.log2(df_rings['Price']),data=df_rings)\n",
    "_ = plt.title('Product_Carat vs Log2_Price')\n",
    "_ = plt.xlabel('Product_Carat')\n",
    "_ = plt.ylabel('Price')\n",
    "plt.show()"
   ]
  },
  {
   "cell_type": "markdown",
   "metadata": {},
   "source": [
    "            "
   ]
  },
  {
   "cell_type": "markdown",
   "metadata": {},
   "source": [
    "## Pre-processing & Training Data Development"
   ]
  },
  {
   "cell_type": "code",
   "execution_count": 51,
   "metadata": {},
   "outputs": [
    {
     "data": {
      "text/plain": [
       "Index(['Description', 'Discount_Price', 'Price', 'Metal', 'Metal Color',\n",
       "       'Stones', 'Jewelry_Type', 'Product_Carat', 'Stone1_Desc',\n",
       "       'Stone1_Carat', 'Stone1_Stone', 'Stone1_Color', 'Stone1_Cut',\n",
       "       'Stone2_Desc', 'Stone2_Carat', 'Stone2_Stone', 'Stone2_Color',\n",
       "       'Stone2_Cut'],\n",
       "      dtype='object')"
      ]
     },
     "execution_count": 51,
     "metadata": {},
     "output_type": "execute_result"
    }
   ],
   "source": [
    "df_rings.columns"
   ]
  },
  {
   "cell_type": "code",
   "execution_count": 52,
   "metadata": {},
   "outputs": [
    {
     "data": {
      "text/plain": [
       "Description         0\n",
       "Discount_Price      0\n",
       "Price               0\n",
       "Metal               0\n",
       "Metal Color         0\n",
       "Stones              0\n",
       "Jewelry_Type        0\n",
       "Product_Carat       0\n",
       "Stone1_Desc         0\n",
       "Stone1_Carat        0\n",
       "Stone1_Stone        0\n",
       "Stone1_Color        0\n",
       "Stone1_Cut          0\n",
       "Stone2_Desc       519\n",
       "Stone2_Carat      519\n",
       "Stone2_Stone      519\n",
       "Stone2_Color      519\n",
       "Stone2_Cut        519\n",
       "dtype: int64"
      ]
     },
     "execution_count": 52,
     "metadata": {},
     "output_type": "execute_result"
    }
   ],
   "source": [
    "df_rings.isnull().sum()"
   ]
  },
  {
   "cell_type": "code",
   "execution_count": 53,
   "metadata": {},
   "outputs": [],
   "source": [
    "df_rings['Stone2_Carat'].fillna(0, inplace=True)"
   ]
  },
  {
   "cell_type": "code",
   "execution_count": 54,
   "metadata": {},
   "outputs": [
    {
     "data": {
      "text/plain": [
       "Diamond           554\n",
       "Sapphire           77\n",
       "Tanzanite          76\n",
       "Emerald            68\n",
       "Multi-Sapphire     61\n",
       "Ruby               52\n",
       "Multi-Color        36\n",
       "Topaz              27\n",
       "Morganite          24\n",
       "Aquamarine         20\n",
       "Amethyst           17\n",
       "Onyx               16\n",
       "Opal               15\n",
       "Garnet             12\n",
       "Citrine            11\n",
       "Turquoise           8\n",
       "Alexandrite         5\n",
       "Lapis-Lazuli        3\n",
       "Quartz              3\n",
       "Jade                2\n",
       "Malachite           1\n",
       "Name: Stone1_Stone, dtype: int64"
      ]
     },
     "execution_count": 54,
     "metadata": {},
     "output_type": "execute_result"
    }
   ],
   "source": [
    "#Check distribution of Stone1\n",
    "df_rings['Stone1_Stone'].value_counts()"
   ]
  },
  {
   "cell_type": "code",
   "execution_count": 55,
   "metadata": {},
   "outputs": [
    {
     "data": {
      "text/plain": [
       "Stone1_Cut \n",
       "Round          478\n",
       "Multi-Shape     65\n",
       "Baguette         5\n",
       "Cushion          4\n",
       "round            1\n",
       "Pear             1\n",
       "dtype: int64"
      ]
     },
     "execution_count": 55,
     "metadata": {},
     "output_type": "execute_result"
    }
   ],
   "source": [
    "#For diamonds what is the type of stone cut\n",
    "df_rings[['Stone1_Cut']][df_rings['Stone1_Stone'] == 'Diamond'].value_counts()"
   ]
  },
  {
   "cell_type": "code",
   "execution_count": 56,
   "metadata": {},
   "outputs": [
    {
     "data": {
      "text/plain": [
       "Stone1_Color\n",
       "White           501\n",
       "Yellow           20\n",
       "Black            18\n",
       "Cognac           12\n",
       "Blue              3\n",
       "dtype: int64"
      ]
     },
     "execution_count": 56,
     "metadata": {},
     "output_type": "execute_result"
    }
   ],
   "source": [
    "#For diamonds what is the type of stone color\n",
    "df_rings[['Stone1_Color']][df_rings['Stone1_Stone'] == 'Diamond'].value_counts()"
   ]
  },
  {
   "cell_type": "code",
   "execution_count": 57,
   "metadata": {},
   "outputs": [],
   "source": [
    "#For diamonds what is the type of stone carat\n",
    "#df_rings[['Stone1_Carat']][df_rings['Stone1_Stone'] == 'Diamond'].value_counts()"
   ]
  },
  {
   "cell_type": "code",
   "execution_count": 58,
   "metadata": {},
   "outputs": [
    {
     "data": {
      "text/plain": [
       "Diamond           514\n",
       "Emerald            21\n",
       "Tsavorite          10\n",
       "Sapphire            9\n",
       "Multi-Sapphire      3\n",
       "Ruby                3\n",
       "Width;              2\n",
       "Topaz               2\n",
       "Garnet              2\n",
       "Peridot             2\n",
       "Amethyst            1\n",
       "Name: Stone2_Stone, dtype: int64"
      ]
     },
     "execution_count": 58,
     "metadata": {},
     "output_type": "execute_result"
    }
   ],
   "source": [
    "#Check distribution of Stone2\n",
    "df_rings['Stone2_Stone'].value_counts()"
   ]
  },
  {
   "cell_type": "code",
   "execution_count": 59,
   "metadata": {},
   "outputs": [
    {
     "data": {
      "text/plain": [
       "Stone2_Cut \n",
       "Round          477\n",
       "Multi-Shape     35\n",
       "oval             1\n",
       "Baguette         1\n",
       "dtype: int64"
      ]
     },
     "execution_count": 59,
     "metadata": {},
     "output_type": "execute_result"
    }
   ],
   "source": [
    "#For diamonds what is the type of stone cut\n",
    "df_rings[['Stone2_Cut']][df_rings['Stone2_Stone'] == 'Diamond'].value_counts()"
   ]
  },
  {
   "cell_type": "code",
   "execution_count": 60,
   "metadata": {},
   "outputs": [
    {
     "data": {
      "text/plain": [
       "Stone2_Color\n",
       "White           497\n",
       "Cognac            9\n",
       "Black             7\n",
       "Blue              1\n",
       "dtype: int64"
      ]
     },
     "execution_count": 60,
     "metadata": {},
     "output_type": "execute_result"
    }
   ],
   "source": [
    "#For diamonds what is the type of stone color\n",
    "df_rings[['Stone2_Color']][df_rings['Stone2_Stone'] == 'Diamond'].value_counts()"
   ]
  },
  {
   "cell_type": "code",
   "execution_count": 61,
   "metadata": {},
   "outputs": [],
   "source": [
    "#For diamonds what is the type of stone carat\n",
    "#df_rings[['Stone2_Carat']][df_rings['Stone2_Stone'] == 'Diamond'].value_counts()"
   ]
  },
  {
   "cell_type": "code",
   "execution_count": null,
   "metadata": {},
   "outputs": [],
   "source": []
  },
  {
   "cell_type": "code",
   "execution_count": 62,
   "metadata": {},
   "outputs": [],
   "source": [
    "writer = pd.ExcelWriter('/Users/rupalgandhre/SpringBoard/DataScience_Capstone2/data/raw/All_EDA_Rings.xlsx')\n",
    "\n",
    "#Write Rings Data \n",
    "df_rings.to_excel(writer, 'Rings_data')\n",
    "writer.save()"
   ]
  },
  {
   "cell_type": "code",
   "execution_count": 63,
   "metadata": {},
   "outputs": [
    {
     "name": "stderr",
     "output_type": "stream",
     "text": [
      "/Users/rupalgandhre/opt/anaconda3/lib/python3.8/site-packages/xlsxwriter/workbook.py:329: UserWarning: Calling close() on already closed file.\n",
      "  warn(\"Calling close() on already closed file.\")\n"
     ]
    }
   ],
   "source": [
    "#Group by Stone1, Price Columns \n",
    "\n",
    "gscp = df_rings[['Stone1_Stone', 'Price']].groupby(['Stone1_Stone','Price']).size().reset_index(name='counts')\n",
    "#gscp\n",
    "gscp.to_excel(writer, 'Stone1_Carat')\n",
    "writer.save()\n"
   ]
  },
  {
   "cell_type": "code",
   "execution_count": 64,
   "metadata": {},
   "outputs": [],
   "source": [
    "#Group by Stone1, Price Columns \n",
    "\n",
    "gscp = df_rings[['Stone1_Stone', 'Price']].groupby(['Stone1_Stone']).size().reset_index(name='counts')\n",
    "#gscp"
   ]
  },
  {
   "cell_type": "code",
   "execution_count": 65,
   "metadata": {},
   "outputs": [],
   "source": [
    "#Group by Stone1, Carat Columns \n",
    "\n",
    "gsca = df_rings[['Stone1_Stone', 'Stone1_Carat']].groupby(['Stone1_Stone','Stone1_Carat']).size().reset_index(name='counts')\n",
    "#gsca\n",
    "gsca.to_excel(writer, 'Stone1_Carat')\n",
    "writer.save()\n"
   ]
  },
  {
   "cell_type": "code",
   "execution_count": 66,
   "metadata": {},
   "outputs": [
    {
     "data": {
      "text/html": [
       "<div>\n",
       "<style scoped>\n",
       "    .dataframe tbody tr th:only-of-type {\n",
       "        vertical-align: middle;\n",
       "    }\n",
       "\n",
       "    .dataframe tbody tr th {\n",
       "        vertical-align: top;\n",
       "    }\n",
       "\n",
       "    .dataframe thead tr th {\n",
       "        text-align: left;\n",
       "    }\n",
       "\n",
       "    .dataframe thead tr:last-of-type th {\n",
       "        text-align: right;\n",
       "    }\n",
       "</style>\n",
       "<table border=\"1\" class=\"dataframe\">\n",
       "  <thead>\n",
       "    <tr>\n",
       "      <th></th>\n",
       "      <th colspan=\"3\" halign=\"left\">Stone1_Carat</th>\n",
       "    </tr>\n",
       "    <tr>\n",
       "      <th></th>\n",
       "      <th>min</th>\n",
       "      <th>max</th>\n",
       "      <th>count</th>\n",
       "    </tr>\n",
       "    <tr>\n",
       "      <th>Stone1_Stone</th>\n",
       "      <th></th>\n",
       "      <th></th>\n",
       "      <th></th>\n",
       "    </tr>\n",
       "  </thead>\n",
       "  <tbody>\n",
       "    <tr>\n",
       "      <th>Alexandrite</th>\n",
       "      <td>0.33</td>\n",
       "      <td>1.00</td>\n",
       "      <td>5</td>\n",
       "    </tr>\n",
       "    <tr>\n",
       "      <th>Amethyst</th>\n",
       "      <td>0.70</td>\n",
       "      <td>7.75</td>\n",
       "      <td>17</td>\n",
       "    </tr>\n",
       "    <tr>\n",
       "      <th>Aquamarine</th>\n",
       "      <td>0.71</td>\n",
       "      <td>6.85</td>\n",
       "      <td>20</td>\n",
       "    </tr>\n",
       "    <tr>\n",
       "      <th>Citrine</th>\n",
       "      <td>3.10</td>\n",
       "      <td>9.79</td>\n",
       "      <td>11</td>\n",
       "    </tr>\n",
       "    <tr>\n",
       "      <th>Diamond</th>\n",
       "      <td>0.01</td>\n",
       "      <td>4.62</td>\n",
       "      <td>554</td>\n",
       "    </tr>\n",
       "    <tr>\n",
       "      <th>Emerald</th>\n",
       "      <td>0.46</td>\n",
       "      <td>8.72</td>\n",
       "      <td>68</td>\n",
       "    </tr>\n",
       "    <tr>\n",
       "      <th>Garnet</th>\n",
       "      <td>1.23</td>\n",
       "      <td>7.85</td>\n",
       "      <td>12</td>\n",
       "    </tr>\n",
       "    <tr>\n",
       "      <th>Jade</th>\n",
       "      <td>10.40</td>\n",
       "      <td>13.85</td>\n",
       "      <td>2</td>\n",
       "    </tr>\n",
       "    <tr>\n",
       "      <th>Lapis-Lazuli</th>\n",
       "      <td>5.24</td>\n",
       "      <td>13.85</td>\n",
       "      <td>3</td>\n",
       "    </tr>\n",
       "    <tr>\n",
       "      <th>Malachite</th>\n",
       "      <td>2.10</td>\n",
       "      <td>2.10</td>\n",
       "      <td>1</td>\n",
       "    </tr>\n",
       "    <tr>\n",
       "      <th>Morganite</th>\n",
       "      <td>1.15</td>\n",
       "      <td>6.15</td>\n",
       "      <td>24</td>\n",
       "    </tr>\n",
       "    <tr>\n",
       "      <th>Multi-Color</th>\n",
       "      <td>0.55</td>\n",
       "      <td>10.13</td>\n",
       "      <td>36</td>\n",
       "    </tr>\n",
       "    <tr>\n",
       "      <th>Multi-Sapphire</th>\n",
       "      <td>0.76</td>\n",
       "      <td>13.63</td>\n",
       "      <td>61</td>\n",
       "    </tr>\n",
       "    <tr>\n",
       "      <th>Onyx</th>\n",
       "      <td>0.12</td>\n",
       "      <td>16.80</td>\n",
       "      <td>16</td>\n",
       "    </tr>\n",
       "    <tr>\n",
       "      <th>Opal</th>\n",
       "      <td>0.55</td>\n",
       "      <td>5.05</td>\n",
       "      <td>15</td>\n",
       "    </tr>\n",
       "    <tr>\n",
       "      <th>Quartz</th>\n",
       "      <td>0.83</td>\n",
       "      <td>16.25</td>\n",
       "      <td>3</td>\n",
       "    </tr>\n",
       "    <tr>\n",
       "      <th>Ruby</th>\n",
       "      <td>0.28</td>\n",
       "      <td>7.17</td>\n",
       "      <td>52</td>\n",
       "    </tr>\n",
       "    <tr>\n",
       "      <th>Sapphire</th>\n",
       "      <td>0.12</td>\n",
       "      <td>13.11</td>\n",
       "      <td>77</td>\n",
       "    </tr>\n",
       "    <tr>\n",
       "      <th>Tanzanite</th>\n",
       "      <td>0.66</td>\n",
       "      <td>21.16</td>\n",
       "      <td>76</td>\n",
       "    </tr>\n",
       "    <tr>\n",
       "      <th>Topaz</th>\n",
       "      <td>0.81</td>\n",
       "      <td>13.90</td>\n",
       "      <td>27</td>\n",
       "    </tr>\n",
       "    <tr>\n",
       "      <th>Turquoise</th>\n",
       "      <td>0.25</td>\n",
       "      <td>2.35</td>\n",
       "      <td>8</td>\n",
       "    </tr>\n",
       "  </tbody>\n",
       "</table>\n",
       "</div>"
      ],
      "text/plain": [
       "               Stone1_Carat             \n",
       "                        min    max count\n",
       "Stone1_Stone                            \n",
       "Alexandrite            0.33   1.00     5\n",
       "Amethyst               0.70   7.75    17\n",
       "Aquamarine             0.71   6.85    20\n",
       "Citrine                3.10   9.79    11\n",
       "Diamond                0.01   4.62   554\n",
       "Emerald                0.46   8.72    68\n",
       "Garnet                 1.23   7.85    12\n",
       "Jade                  10.40  13.85     2\n",
       "Lapis-Lazuli           5.24  13.85     3\n",
       "Malachite              2.10   2.10     1\n",
       "Morganite              1.15   6.15    24\n",
       "Multi-Color            0.55  10.13    36\n",
       "Multi-Sapphire         0.76  13.63    61\n",
       "Onyx                   0.12  16.80    16\n",
       "Opal                   0.55   5.05    15\n",
       "Quartz                 0.83  16.25     3\n",
       "Ruby                   0.28   7.17    52\n",
       "Sapphire               0.12  13.11    77\n",
       "Tanzanite              0.66  21.16    76\n",
       "Topaz                  0.81  13.90    27\n",
       "Turquoise              0.25   2.35     8"
      ]
     },
     "execution_count": 66,
     "metadata": {},
     "output_type": "execute_result"
    }
   ],
   "source": [
    "#Group by Stone1 and Carat Columns\n",
    "gscm = df_rings[['Stone1_Stone', 'Stone1_Carat']].groupby(['Stone1_Stone']).agg(['min','max','count'])\n",
    "gscm\n",
    "\n",
    "#gscm.to_excel(writer,'Stone1_Carat_Aggregates')\n",
    "#writer.save()"
   ]
  },
  {
   "cell_type": "code",
   "execution_count": 67,
   "metadata": {},
   "outputs": [
    {
     "name": "stderr",
     "output_type": "stream",
     "text": [
      "/Users/rupalgandhre/opt/anaconda3/lib/python3.8/site-packages/xlsxwriter/workbook.py:329: UserWarning: Calling close() on already closed file.\n",
      "  warn(\"Calling close() on already closed file.\")\n"
     ]
    }
   ],
   "source": [
    "#Group by Stone1 and Cut Columns\n",
    "gscu = df_rings[['Stone1_Stone', 'Stone1_Cut']].groupby(['Stone1_Stone','Stone1_Cut']).size().reset_index(name='counts')\n",
    "#gscu\n",
    "gscu.to_excel(writer,'Stone1_Cut')\n",
    "writer.save()"
   ]
  },
  {
   "cell_type": "code",
   "execution_count": 68,
   "metadata": {},
   "outputs": [],
   "source": [
    "#Group by Stone1 and Color Columns\n",
    "gsco = df_rings[['Stone1_Stone', 'Stone1_Color']].groupby(['Stone1_Stone','Stone1_Color']).size().reset_index(name='counts')\n",
    "#gsco\n",
    "gsco.to_excel(writer, 'Stone1_Color')\n",
    "writer.save()"
   ]
  },
  {
   "cell_type": "code",
   "execution_count": 69,
   "metadata": {},
   "outputs": [],
   "source": [
    "#Group by Stone2, Carat Columns \n",
    "gsca = df_rings[['Stone2_Stone', 'Stone2_Carat']].groupby(['Stone2_Stone','Stone2_Carat']).size().reset_index(name='counts')\n",
    "#gsca\n",
    "gsca.to_excel(writer, 'Stone2_Carat')\n",
    "writer.save()"
   ]
  },
  {
   "cell_type": "code",
   "execution_count": 70,
   "metadata": {},
   "outputs": [],
   "source": [
    "#Group by Stone2 and Carat Columns\n",
    "gscm = df_rings[['Stone2_Stone', 'Stone2_Carat']].groupby(['Stone2_Stone']).agg(['min','max','count'])\n",
    "#gscm\n",
    "gscm.to_excel(writer,'Stone2_Carat_Aggregates')\n",
    "writer.save()"
   ]
  },
  {
   "cell_type": "code",
   "execution_count": null,
   "metadata": {},
   "outputs": [],
   "source": []
  },
  {
   "cell_type": "code",
   "execution_count": 71,
   "metadata": {},
   "outputs": [],
   "source": [
    "#Group by Stone2 and Cut Columns\n",
    "gscu = df_rings[['Stone2_Stone', 'Stone2_Cut']].groupby(['Stone2_Stone','Stone2_Cut']).size().reset_index(name='counts')\n",
    "#gscu\n",
    "gscu.to_excel(writer,'Stone2_Cut')\n",
    "writer.save()"
   ]
  },
  {
   "cell_type": "code",
   "execution_count": 72,
   "metadata": {},
   "outputs": [],
   "source": [
    "#Group by Stone2 and Color Columns\n",
    "gsco = df_rings[['Stone2_Stone', 'Stone2_Color']].groupby(['Stone2_Stone','Stone2_Color']).size().reset_index(name='counts')\n",
    "#gsco\n",
    "gsco.to_excel(writer, 'Stone2_Color')\n",
    "writer.save()"
   ]
  },
  {
   "cell_type": "code",
   "execution_count": null,
   "metadata": {},
   "outputs": [],
   "source": []
  },
  {
   "cell_type": "code",
   "execution_count": 73,
   "metadata": {},
   "outputs": [],
   "source": [
    "#Drop unwanted columns\n",
    "df_rings_1 = df_rings.drop(['Description','Discount_Price', 'Stones', 'Jewelry_Type','Stone1_Desc','Stone2_Desc','Product_Carat', 'Metal Color'],axis=1)"
   ]
  },
  {
   "cell_type": "code",
   "execution_count": 74,
   "metadata": {},
   "outputs": [],
   "source": [
    "#Split the Price column into Categories\n",
    "\n",
    "df_rings_1['Price_Category'] =  pd.cut(df_rings_1['Price'], \n",
    "               bins=[0,1000,2000,3000,4000,5000,6000,7000,8000,9000,np.inf], \n",
    "             labels=['1000','2000','3000','4000','5000','6000','7000','8000','9000','Above 9000'])\n",
    "\n",
    "df_rings_1 = df_rings_1.drop('Price',axis=1)"
   ]
  },
  {
   "cell_type": "code",
   "execution_count": 75,
   "metadata": {},
   "outputs": [],
   "source": [
    "#Check the range of Stone1 Carat\n",
    "df_rings_1['Stone1_Carat_cat'] = pd.cut(df_rings_1['Stone1_Carat'], \n",
    "                                      bins=[0,0.5,1,1.5,2,2.5,3,3.5,4,4.5,5], \n",
    "                                      labels=['0.5','1.0','1.5','2.0','2.5','3.0','3.5','4.0','4.5','5.0'])\n",
    "\n",
    "df_rings_1 = df_rings_1.drop('Stone1_Carat',axis=1)\n"
   ]
  },
  {
   "cell_type": "code",
   "execution_count": 76,
   "metadata": {},
   "outputs": [],
   "source": [
    "df_rings_1['Stone2_Carat_cat'] = pd.cut(df_rings_1['Stone2_Carat'], \n",
    "                                      bins=[0,0.5,1,1.5,2,2.5,3,3.5,4,4.5,5], \n",
    "                                      labels=['0.5','1.0','1.5','2.0','2.5','3.0','3.5','4.0','4.5','5.0'])\n",
    "\n",
    "df_rings_1 = df_rings_1.drop('Stone2_Carat',axis=1)\n"
   ]
  },
  {
   "cell_type": "code",
   "execution_count": 77,
   "metadata": {},
   "outputs": [
    {
     "name": "stdout",
     "output_type": "stream",
     "text": [
      "<class 'pandas.core.frame.DataFrame'>\n",
      "Int64Index: 1088 entries, 413 to 1516\n",
      "Data columns (total 10 columns):\n",
      " #   Column            Non-Null Count  Dtype   \n",
      "---  ------            --------------  -----   \n",
      " 0   Metal             1088 non-null   object  \n",
      " 1   Stone1_Stone      1088 non-null   object  \n",
      " 2   Stone1_Color      1088 non-null   object  \n",
      " 3   Stone1_Cut        1088 non-null   object  \n",
      " 4   Stone2_Stone      569 non-null    object  \n",
      " 5   Stone2_Color      569 non-null    object  \n",
      " 6   Stone2_Cut        569 non-null    object  \n",
      " 7   Price_Category    1088 non-null   category\n",
      " 8   Stone1_Carat_cat  1007 non-null   category\n",
      " 9   Stone2_Carat_cat  564 non-null    category\n",
      "dtypes: category(3), object(7)\n",
      "memory usage: 112.4+ KB\n"
     ]
    }
   ],
   "source": [
    "df_rings_1.info()"
   ]
  },
  {
   "cell_type": "code",
   "execution_count": 142,
   "metadata": {},
   "outputs": [
    {
     "data": {
      "text/html": [
       "<div>\n",
       "<style scoped>\n",
       "    .dataframe tbody tr th:only-of-type {\n",
       "        vertical-align: middle;\n",
       "    }\n",
       "\n",
       "    .dataframe tbody tr th {\n",
       "        vertical-align: top;\n",
       "    }\n",
       "\n",
       "    .dataframe thead th {\n",
       "        text-align: right;\n",
       "    }\n",
       "</style>\n",
       "<table border=\"1\" class=\"dataframe\">\n",
       "  <thead>\n",
       "    <tr style=\"text-align: right;\">\n",
       "      <th></th>\n",
       "      <th>Metal</th>\n",
       "      <th>counts</th>\n",
       "    </tr>\n",
       "  </thead>\n",
       "  <tbody>\n",
       "    <tr>\n",
       "      <th>0</th>\n",
       "      <td>14K Gold</td>\n",
       "      <td>966</td>\n",
       "    </tr>\n",
       "    <tr>\n",
       "      <th>1</th>\n",
       "      <td>18K Gold</td>\n",
       "      <td>26</td>\n",
       "    </tr>\n",
       "    <tr>\n",
       "      <th>2</th>\n",
       "      <td>Sterling Silver</td>\n",
       "      <td>50</td>\n",
       "    </tr>\n",
       "    <tr>\n",
       "      <th>3</th>\n",
       "      <td>Sterling Silver &amp; 14K Gold</td>\n",
       "      <td>1</td>\n",
       "    </tr>\n",
       "    <tr>\n",
       "      <th>4</th>\n",
       "      <td>Sterling Silver &amp; 18K Gold</td>\n",
       "      <td>45</td>\n",
       "    </tr>\n",
       "  </tbody>\n",
       "</table>\n",
       "</div>"
      ],
      "text/plain": [
       "                        Metal  counts\n",
       "0                    14K Gold     966\n",
       "1                    18K Gold      26\n",
       "2             Sterling Silver      50\n",
       "3  Sterling Silver & 14K Gold       1\n",
       "4  Sterling Silver & 18K Gold      45"
      ]
     },
     "execution_count": 142,
     "metadata": {},
     "output_type": "execute_result"
    }
   ],
   "source": [
    "#df_diamondrings[['Stone1_Stone', 'Metal']].groupby(['Stone1_Stone']).agg(['min','max','count'])\n",
    "#df_rings_1[['Metal']].groupby(['Metal']).size().reset_index(name='counts')\n",
    "#df_rings_1[df_rings_1['Metal'] == 'Sterling Silver']"
   ]
  },
  {
   "cell_type": "code",
   "execution_count": 79,
   "metadata": {},
   "outputs": [],
   "source": [
    "#df_rings_1.drop(df_rings_1[df_rings_1['Metal'] == 'Sterling Silver'].index,inplace=True)\n",
    "#df_rings_1.drop(df_rings_1[df_rings_1['Metal'] == 'Sterling Silver & 14K Gold'].index,inplace=True)\n",
    "#df_rings_1.drop(df_rings_1[df_rings_1['Metal'] == 'Sterling Silver & 18K Gold'].index,inplace=True)\n",
    "#df_rings_1.drop(df_rings_1[df_rings_1['Metal'] == '18K Gold'].index,inplace=True)\n"
   ]
  },
  {
   "cell_type": "code",
   "execution_count": null,
   "metadata": {},
   "outputs": [],
   "source": [
    "\n"
   ]
  },
  {
   "cell_type": "code",
   "execution_count": 81,
   "metadata": {},
   "outputs": [],
   "source": [
    "#Since majority of the Stone1 data is Diamond. Splitting the data into Diamonds and other gemstones\n",
    "df_otherrings = df_rings_1.loc[(df_rings_1['Stone1_Stone'] != 'Diamond')]\n",
    "df_diamondrings = df_rings_1.loc[(df_rings_1['Stone1_Stone'] == 'Diamond')]                              "
   ]
  },
  {
   "cell_type": "code",
   "execution_count": 82,
   "metadata": {},
   "outputs": [],
   "source": [
    "gscd = df_diamondrings[['Stone1_Stone', 'Price_Category']].groupby(['Stone1_Stone','Price_Category']).size().reset_index(name='counts')\n",
    "#gscd.to_excel(writer, 'Stone1_Diamond_Price_Category')\n",
    "#writer.save()\n"
   ]
  },
  {
   "cell_type": "code",
   "execution_count": 83,
   "metadata": {},
   "outputs": [],
   "source": [
    "gsco = df_otherrings[['Stone1_Stone', 'Price_Category']].groupby(['Stone1_Stone','Price_Category']).size().reset_index(name='counts')\n",
    "#gsco.to_excel(writer, 'Stone1_Other_Price_Category')\n",
    "#writer.save()\n",
    "\n"
   ]
  },
  {
   "cell_type": "code",
   "execution_count": 84,
   "metadata": {},
   "outputs": [],
   "source": [
    "X = df_diamondrings.drop(columns='Price_Category')\n",
    "y = df_diamondrings.Price_Category"
   ]
  },
  {
   "cell_type": "code",
   "execution_count": 85,
   "metadata": {},
   "outputs": [
    {
     "data": {
      "text/plain": [
       "(554, 63)"
      ]
     },
     "execution_count": 85,
     "metadata": {},
     "output_type": "execute_result"
    }
   ],
   "source": [
    "#Change category columns to One Hot Encoding\n",
    "df_dummy_rings = pd.get_dummies(X)\n",
    "df_dummy_rings.shape"
   ]
  },
  {
   "cell_type": "code",
   "execution_count": 86,
   "metadata": {},
   "outputs": [
    {
     "name": "stdout",
     "output_type": "stream",
     "text": [
      "['Metal_14K Gold', 'Metal_18K Gold', 'Metal_Sterling Silver', 'Metal_Sterling Silver & 14K Gold', 'Metal_Sterling Silver & 18K Gold', 'Stone1_Stone_Diamond', 'Stone1_Color_Black', 'Stone1_Color_Blue', 'Stone1_Color_Cognac', 'Stone1_Color_White', 'Stone1_Color_Yellow', 'Stone1_Cut_Baguette', 'Stone1_Cut_Cushion', 'Stone1_Cut_Multi-Shape', 'Stone1_Cut_Pear', 'Stone1_Cut_Round', 'Stone1_Cut_round', 'Stone2_Stone_Diamond', 'Stone2_Stone_Emerald', 'Stone2_Stone_Garnet', 'Stone2_Stone_Multi-Sapphire', 'Stone2_Stone_Ruby', 'Stone2_Stone_Sapphire', 'Stone2_Stone_Topaz', 'Stone2_Stone_Tsavorite', 'Stone2_Stone_Width;', 'Stone2_Color_ ', 'Stone2_Color_Black', 'Stone2_Color_Blue', 'Stone2_Color_Cognac', 'Stone2_Color_Green', 'Stone2_Color_Multi-Sapphire', 'Stone2_Color_Red', 'Stone2_Color_White', 'Stone2_Cut_Baguette', 'Stone2_Cut_Cushion', 'Stone2_Cut_Marquise', 'Stone2_Cut_Multi-Shape', 'Stone2_Cut_Oval', 'Stone2_Cut_Princess', 'Stone2_Cut_Round', 'Stone2_Cut_Top', 'Stone2_Cut_round', 'Stone1_Carat_cat_0.5', 'Stone1_Carat_cat_1.0', 'Stone1_Carat_cat_1.5', 'Stone1_Carat_cat_2.0', 'Stone1_Carat_cat_2.5', 'Stone1_Carat_cat_3.0', 'Stone1_Carat_cat_3.5', 'Stone1_Carat_cat_4.0', 'Stone1_Carat_cat_4.5', 'Stone1_Carat_cat_5.0', 'Stone2_Carat_cat_0.5', 'Stone2_Carat_cat_1.0', 'Stone2_Carat_cat_1.5', 'Stone2_Carat_cat_2.0', 'Stone2_Carat_cat_2.5', 'Stone2_Carat_cat_3.0', 'Stone2_Carat_cat_3.5', 'Stone2_Carat_cat_4.0', 'Stone2_Carat_cat_4.5', 'Stone2_Carat_cat_5.0']\n"
     ]
    }
   ],
   "source": [
    "print(df_dummy_rings.columns.tolist())"
   ]
  },
  {
   "cell_type": "code",
   "execution_count": 87,
   "metadata": {},
   "outputs": [],
   "source": [
    "#Split your data into testing and training datasets\n",
    "X_train, X_test, y_train, y_test = train_test_split(df_dummy_rings, y, test_size=0.3, \n",
    "                                                    random_state=47)"
   ]
  },
  {
   "cell_type": "code",
   "execution_count": 88,
   "metadata": {},
   "outputs": [
    {
     "data": {
      "text/plain": [
       "((387, 63), (167, 63))"
      ]
     },
     "execution_count": 88,
     "metadata": {},
     "output_type": "execute_result"
    }
   ],
   "source": [
    "X_train.shape, X_test.shape"
   ]
  },
  {
   "cell_type": "code",
   "execution_count": 145,
   "metadata": {},
   "outputs": [
    {
     "data": {
      "text/html": [
       "<div>\n",
       "<style scoped>\n",
       "    .dataframe tbody tr th:only-of-type {\n",
       "        vertical-align: middle;\n",
       "    }\n",
       "\n",
       "    .dataframe tbody tr th {\n",
       "        vertical-align: top;\n",
       "    }\n",
       "\n",
       "    .dataframe thead th {\n",
       "        text-align: right;\n",
       "    }\n",
       "</style>\n",
       "<table border=\"1\" class=\"dataframe\">\n",
       "  <thead>\n",
       "    <tr style=\"text-align: right;\">\n",
       "      <th></th>\n",
       "      <th>Metal</th>\n",
       "      <th>counts</th>\n",
       "    </tr>\n",
       "  </thead>\n",
       "  <tbody>\n",
       "    <tr>\n",
       "      <th>0</th>\n",
       "      <td>14K Gold</td>\n",
       "      <td>508</td>\n",
       "    </tr>\n",
       "    <tr>\n",
       "      <th>1</th>\n",
       "      <td>18K Gold</td>\n",
       "      <td>17</td>\n",
       "    </tr>\n",
       "    <tr>\n",
       "      <th>2</th>\n",
       "      <td>Sterling Silver</td>\n",
       "      <td>7</td>\n",
       "    </tr>\n",
       "    <tr>\n",
       "      <th>3</th>\n",
       "      <td>Sterling Silver &amp; 14K Gold</td>\n",
       "      <td>1</td>\n",
       "    </tr>\n",
       "    <tr>\n",
       "      <th>4</th>\n",
       "      <td>Sterling Silver &amp; 18K Gold</td>\n",
       "      <td>21</td>\n",
       "    </tr>\n",
       "  </tbody>\n",
       "</table>\n",
       "</div>"
      ],
      "text/plain": [
       "                        Metal  counts\n",
       "0                    14K Gold     508\n",
       "1                    18K Gold      17\n",
       "2             Sterling Silver       7\n",
       "3  Sterling Silver & 14K Gold       1\n",
       "4  Sterling Silver & 18K Gold      21"
      ]
     },
     "execution_count": 145,
     "metadata": {},
     "output_type": "execute_result"
    }
   ],
   "source": [
    "df_diamondrings[['Metal']].groupby(['Metal']).size().reset_index(name='counts')\n"
   ]
  },
  {
   "cell_type": "code",
   "execution_count": 150,
   "metadata": {},
   "outputs": [
    {
     "data": {
      "text/html": [
       "<div>\n",
       "<style scoped>\n",
       "    .dataframe tbody tr th:only-of-type {\n",
       "        vertical-align: middle;\n",
       "    }\n",
       "\n",
       "    .dataframe tbody tr th {\n",
       "        vertical-align: top;\n",
       "    }\n",
       "\n",
       "    .dataframe thead th {\n",
       "        text-align: right;\n",
       "    }\n",
       "</style>\n",
       "<table border=\"1\" class=\"dataframe\">\n",
       "  <thead>\n",
       "    <tr style=\"text-align: right;\">\n",
       "      <th></th>\n",
       "      <th>Metal</th>\n",
       "      <th>Stone1_Stone</th>\n",
       "      <th>Stone1_Color</th>\n",
       "      <th>Stone1_Cut</th>\n",
       "      <th>Stone2_Stone</th>\n",
       "      <th>Stone2_Color</th>\n",
       "      <th>Stone2_Cut</th>\n",
       "      <th>Price_Category</th>\n",
       "      <th>Stone1_Carat_cat</th>\n",
       "      <th>Stone2_Carat_cat</th>\n",
       "    </tr>\n",
       "  </thead>\n",
       "  <tbody>\n",
       "    <tr>\n",
       "      <th>500</th>\n",
       "      <td>Sterling Silver</td>\n",
       "      <td>Diamond</td>\n",
       "      <td>White</td>\n",
       "      <td>Round</td>\n",
       "      <td>NaN</td>\n",
       "      <td>NaN</td>\n",
       "      <td>NaN</td>\n",
       "      <td>1000</td>\n",
       "      <td>0.5</td>\n",
       "      <td>NaN</td>\n",
       "    </tr>\n",
       "    <tr>\n",
       "      <th>917</th>\n",
       "      <td>Sterling Silver</td>\n",
       "      <td>Diamond</td>\n",
       "      <td>White</td>\n",
       "      <td>Round</td>\n",
       "      <td>Topaz</td>\n",
       "      <td>Blue</td>\n",
       "      <td>Cushion</td>\n",
       "      <td>1000</td>\n",
       "      <td>0.5</td>\n",
       "      <td>5.0</td>\n",
       "    </tr>\n",
       "    <tr>\n",
       "      <th>1029</th>\n",
       "      <td>Sterling Silver</td>\n",
       "      <td>Diamond</td>\n",
       "      <td>White</td>\n",
       "      <td>Round</td>\n",
       "      <td>Tsavorite</td>\n",
       "      <td>Green</td>\n",
       "      <td>Round</td>\n",
       "      <td>1000</td>\n",
       "      <td>0.5</td>\n",
       "      <td>0.5</td>\n",
       "    </tr>\n",
       "    <tr>\n",
       "      <th>1051</th>\n",
       "      <td>Sterling Silver</td>\n",
       "      <td>Diamond</td>\n",
       "      <td>White</td>\n",
       "      <td>Round</td>\n",
       "      <td>NaN</td>\n",
       "      <td>NaN</td>\n",
       "      <td>NaN</td>\n",
       "      <td>1000</td>\n",
       "      <td>0.5</td>\n",
       "      <td>NaN</td>\n",
       "    </tr>\n",
       "    <tr>\n",
       "      <th>1116</th>\n",
       "      <td>Sterling Silver</td>\n",
       "      <td>Diamond</td>\n",
       "      <td>White</td>\n",
       "      <td>Round</td>\n",
       "      <td>NaN</td>\n",
       "      <td>NaN</td>\n",
       "      <td>NaN</td>\n",
       "      <td>1000</td>\n",
       "      <td>0.5</td>\n",
       "      <td>NaN</td>\n",
       "    </tr>\n",
       "    <tr>\n",
       "      <th>1149</th>\n",
       "      <td>Sterling Silver</td>\n",
       "      <td>Diamond</td>\n",
       "      <td>White</td>\n",
       "      <td>Round</td>\n",
       "      <td>NaN</td>\n",
       "      <td>NaN</td>\n",
       "      <td>NaN</td>\n",
       "      <td>1000</td>\n",
       "      <td>0.5</td>\n",
       "      <td>NaN</td>\n",
       "    </tr>\n",
       "    <tr>\n",
       "      <th>1376</th>\n",
       "      <td>Sterling Silver</td>\n",
       "      <td>Diamond</td>\n",
       "      <td>White</td>\n",
       "      <td>Round</td>\n",
       "      <td>Tsavorite</td>\n",
       "      <td>Green</td>\n",
       "      <td>Round</td>\n",
       "      <td>1000</td>\n",
       "      <td>0.5</td>\n",
       "      <td>0.5</td>\n",
       "    </tr>\n",
       "  </tbody>\n",
       "</table>\n",
       "</div>"
      ],
      "text/plain": [
       "                Metal Stone1_Stone Stone1_Color Stone1_Cut Stone2_Stone  \\\n",
       "500   Sterling Silver      Diamond        White      Round          NaN   \n",
       "917   Sterling Silver      Diamond        White      Round        Topaz   \n",
       "1029  Sterling Silver      Diamond        White      Round    Tsavorite   \n",
       "1051  Sterling Silver      Diamond        White      Round          NaN   \n",
       "1116  Sterling Silver      Diamond        White      Round          NaN   \n",
       "1149  Sterling Silver      Diamond        White      Round          NaN   \n",
       "1376  Sterling Silver      Diamond        White      Round    Tsavorite   \n",
       "\n",
       "     Stone2_Color Stone2_Cut Price_Category Stone1_Carat_cat Stone2_Carat_cat  \n",
       "500           NaN        NaN           1000              0.5              NaN  \n",
       "917          Blue    Cushion           1000              0.5              5.0  \n",
       "1029        Green      Round           1000              0.5              0.5  \n",
       "1051          NaN        NaN           1000              0.5              NaN  \n",
       "1116          NaN        NaN           1000              0.5              NaN  \n",
       "1149          NaN        NaN           1000              0.5              NaN  \n",
       "1376        Green      Round           1000              0.5              0.5  "
      ]
     },
     "execution_count": 150,
     "metadata": {},
     "output_type": "execute_result"
    }
   ],
   "source": [
    "df_diamondrings[df_diamondrings['Metal'] == 'Sterling Silver']"
   ]
  },
  {
   "cell_type": "markdown",
   "metadata": {},
   "source": [
    "## Logistic Regression For Diamonds dataset\n"
   ]
  },
  {
   "cell_type": "code",
   "execution_count": 89,
   "metadata": {},
   "outputs": [
    {
     "name": "stdout",
     "output_type": "stream",
     "text": [
      "Best: 0.364341 using {'C': 100, 'penalty': 'l2', 'solver': 'liblinear'}\n",
      "0.356589 (0.039527) with: {'C': 100, 'penalty': 'l2', 'solver': 'newton-cg'}\n",
      "0.351421 (0.038152) with: {'C': 100, 'penalty': 'l2', 'solver': 'lbfgs'}\n",
      "0.364341 (0.031647) with: {'C': 100, 'penalty': 'l2', 'solver': 'liblinear'}\n",
      "0.361757 (0.032480) with: {'C': 10, 'penalty': 'l2', 'solver': 'newton-cg'}\n",
      "0.361757 (0.032480) with: {'C': 10, 'penalty': 'l2', 'solver': 'lbfgs'}\n",
      "0.364341 (0.035241) with: {'C': 10, 'penalty': 'l2', 'solver': 'liblinear'}\n",
      "0.354005 (0.044905) with: {'C': 1.0, 'penalty': 'l2', 'solver': 'newton-cg'}\n",
      "0.354005 (0.044905) with: {'C': 1.0, 'penalty': 'l2', 'solver': 'lbfgs'}\n",
      "0.346253 (0.043084) with: {'C': 1.0, 'penalty': 'l2', 'solver': 'liblinear'}\n",
      "0.320413 (0.034860) with: {'C': 0.1, 'penalty': 'l2', 'solver': 'newton-cg'}\n",
      "0.320413 (0.034860) with: {'C': 0.1, 'penalty': 'l2', 'solver': 'lbfgs'}\n",
      "0.312661 (0.040197) with: {'C': 0.1, 'penalty': 'l2', 'solver': 'liblinear'}\n",
      "0.183463 (0.013176) with: {'C': 0.01, 'penalty': 'l2', 'solver': 'newton-cg'}\n",
      "0.183463 (0.013176) with: {'C': 0.01, 'penalty': 'l2', 'solver': 'lbfgs'}\n",
      "0.222222 (0.014617) with: {'C': 0.01, 'penalty': 'l2', 'solver': 'liblinear'}\n"
     ]
    }
   ],
   "source": [
    "#from sklearn.model_selection import RepeatedStratifiedKFold\n",
    "\n",
    "model = LogisticRegression()\n",
    "solvers = ['newton-cg', 'lbfgs', 'liblinear']\n",
    "penalty = ['l2']\n",
    "c_values = [100, 10, 1.0, 0.1, 0.01]\n",
    "\n",
    "# define grid search\n",
    "grid = dict(solver=solvers,penalty=penalty,C=c_values)\n",
    "#cv = RepeatedStratifiedKFold(n_splits=4, n_repeats=3, random_state=1)\n",
    "grid_search = GridSearchCV(estimator=model, param_grid=grid, n_jobs=-1, cv=3, scoring='accuracy',error_score=0)\n",
    "grid_result = grid_search.fit(X_train, y_train)\n",
    "# summarize results\n",
    "print(\"Best: %f using %s\" % (grid_result.best_score_, grid_result.best_params_))\n",
    "means = grid_result.cv_results_['mean_test_score']\n",
    "stds = grid_result.cv_results_['std_test_score']\n",
    "params = grid_result.cv_results_['params']\n",
    "for mean, stdev, param in zip(means, stds, params):\n",
    "    print(\"%f (%f) with: %r\" % (mean, stdev, param))"
   ]
  },
  {
   "cell_type": "code",
   "execution_count": 90,
   "metadata": {},
   "outputs": [],
   "source": [
    "logr = LogisticRegression(C=100, penalty= 'l2', solver = 'liblinear')\n",
    "logr.fit(X_train,y_train)\n",
    "importances = pd.DataFrame(data={'Attribute':X_train.columns, 'Importance':logr.coef_[0]})\n",
    "importances = importances.sort_values(by='Importance',ascending=False)"
   ]
  },
  {
   "cell_type": "code",
   "execution_count": 91,
   "metadata": {},
   "outputs": [],
   "source": [
    "#importances"
   ]
  },
  {
   "cell_type": "code",
   "execution_count": 92,
   "metadata": {},
   "outputs": [
    {
     "name": "stdout",
     "output_type": "stream",
     "text": [
      "Test Accuracy Score:  0.33532934131736525\n",
      "Cross Validation Accuracy Scores:  [0.36434109 0.3255814  0.40310078]\n",
      "Cross Validation min: 0.32558139534883723 , mean: 0.3643410852713178 , max :0.40310077519379844\n"
     ]
    }
   ],
   "source": [
    "#np.array(y_test.tolist())\n",
    "from sklearn.model_selection import cross_val_score\n",
    "\n",
    "score=logr.score(X_test, y_test)\n",
    "print(\"Test Accuracy Score: \", score)\n",
    "scores = cross_val_score(logr,X_train,y_train,cv=3,scoring='accuracy')\n",
    "print(\"Cross Validation Accuracy Scores: \", scores)\n",
    "print(\"Cross Validation min: {} , mean: {} , max :{}\".format(scores.min(), scores.mean(), scores.max() ))"
   ]
  },
  {
   "cell_type": "code",
   "execution_count": 93,
   "metadata": {},
   "outputs": [
    {
     "data": {
      "image/png": "[encoded data removed]",
      "text/plain": [
       "<Figure size 432x288 with 1 Axes>"
      ]
     },
     "metadata": {
      "needs_background": "light"
     },
     "output_type": "display_data"
    }
   ],
   "source": [
    "plt.bar(x=importances['Attribute'][:30], height=importances['Importance'][:30])\n",
    "plt.title('Feature importances obtained from coefficients', size=20)\n",
    "plt.xticks(rotation='vertical')\n",
    "plt.show()"
   ]
  },
  {
   "cell_type": "code",
   "execution_count": 94,
   "metadata": {},
   "outputs": [
    {
     "name": "stdout",
     "output_type": "stream",
     "text": [
      "The Accuracy score of prediction:  0.33532934131736525\n"
     ]
    }
   ],
   "source": [
    "#Predict the test data \n",
    "y_pred = logr.predict(X_test)\n",
    "print(\"The Accuracy score of prediction: \" ,accuracy_score(y_test, y_pred))"
   ]
  },
  {
   "cell_type": "code",
   "execution_count": 95,
   "metadata": {},
   "outputs": [
    {
     "data": {
      "image/png": "[encoded data removed]",
      "text/plain": [
       "<Figure size 432x288 with 2 Axes>"
      ]
     },
     "metadata": {
      "needs_background": "light"
     },
     "output_type": "display_data"
    }
   ],
   "source": [
    "from sklearn.metrics import plot_confusion_matrix\n",
    "\n",
    "plot_confusion_matrix(logr, X_test, y_test,cmap=plt.cm.Blues) \n",
    "plt.xticks(rotation=90)\n",
    "plt.show()"
   ]
  },
  {
   "cell_type": "code",
   "execution_count": 96,
   "metadata": {},
   "outputs": [
    {
     "name": "stdout",
     "output_type": "stream",
     "text": [
      "Precision Score:  0.3216344113402937\n",
      "Recall Score: 0.32110046957873045\n"
     ]
    }
   ],
   "source": [
    "from sklearn.metrics import precision_score, recall_score\n",
    "\n",
    "precision = precision_score(y_test, y_pred, average='macro')\n",
    "recall = recall_score(y_test,y_pred, average='macro')\n",
    "\n",
    "print('Precision Score: ', precision)\n",
    "print('Recall Score:', recall)"
   ]
  },
  {
   "cell_type": "code",
   "execution_count": 97,
   "metadata": {},
   "outputs": [
    {
     "name": "stdout",
     "output_type": "stream",
     "text": [
      "              precision    recall  f1-score   support\n",
      "\n",
      "        1000       0.83      0.50      0.62        10\n",
      "        2000       0.29      0.75      0.41        16\n",
      "        3000       0.50      0.04      0.07        26\n",
      "        4000       0.37      0.58      0.45        33\n",
      "        5000       0.33      0.09      0.14        23\n",
      "        6000       0.36      0.53      0.43        15\n",
      "        7000       0.08      0.11      0.10         9\n",
      "        8000       0.00      0.00      0.00        14\n",
      "        9000       0.00      0.00      0.00         8\n",
      "  Above 9000       0.44      0.62      0.52        13\n",
      "\n",
      "    accuracy                           0.34       167\n",
      "   macro avg       0.32      0.32      0.27       167\n",
      "weighted avg       0.35      0.34      0.28       167\n",
      "\n"
     ]
    }
   ],
   "source": [
    "from sklearn.metrics import classification_report\n",
    "print(classification_report(y_test, y_pred))"
   ]
  },
  {
   "cell_type": "code",
   "execution_count": 98,
   "metadata": {},
   "outputs": [
    {
     "data": {
      "text/plain": [
       "array(['2000', '7000', 'Above 9000', '4000', '7000'], dtype=object)"
      ]
     },
     "execution_count": 98,
     "metadata": {},
     "output_type": "execute_result"
    }
   ],
   "source": [
    "y_pred[0:5]"
   ]
  },
  {
   "cell_type": "code",
   "execution_count": 99,
   "metadata": {},
   "outputs": [
    {
     "data": {
      "text/plain": [
       "1316    3000\n",
       "1210    6000\n",
       "929     7000\n",
       "1159    3000\n",
       "1284    8000\n",
       "Name: Price_Category, dtype: category\n",
       "Categories (10, object): ['1000' < '2000' < '3000' < '4000' ... '7000' < '8000' < '9000' < 'Above 9000']"
      ]
     },
     "execution_count": 99,
     "metadata": {},
     "output_type": "execute_result"
    }
   ],
   "source": [
    "y_test[0:5]"
   ]
  },
  {
   "cell_type": "markdown",
   "metadata": {},
   "source": [
    "## Random Forest Model For Diamond Data Set"
   ]
  },
  {
   "cell_type": "code",
   "execution_count": 100,
   "metadata": {},
   "outputs": [],
   "source": [
    "#Define a pipeline comprising the steps:\n",
    "#SimpleImputer() with a strategy of 'median'\n",
    "#StandardScaler(),http://localhost:8888/notebooks/SpringBoard/DataScience_Capstone2/notebooks/Effy_EDA_Rings.ipynb#\n",
    "#and then RandomForestClassifier with a random state of 47\n",
    "from sklearn.ensemble import RandomForestRegressor, RandomForestClassifier\n",
    "RF_pipe = make_pipeline(\n",
    "    SimpleImputer(strategy='median'),\n",
    "    StandardScaler(),\n",
    "    RandomForestClassifier(random_state=47)\n",
    ")"
   ]
  },
  {
   "cell_type": "code",
   "execution_count": 101,
   "metadata": {},
   "outputs": [],
   "source": [
    "#Call `cross_validate` to estimate the pipeline's performance.\n",
    "#Pass it the random forest pipe object, `X_train` and `y_train`,\n",
    "#and get it to use 5-fold cross-validation\n",
    "rf_default_cv_results = cross_validate(RF_pipe, X_train, y_train, cv=3)"
   ]
  },
  {
   "cell_type": "code",
   "execution_count": 102,
   "metadata": {},
   "outputs": [
    {
     "data": {
      "text/plain": [
       "array([0.37984496, 0.31782946, 0.35658915])"
      ]
     },
     "execution_count": 102,
     "metadata": {},
     "output_type": "execute_result"
    }
   ],
   "source": [
    "rf_cv_scores = rf_default_cv_results['test_score']\n",
    "rf_cv_scores"
   ]
  },
  {
   "cell_type": "code",
   "execution_count": 103,
   "metadata": {},
   "outputs": [
    {
     "data": {
      "text/plain": [
       "(0.351421188630491, 0.02558009027548234)"
      ]
     },
     "execution_count": 103,
     "metadata": {},
     "output_type": "execute_result"
    }
   ],
   "source": [
    "np.mean(rf_cv_scores), np.std(rf_cv_scores)"
   ]
  },
  {
   "cell_type": "code",
   "execution_count": 104,
   "metadata": {},
   "outputs": [
    {
     "data": {
      "text/plain": [
       "{'randomforestclassifier__n_estimators': [10,\n",
       "  12,\n",
       "  16,\n",
       "  20,\n",
       "  26,\n",
       "  33,\n",
       "  42,\n",
       "  54,\n",
       "  69,\n",
       "  88,\n",
       "  112,\n",
       "  143,\n",
       "  183,\n",
       "  233,\n",
       "  297,\n",
       "  379,\n",
       "  483,\n",
       "  615,\n",
       "  784,\n",
       "  1000],\n",
       " 'standardscaler': [StandardScaler(), None],\n",
       " 'simpleimputer__strategy': ['mean', 'median']}"
      ]
     },
     "execution_count": 104,
     "metadata": {},
     "output_type": "execute_result"
    }
   ],
   "source": [
    "n_est = [int(n) for n in np.logspace(start=1, stop=3, num=20)]\n",
    "grid_params = {\n",
    "        'randomforestclassifier__n_estimators': n_est,\n",
    "        'standardscaler': [StandardScaler(), None],\n",
    "        'simpleimputer__strategy': ['mean', 'median']\n",
    "}\n",
    "grid_params\n",
    "\n"
   ]
  },
  {
   "cell_type": "code",
   "execution_count": 105,
   "metadata": {},
   "outputs": [],
   "source": [
    "#Call `GridSearchCV` with the random forest pipeline, passing in the above `grid_params`\n",
    "#dict for parameters to evaluate, 5-fold cross-validation, and all available CPU cores (if desired)\n",
    "rf_grid_cv = GridSearchCV(RF_pipe, param_grid=grid_params, cv=3, n_jobs=-1)"
   ]
  },
  {
   "cell_type": "code",
   "execution_count": 106,
   "metadata": {},
   "outputs": [
    {
     "data": {
      "text/plain": [
       "GridSearchCV(cv=3,\n",
       "             estimator=Pipeline(steps=[('simpleimputer',\n",
       "                                        SimpleImputer(strategy='median')),\n",
       "                                       ('standardscaler', StandardScaler()),\n",
       "                                       ('randomforestclassifier',\n",
       "                                        RandomForestClassifier(random_state=47))]),\n",
       "             n_jobs=-1,\n",
       "             param_grid={'randomforestclassifier__n_estimators': [10, 12, 16,\n",
       "                                                                  20, 26, 33,\n",
       "                                                                  42, 54, 69,\n",
       "                                                                  88, 112, 143,\n",
       "                                                                  183, 233, 297,\n",
       "                                                                  379, 483, 615,\n",
       "                                                                  784, 1000],\n",
       "                         'simpleimputer__strategy': ['mean', 'median'],\n",
       "                         'standardscaler': [StandardScaler(), None]})"
      ]
     },
     "execution_count": 106,
     "metadata": {},
     "output_type": "execute_result"
    }
   ],
   "source": [
    "#Now call the `GridSearchCV`'s `fit()` method with `X_train` and `y_train` as arguments\n",
    "#to actually start the grid search. This may take a minute or two.\n",
    "rf_grid_cv.fit(X_train, y_train)"
   ]
  },
  {
   "cell_type": "code",
   "execution_count": 107,
   "metadata": {},
   "outputs": [
    {
     "data": {
      "text/plain": [
       "{'randomforestclassifier__n_estimators': 483,\n",
       " 'simpleimputer__strategy': 'mean',\n",
       " 'standardscaler': StandardScaler()}"
      ]
     },
     "execution_count": 107,
     "metadata": {},
     "output_type": "execute_result"
    }
   ],
   "source": [
    "#Print the best params (`best_params_` attribute) from the grid search\n",
    "rf_grid_cv.best_params_"
   ]
  },
  {
   "cell_type": "code",
   "execution_count": 108,
   "metadata": {},
   "outputs": [
    {
     "data": {
      "text/plain": [
       "array([0.40310078, 0.3255814 , 0.39534884])"
      ]
     },
     "execution_count": 108,
     "metadata": {},
     "output_type": "execute_result"
    }
   ],
   "source": [
    "rf_best_cv_results = cross_validate(rf_grid_cv.best_estimator_, X_train, y_train, cv=3)\n",
    "rf_best_scores = rf_best_cv_results['test_score']\n",
    "rf_best_scores"
   ]
  },
  {
   "cell_type": "code",
   "execution_count": 109,
   "metadata": {},
   "outputs": [
    {
     "data": {
      "text/plain": [
       "(0.37467700258397935, 0.034859786985095696)"
      ]
     },
     "execution_count": 109,
     "metadata": {},
     "output_type": "execute_result"
    }
   ],
   "source": [
    "np.mean(rf_best_scores), np.std(rf_best_scores)"
   ]
  },
  {
   "cell_type": "code",
   "execution_count": 110,
   "metadata": {},
   "outputs": [
    {
     "data": {
      "image/png": "[encoded data removed]",
      "text/plain": [
       "<Figure size 720x360 with 1 Axes>"
      ]
     },
     "metadata": {
      "needs_background": "light"
     },
     "output_type": "display_data"
    }
   ],
   "source": [
    "#Plot a barplot of the random forest's feature importances,\n",
    "#assigning the `feature_importances_` attribute of \n",
    "#`rf_grid_cv.best_estimator_.named_steps.randomforestclassifier` to the name `imps` to then\n",
    "#create a pandas Series object of the feature importances, with the index given by the\n",
    "#training data column names, sorting the values in descending order\n",
    "plt.subplots(figsize=(10, 5))\n",
    "imps = rf_grid_cv.best_estimator_.named_steps.randomforestclassifier.feature_importances_\n",
    "rf_feat_imps = pd.Series(imps, index=X_train.columns).sort_values(ascending=False)\n",
    "rf_feat_imps.head(10).plot(kind='bar')\n",
    "plt.xlabel('features')\n",
    "plt.ylabel('importance')\n",
    "plt.title('Best random forest regressor feature importances');"
   ]
  },
  {
   "cell_type": "code",
   "execution_count": 111,
   "metadata": {},
   "outputs": [],
   "source": [
    "y_pred_rf = rf_grid_cv.predict(X_test)\n",
    "\n"
   ]
  },
  {
   "cell_type": "code",
   "execution_count": 112,
   "metadata": {},
   "outputs": [
    {
     "name": "stdout",
     "output_type": "stream",
     "text": [
      "The Accuracy score of Random Forest prediction:  0.3473053892215569\n"
     ]
    }
   ],
   "source": [
    "print(\"The Accuracy score of Random Forest prediction: \" ,accuracy_score(y_test, y_pred_rf))"
   ]
  },
  {
   "cell_type": "code",
   "execution_count": 113,
   "metadata": {},
   "outputs": [
    {
     "name": "stdout",
     "output_type": "stream",
     "text": [
      "Precision Score:  0.284585484391385\n",
      "Recall Score: 0.35206682206682205\n"
     ]
    },
    {
     "name": "stderr",
     "output_type": "stream",
     "text": [
      "/Users/rupalgandhre/opt/anaconda3/lib/python3.8/site-packages/sklearn/metrics/_classification.py:1221: UndefinedMetricWarning: Precision is ill-defined and being set to 0.0 in labels with no predicted samples. Use `zero_division` parameter to control this behavior.\n",
      "  _warn_prf(average, modifier, msg_start, len(result))\n"
     ]
    }
   ],
   "source": [
    "precision = precision_score(y_test, y_pred_rf, average='macro')\n",
    "recall = recall_score(y_test,y_pred_rf, average='macro')\n",
    "\n",
    "print('Precision Score: ', precision)\n",
    "print('Recall Score:', recall)"
   ]
  },
  {
   "cell_type": "code",
   "execution_count": 114,
   "metadata": {},
   "outputs": [
    {
     "name": "stdout",
     "output_type": "stream",
     "text": [
      "              precision    recall  f1-score   support\n",
      "\n",
      "        1000       0.86      0.60      0.71        10\n",
      "        2000       0.32      0.88      0.47        16\n",
      "        3000       0.14      0.04      0.06        26\n",
      "        4000       0.37      0.55      0.44        33\n",
      "        5000       0.00      0.00      0.00        23\n",
      "        6000       0.35      0.53      0.42        15\n",
      "        7000       0.08      0.11      0.10         9\n",
      "        8000       0.00      0.00      0.00        14\n",
      "        9000       0.17      0.12      0.14         8\n",
      "  Above 9000       0.56      0.69      0.62        13\n",
      "\n",
      "    accuracy                           0.35       167\n",
      "   macro avg       0.28      0.35      0.30       167\n",
      "weighted avg       0.26      0.35      0.28       167\n",
      "\n"
     ]
    },
    {
     "name": "stderr",
     "output_type": "stream",
     "text": [
      "/Users/rupalgandhre/opt/anaconda3/lib/python3.8/site-packages/sklearn/metrics/_classification.py:1221: UndefinedMetricWarning: Precision and F-score are ill-defined and being set to 0.0 in labels with no predicted samples. Use `zero_division` parameter to control this behavior.\n",
      "  _warn_prf(average, modifier, msg_start, len(result))\n"
     ]
    }
   ],
   "source": [
    "print(classification_report(y_test, y_pred_rf))"
   ]
  },
  {
   "cell_type": "markdown",
   "metadata": {},
   "source": [
    "## Logistic Regression For Other Stones"
   ]
  },
  {
   "cell_type": "code",
   "execution_count": 115,
   "metadata": {},
   "outputs": [],
   "source": [
    "X1 = df_otherrings.drop(columns='Price_Category')\n",
    "y1 = df_otherrings.Price_Category \n",
    "\n",
    "\n",
    "#Change category columns to One Hot Encoding\n",
    "df_dummy_rings_O = pd.get_dummies(X1)\n",
    "#df_dummy_rings_O.shape\n",
    "\n",
    "#Split your data into testing and training datasets\n",
    "X_train_O, X_test_O, y_train_O, y_test_O = train_test_split(df_dummy_rings_O, y1, test_size=0.3, \n",
    "                                                    random_state=47)\n"
   ]
  },
  {
   "cell_type": "code",
   "execution_count": 116,
   "metadata": {},
   "outputs": [
    {
     "name": "stderr",
     "output_type": "stream",
     "text": [
      "/Users/rupalgandhre/opt/anaconda3/lib/python3.8/site-packages/sklearn/model_selection/_split.py:670: UserWarning: The least populated class in y has only 2 members, which is less than n_splits=3.\n",
      "  warnings.warn((\"The least populated class in y has only %d\"\n"
     ]
    },
    {
     "name": "stdout",
     "output_type": "stream",
     "text": [
      "Best: 0.394172 using {'C': 10, 'penalty': 'l2', 'solver': 'newton-cg'}\n",
      "0.383484 (0.038382) with: {'C': 100, 'penalty': 'l2', 'solver': 'newton-cg'}\n",
      "0.388817 (0.028380) with: {'C': 100, 'penalty': 'l2', 'solver': 'lbfgs'}\n",
      "0.378108 (0.035713) with: {'C': 100, 'penalty': 'l2', 'solver': 'liblinear'}\n",
      "0.394172 (0.040670) with: {'C': 10, 'penalty': 'l2', 'solver': 'newton-cg'}\n",
      "0.394172 (0.040670) with: {'C': 10, 'penalty': 'l2', 'solver': 'lbfgs'}\n",
      "0.388796 (0.051528) with: {'C': 10, 'penalty': 'l2', 'solver': 'liblinear'}\n",
      "0.383462 (0.048237) with: {'C': 1.0, 'penalty': 'l2', 'solver': 'newton-cg'}\n",
      "0.383462 (0.048237) with: {'C': 1.0, 'penalty': 'l2', 'solver': 'lbfgs'}\n",
      "0.391527 (0.053905) with: {'C': 1.0, 'penalty': 'l2', 'solver': 'liblinear'}\n",
      "0.370129 (0.047123) with: {'C': 0.1, 'penalty': 'l2', 'solver': 'newton-cg'}\n",
      "0.370129 (0.047123) with: {'C': 0.1, 'penalty': 'l2', 'solver': 'lbfgs'}\n",
      "0.370086 (0.034009) with: {'C': 0.1, 'penalty': 'l2', 'solver': 'liblinear'}\n",
      "0.329763 (0.013228) with: {'C': 0.01, 'penalty': 'l2', 'solver': 'newton-cg'}\n",
      "0.329763 (0.013228) with: {'C': 0.01, 'penalty': 'l2', 'solver': 'lbfgs'}\n",
      "0.329785 (0.017857) with: {'C': 0.01, 'penalty': 'l2', 'solver': 'liblinear'}\n"
     ]
    }
   ],
   "source": [
    "#from sklearn.model_selection import RepeatedStratifiedKFold\n",
    "\n",
    "model = LogisticRegression()\n",
    "solvers = ['newton-cg', 'lbfgs', 'liblinear']\n",
    "penalty = ['l2']\n",
    "c_values = [100, 10, 1.0, 0.1, 0.01]\n",
    "\n",
    "# define grid search\n",
    "grid = dict(solver=solvers,penalty=penalty,C=c_values)\n",
    "#cv = RepeatedStratifiedKFold(n_splits=4, n_repeats=3, random_state=1)\n",
    "grid_search = GridSearchCV(estimator=model, param_grid=grid, n_jobs=-1, cv=3, scoring='accuracy',error_score=0)\n",
    "grid_result = grid_search.fit(X_train_O, y_train_O)\n",
    "# summarize results\n",
    "print(\"Best: %f using %s\" % (grid_result.best_score_, grid_result.best_params_))\n",
    "means = grid_result.cv_results_['mean_test_score']\n",
    "stds = grid_result.cv_results_['std_test_score']\n",
    "params = grid_result.cv_results_['params']\n",
    "for mean, stdev, param in zip(means, stds, params):\n",
    "    print(\"%f (%f) with: %r\" % (mean, stdev, param))"
   ]
  },
  {
   "cell_type": "code",
   "execution_count": 117,
   "metadata": {},
   "outputs": [],
   "source": [
    "logr = LogisticRegression(C=10, penalty= 'l2', solver = 'newton-cg')\n",
    "logr.fit(X_train,y_train)\n",
    "importances = pd.DataFrame(data={'Attribute':X_train.columns, 'Importance':logr.coef_[0]})\n",
    "importances = importances.sort_values(by='Importance',ascending=False)"
   ]
  },
  {
   "cell_type": "code",
   "execution_count": 118,
   "metadata": {},
   "outputs": [
    {
     "name": "stdout",
     "output_type": "stream",
     "text": [
      "Test Accuracy Score:  0.3473053892215569\n",
      "Cross Validation Accuracy Scores:  [0.37209302 0.31782946 0.39534884]\n",
      "Cross Validation min: 0.3178294573643411 , mean: 0.3617571059431524 , max :0.3953488372093023\n"
     ]
    }
   ],
   "source": [
    "from sklearn.model_selection import cross_val_score\n",
    "\n",
    "score=logr.score(X_test, y_test)\n",
    "print(\"Test Accuracy Score: \", score)\n",
    "scores = cross_val_score(logr,X_train,y_train,cv=3,scoring='accuracy')\n",
    "print(\"Cross Validation Accuracy Scores: \", scores)\n",
    "print(\"Cross Validation min: {} , mean: {} , max :{}\".format(scores.min(), scores.mean(), scores.max() ))"
   ]
  },
  {
   "cell_type": "code",
   "execution_count": 119,
   "metadata": {},
   "outputs": [
    {
     "data": {
      "image/png": "[encoded data removed]",
      "text/plain": [
       "<Figure size 432x288 with 1 Axes>"
      ]
     },
     "metadata": {
      "needs_background": "light"
     },
     "output_type": "display_data"
    }
   ],
   "source": [
    "plt.bar(x=importances['Attribute'][:30], height=importances['Importance'][:30])\n",
    "plt.title('Feature importances obtained from coefficients', size=20)\n",
    "plt.xticks(rotation='vertical')\n",
    "plt.show()"
   ]
  },
  {
   "cell_type": "code",
   "execution_count": 120,
   "metadata": {},
   "outputs": [
    {
     "name": "stdout",
     "output_type": "stream",
     "text": [
      "The Accuracy score of prediction:  0.3473053892215569\n"
     ]
    }
   ],
   "source": [
    "y_pred = logr.predict(X_test)\n",
    "print(\"The Accuracy score of prediction: \" ,accuracy_score(y_test, y_pred))\n"
   ]
  },
  {
   "cell_type": "code",
   "execution_count": 121,
   "metadata": {},
   "outputs": [
    {
     "data": {
      "image/png": "[encoded data removed]",
      "text/plain": [
       "<Figure size 432x288 with 2 Axes>"
      ]
     },
     "metadata": {
      "needs_background": "light"
     },
     "output_type": "display_data"
    }
   ],
   "source": [
    "from sklearn.metrics import plot_confusion_matrix\n",
    "plot_confusion_matrix(logr, X_test, y_test,cmap=plt.cm.Blues) \n",
    "plt.xticks(rotation=90)\n",
    "plt.show()"
   ]
  },
  {
   "cell_type": "code",
   "execution_count": 122,
   "metadata": {},
   "outputs": [
    {
     "name": "stdout",
     "output_type": "stream",
     "text": [
      "Precision Score:  0.33375185650210926\n",
      "Recall Score: 0.3331406033579947\n"
     ]
    }
   ],
   "source": [
    "from sklearn.metrics import precision_score, recall_score\n",
    "\n",
    "precision = precision_score(y_test, y_pred, average='macro')\n",
    "recall = recall_score(y_test,y_pred, average='macro')\n",
    "\n",
    "print('Precision Score: ', precision)\n",
    "print('Recall Score:', recall)"
   ]
  },
  {
   "cell_type": "code",
   "execution_count": 123,
   "metadata": {},
   "outputs": [
    {
     "name": "stdout",
     "output_type": "stream",
     "text": [
      "              precision    recall  f1-score   support\n",
      "\n",
      "        1000       0.83      0.50      0.62        10\n",
      "        2000       0.28      0.75      0.41        16\n",
      "        3000       0.50      0.04      0.07        26\n",
      "        4000       0.37      0.58      0.45        33\n",
      "        5000       0.43      0.13      0.20        23\n",
      "        6000       0.35      0.53      0.42        15\n",
      "        7000       0.08      0.11      0.10         9\n",
      "        8000       0.00      0.00      0.00        14\n",
      "        9000       0.00      0.00      0.00         8\n",
      "  Above 9000       0.50      0.69      0.58        13\n",
      "\n",
      "    accuracy                           0.35       167\n",
      "   macro avg       0.33      0.33      0.28       167\n",
      "weighted avg       0.36      0.35      0.29       167\n",
      "\n"
     ]
    }
   ],
   "source": [
    "from sklearn.metrics import classification_report\n",
    "print(classification_report(y_test, y_pred))"
   ]
  },
  {
   "cell_type": "code",
   "execution_count": 124,
   "metadata": {},
   "outputs": [
    {
     "data": {
      "text/plain": [
       "array(['2000', '7000', 'Above 9000', '4000', '7000'], dtype=object)"
      ]
     },
     "execution_count": 124,
     "metadata": {},
     "output_type": "execute_result"
    }
   ],
   "source": [
    "y_pred[0:5]"
   ]
  },
  {
   "cell_type": "code",
   "execution_count": 125,
   "metadata": {},
   "outputs": [
    {
     "data": {
      "text/plain": [
       "1316    3000\n",
       "1210    6000\n",
       "929     7000\n",
       "1159    3000\n",
       "1284    8000\n",
       "Name: Price_Category, dtype: category\n",
       "Categories (10, object): ['1000' < '2000' < '3000' < '4000' ... '7000' < '8000' < '9000' < 'Above 9000']"
      ]
     },
     "execution_count": 125,
     "metadata": {},
     "output_type": "execute_result"
    }
   ],
   "source": [
    "y_test[0:5]"
   ]
  },
  {
   "cell_type": "markdown",
   "metadata": {},
   "source": [
    "## Random Forest Model For Other Gemstones"
   ]
  },
  {
   "cell_type": "code",
   "execution_count": 126,
   "metadata": {},
   "outputs": [],
   "source": [
    "#Define a pipeline comprising the steps:\n",
    "#SimpleImputer() with a strategy of 'median'\n",
    "#StandardScaler(),http://localhost:8888/notebooks/SpringBoard/DataScience_Capstone2/notebooks/Effy_EDA_Rings.ipynb#\n",
    "#and then RandomForestClassifier with a random state of 47\n",
    "from sklearn.ensemble import RandomForestRegressor, RandomForestClassifier\n",
    "RF_pipe = make_pipeline(\n",
    "    SimpleImputer(strategy='median'),\n",
    "    StandardScaler(),\n",
    "    RandomForestClassifier(random_state=47)\n",
    ")"
   ]
  },
  {
   "cell_type": "code",
   "execution_count": 127,
   "metadata": {},
   "outputs": [
    {
     "data": {
      "text/plain": [
       "(0.351421188630491, 0.02558009027548234)"
      ]
     },
     "execution_count": 127,
     "metadata": {},
     "output_type": "execute_result"
    }
   ],
   "source": [
    "#Call `cross_validate` to estimate the pipeline's performance.\n",
    "#Pass it the random forest pipe object, `X_train` and `y_train`,\n",
    "#and get it to use 5-fold cross-validation\n",
    "rf_default_cv_results = cross_validate(RF_pipe, X_train, y_train, cv=3)\n",
    "rf_cv_scores = rf_default_cv_results['test_score']\n",
    "np.mean(rf_cv_scores), np.std(rf_cv_scores)"
   ]
  },
  {
   "cell_type": "code",
   "execution_count": 128,
   "metadata": {},
   "outputs": [
    {
     "data": {
      "text/plain": [
       "{'randomforestclassifier__n_estimators': [10,\n",
       "  12,\n",
       "  16,\n",
       "  20,\n",
       "  26,\n",
       "  33,\n",
       "  42,\n",
       "  54,\n",
       "  69,\n",
       "  88,\n",
       "  112,\n",
       "  143,\n",
       "  183,\n",
       "  233,\n",
       "  297,\n",
       "  379,\n",
       "  483,\n",
       "  615,\n",
       "  784,\n",
       "  1000],\n",
       " 'standardscaler': [StandardScaler(), None],\n",
       " 'simpleimputer__strategy': ['mean', 'median']}"
      ]
     },
     "execution_count": 128,
     "metadata": {},
     "output_type": "execute_result"
    }
   ],
   "source": [
    "n_est = [int(n) for n in np.logspace(start=1, stop=3, num=20)]\n",
    "grid_params = {\n",
    "        'randomforestclassifier__n_estimators': n_est,\n",
    "        'standardscaler': [StandardScaler(), None],\n",
    "        'simpleimputer__strategy': ['mean', 'median']\n",
    "}\n",
    "grid_params"
   ]
  },
  {
   "cell_type": "code",
   "execution_count": 129,
   "metadata": {},
   "outputs": [],
   "source": [
    "#Call `GridSearchCV` with the random forest pipeline, passing in the above `grid_params`\n",
    "#dict for parameters to evaluate, 5-fold cross-validation, and all available CPU cores (if desired)\n",
    "rf_grid_cv = GridSearchCV(RF_pipe, param_grid=grid_params, cv=3, n_jobs=-1)\n"
   ]
  },
  {
   "cell_type": "code",
   "execution_count": 130,
   "metadata": {},
   "outputs": [
    {
     "data": {
      "text/plain": [
       "GridSearchCV(cv=3,\n",
       "             estimator=Pipeline(steps=[('simpleimputer',\n",
       "                                        SimpleImputer(strategy='median')),\n",
       "                                       ('standardscaler', StandardScaler()),\n",
       "                                       ('randomforestclassifier',\n",
       "                                        RandomForestClassifier(random_state=47))]),\n",
       "             n_jobs=-1,\n",
       "             param_grid={'randomforestclassifier__n_estimators': [10, 12, 16,\n",
       "                                                                  20, 26, 33,\n",
       "                                                                  42, 54, 69,\n",
       "                                                                  88, 112, 143,\n",
       "                                                                  183, 233, 297,\n",
       "                                                                  379, 483, 615,\n",
       "                                                                  784, 1000],\n",
       "                         'simpleimputer__strategy': ['mean', 'median'],\n",
       "                         'standardscaler': [StandardScaler(), None]})"
      ]
     },
     "execution_count": 130,
     "metadata": {},
     "output_type": "execute_result"
    }
   ],
   "source": [
    "#Now call the `GridSearchCV`'s `fit()` method with `X_train` and `y_train` as arguments\n",
    "#to actually start the grid search. This may take a minute or two.\n",
    "rf_grid_cv.fit(X_train, y_train)"
   ]
  },
  {
   "cell_type": "code",
   "execution_count": 131,
   "metadata": {},
   "outputs": [
    {
     "data": {
      "text/plain": [
       "{'randomforestclassifier__n_estimators': 483,\n",
       " 'simpleimputer__strategy': 'mean',\n",
       " 'standardscaler': StandardScaler()}"
      ]
     },
     "execution_count": 131,
     "metadata": {},
     "output_type": "execute_result"
    }
   ],
   "source": [
    "#Print the best params (`best_params_` attribute) from the grid search\n",
    "rf_grid_cv.best_params_"
   ]
  },
  {
   "cell_type": "code",
   "execution_count": 132,
   "metadata": {},
   "outputs": [
    {
     "data": {
      "text/plain": [
       "array([0.40310078, 0.3255814 , 0.39534884])"
      ]
     },
     "execution_count": 132,
     "metadata": {},
     "output_type": "execute_result"
    }
   ],
   "source": [
    "rf_best_cv_results = cross_validate(rf_grid_cv.best_estimator_, X_train, y_train, cv=3)\n",
    "rf_best_scores = rf_best_cv_results['test_score']\n",
    "rf_best_scores"
   ]
  },
  {
   "cell_type": "code",
   "execution_count": 133,
   "metadata": {},
   "outputs": [
    {
     "data": {
      "text/plain": [
       "(0.37467700258397935, 0.034859786985095696)"
      ]
     },
     "execution_count": 133,
     "metadata": {},
     "output_type": "execute_result"
    }
   ],
   "source": [
    "np.mean(rf_best_scores), np.std(rf_best_scores)"
   ]
  },
  {
   "cell_type": "code",
   "execution_count": 134,
   "metadata": {},
   "outputs": [
    {
     "data": {
      "image/png": "[encoded data removed]",
      "text/plain": [
       "<Figure size 720x360 with 1 Axes>"
      ]
     },
     "metadata": {
      "needs_background": "light"
     },
     "output_type": "display_data"
    }
   ],
   "source": [
    "#Plot a barplot of the random forest's feature importances,\n",
    "#assigning the `feature_importances_` attribute of \n",
    "#`rf_grid_cv.best_estimator_.named_steps.randomforestclassifier` to the name `imps` to then\n",
    "#create a pandas Series object of the feature importances, with the index given by the\n",
    "#training data column names, sorting the values in descending order\n",
    "plt.subplots(figsize=(10, 5))\n",
    "imps = rf_grid_cv.best_estimator_.named_steps.randomforestclassifier.feature_importances_\n",
    "rf_feat_imps = pd.Series(imps, index=X_train.columns).sort_values(ascending=False)\n",
    "rf_feat_imps.head(10).plot(kind='bar')\n",
    "plt.xlabel('features')\n",
    "plt.ylabel('importance')\n",
    "plt.title('Best random forest regressor feature importances');\n"
   ]
  },
  {
   "cell_type": "code",
   "execution_count": 135,
   "metadata": {},
   "outputs": [],
   "source": [
    "\n",
    "y_pred_rf = rf_grid_cv.predict(X_test)"
   ]
  },
  {
   "cell_type": "code",
   "execution_count": 136,
   "metadata": {},
   "outputs": [
    {
     "name": "stdout",
     "output_type": "stream",
     "text": [
      "The Accuracy score of Random Forest prediction:  0.3473053892215569\n"
     ]
    }
   ],
   "source": [
    "print(\"The Accuracy score of Random Forest prediction: \" ,accuracy_score(y_test, y_pred_rf))\n"
   ]
  },
  {
   "cell_type": "code",
   "execution_count": 137,
   "metadata": {},
   "outputs": [
    {
     "name": "stdout",
     "output_type": "stream",
     "text": [
      "Precision Score:  0.284585484391385\n",
      "Recall Score: 0.35206682206682205\n"
     ]
    },
    {
     "name": "stderr",
     "output_type": "stream",
     "text": [
      "/Users/rupalgandhre/opt/anaconda3/lib/python3.8/site-packages/sklearn/metrics/_classification.py:1221: UndefinedMetricWarning: Precision is ill-defined and being set to 0.0 in labels with no predicted samples. Use `zero_division` parameter to control this behavior.\n",
      "  _warn_prf(average, modifier, msg_start, len(result))\n"
     ]
    }
   ],
   "source": [
    "precision = precision_score(y_test, y_pred_rf, average='macro')\n",
    "recall = recall_score(y_test,y_pred_rf, average='macro')\n",
    "\n",
    "print('Precision Score: ', precision)\n",
    "print('Recall Score:', recall)"
   ]
  },
  {
   "cell_type": "code",
   "execution_count": 138,
   "metadata": {},
   "outputs": [
    {
     "name": "stdout",
     "output_type": "stream",
     "text": [
      "              precision    recall  f1-score   support\n",
      "\n",
      "        1000       0.86      0.60      0.71        10\n",
      "        2000       0.32      0.88      0.47        16\n",
      "        3000       0.14      0.04      0.06        26\n",
      "        4000       0.37      0.55      0.44        33\n",
      "        5000       0.00      0.00      0.00        23\n",
      "        6000       0.35      0.53      0.42        15\n",
      "        7000       0.08      0.11      0.10         9\n",
      "        8000       0.00      0.00      0.00        14\n",
      "        9000       0.17      0.12      0.14         8\n",
      "  Above 9000       0.56      0.69      0.62        13\n",
      "\n",
      "    accuracy                           0.35       167\n",
      "   macro avg       0.28      0.35      0.30       167\n",
      "weighted avg       0.26      0.35      0.28       167\n",
      "\n"
     ]
    },
    {
     "name": "stderr",
     "output_type": "stream",
     "text": [
      "/Users/rupalgandhre/opt/anaconda3/lib/python3.8/site-packages/sklearn/metrics/_classification.py:1221: UndefinedMetricWarning: Precision and F-score are ill-defined and being set to 0.0 in labels with no predicted samples. Use `zero_division` parameter to control this behavior.\n",
      "  _warn_prf(average, modifier, msg_start, len(result))\n"
     ]
    }
   ],
   "source": [
    "\n",
    "print(classification_report(y_test, y_pred_rf))"
   ]
  }
 ],
 "metadata": {
  "kernelspec": {
   "display_name": "Python 3",
   "language": "python",
   "name": "python3"
  },
  "language_info": {
   "codemirror_mode": {
    "name": "ipython",
    "version": 3
   },
   "file_extension": ".py",
   "mimetype": "text/x-python",
   "name": "python",
   "nbconvert_exporter": "python",
   "pygments_lexer": "ipython3",
   "version": "3.8.2"
  }
 },
 "nbformat": 4,
 "nbformat_minor": 4
}
