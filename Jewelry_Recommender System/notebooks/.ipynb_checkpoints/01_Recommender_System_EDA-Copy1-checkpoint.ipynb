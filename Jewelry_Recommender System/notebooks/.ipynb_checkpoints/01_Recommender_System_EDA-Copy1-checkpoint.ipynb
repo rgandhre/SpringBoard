{
 "cells": [
  {
   "cell_type": "markdown",
   "metadata": {},
   "source": [
    "## Exploratory Analysis "
   ]
  },
  {
   "cell_type": "code",
   "execution_count": 1,
   "metadata": {},
   "outputs": [],
   "source": [
    "import pandas as pd\n",
    "import numpy as np\n",
    "import matplotlib.pyplot as plt\n",
    "from numpy import nan\n",
    "import json\n",
    "import re\n",
    "import seaborn as sns\n",
    "\n",
    "#Create label for price\n",
    "pd.set_option('display.max_columns', None)\n",
    "pd.set_option('display.max_rows', None)\n",
    "pd.set_option('display.max_colwidth', None)\n",
    "\n",
    "#ignore warning messages to ensure clean outputs\n",
    "import warnings\n",
    "warnings.filterwarnings('ignore')"
   ]
  },
  {
   "cell_type": "code",
   "execution_count": 2,
   "metadata": {},
   "outputs": [],
   "source": [
    "# the supplied CSV data file is the raw_data directory\n",
    "raw_df = pd.read_csv('/Users/rupalgandhre/SpringBoard/DataScience_Capstone3_Recommender System/data/raw_data/effy_clean_split_data.csv')\n",
    "#raw_df[raw_df['Stone2_Desc'].isnull()]"
   ]
  },
  {
   "cell_type": "code",
   "execution_count": 3,
   "metadata": {},
   "outputs": [],
   "source": [
    "df = raw_df.drop(columns=['Item_Number','Metal', 'Metal Color','Discount_Price','Stones',\n",
    "                      'Stone3_Desc', 'Stone3_Carat', 'Stone3_Stone', 'Stone3_Color','Stone3_Cut',                               \n",
    "                      'Stone4_Desc', 'Stone4_Carat', 'Stone4_Stone', 'Stone4_Color','Stone4_Cut',\n",
    "                                  'Stone5_Desc','Stone5_Carat', 'Stone5_Stone', 'Stone5_Color', 'Stone5_Cut',\n",
    "                                  'Stone6_Desc', 'Stone6_Carat', 'Stone6_Stone', 'Stone6_Color','Stone6_Cut'])"
   ]
  },
  {
   "cell_type": "code",
   "execution_count": 4,
   "metadata": {},
   "outputs": [
    {
     "data": {
      "text/plain": [
       "Index(['Description', 'Price', 'Jewelry_Type', 'Product_Carat', 'Stone1_Desc',\n",
       "       'Stone1_Carat', 'Stone1_Stone', 'Stone1_Color', 'Stone1_Cut',\n",
       "       'Stone2_Desc', 'Stone2_Carat', 'Stone2_Stone', 'Stone2_Color',\n",
       "       'Stone2_Cut'],\n",
       "      dtype='object')"
      ]
     },
     "execution_count": 4,
     "metadata": {},
     "output_type": "execute_result"
    }
   ],
   "source": [
    "df.columns"
   ]
  },
  {
   "cell_type": "code",
   "execution_count": 5,
   "metadata": {},
   "outputs": [],
   "source": [
    "df['Stone1_Cut'] = df['Stone1_Cut'].str.replace('round','Round')\n",
    "df['Stone1_Desc'] = df['Stone1_Desc'].str.replace('round','Round')\n",
    "df['Stone1_Stone'] = df['Stone1_Stone'].str.replace('Lazuli','Lapis-Lazuli')\n",
    "\n",
    "df.loc[(df['Stone1_Stone'] == 'Quartz') & \n",
    "       (df['Stone1_Cut'] == 'Smokey'), 'Stone1_Cut'] = 'Oval'\n",
    "\n",
    "df.loc[(df['Stone1_Stone'] == 'Diamond') & \n",
    "             (df['Stone1_Color'].isnull()),\n",
    "             'Stone1_Color'] = 'White'\n",
    "\n",
    "df.loc[(df['Stone1_Stone'] == 'Diamond') & \n",
    "             (df['Stone1_Cut'].isnull()),\n",
    "             'Stone1_Cut'] = 'Round'\n",
    "\n",
    "\n",
    "\n",
    "df.loc[((df['Stone1_Stone'] == 'Alexandrite') & \n",
    "            (df['Stone1_Color'].isnull())),\n",
    "            'Stone1_Color'] = 'Bluish-Green'\n",
    "\n",
    "df.loc[(df['Stone1_Stone'] == 'Amethyst') & \n",
    "           (df['Stone1_Color'].isnull()),\n",
    "             'Stone1_Color'] = 'Green'\n",
    "\n",
    "df.loc[(df['Stone1_Stone'] == 'Aquamarine') & \n",
    "             (df['Stone1_Color'].isnull()), \n",
    "             'Stone1_Color'] = 'Greenish-Blue'\n",
    "\n",
    "df.loc[(df['Stone1_Stone'] == 'Citrine') & \n",
    "             (df['Stone1_Color'].isnull()), \n",
    "             'Stone1_Color'] = 'Yellow'\n",
    "\n",
    "df.loc[(df['Stone1_Stone'] == 'Emerald') & \n",
    "             (df['Stone1_Color'].isnull()), \n",
    "             'Stone1_Color'] = 'Green'\n",
    "\n",
    "df.loc[(df['Stone1_Stone'] == 'Garnet') & \n",
    "             (df['Stone1_Color'].isnull()),\n",
    "             'Stone1_Color'] = 'Red'\n",
    "\n",
    "df.loc[(df['Stone1_Stone'] == 'Jade') & \n",
    "             (df['Stone1_Color'].isnull()),\n",
    "             'Stone1_Color'] = 'Green'\n",
    "\n",
    "\n",
    "df.loc[(df['Stone1_Stone'] == 'Lapis-Lazuli') & \n",
    "             (df['Stone1_Color'].isnull()),\n",
    "             'Stone1_Color'] = 'Blue'\n",
    "\n",
    "\n",
    "df.loc[(df['Stone1_Stone'] == 'Malachite') & \n",
    "             (df['Stone1_Color'].isnull()),\n",
    "             'Stone1_Color'] = 'Green'\n",
    "\n",
    "\n",
    "\n",
    "df.loc[(df['Stone1_Stone'] == 'Morganite') & \n",
    "             (df['Stone1_Color'].isnull()),\n",
    "             'Stone1_Color'] = 'Pink'\n",
    "\n",
    "\n",
    "df.loc[(df['Stone1_Stone'] == 'Multi-Color') & \n",
    "             (df['Stone1_Color'].isnull()),\n",
    "             'Stone1_Color'] = 'Multi-Color'\n",
    "\n",
    "\n",
    "df.loc[(df['Stone1_Stone'] == 'Multi-Sapphire') & \n",
    "             (df['Stone1_Color'].isnull()),\n",
    "             'Stone1_Color'] = 'Multi-Sapphire'\n",
    "\n",
    "\n",
    "df.loc[(df['Stone1_Stone'] == 'Onyx') & \n",
    "             (df['Stone1_Color'].isnull()),\n",
    "             'Stone1_Color'] = 'Black'\n",
    "\n",
    "\n",
    "df.loc[(df['Stone1_Stone'] == 'Opal') & \n",
    "             (df['Stone1_Color'].isnull()),\n",
    "             'Stone1_Color'] = 'White'\n",
    "\n",
    "df.loc[(df['Stone1_Stone'] == 'Pearl') & \n",
    "             (df['Stone1_Color'].isnull()),\n",
    "             'Stone1_Color'] = 'White'\n",
    "\n",
    "df.loc[(df['Stone1_Stone'] == 'Quartz') & \n",
    "             (df['Stone1_Color'].isnull()),\n",
    "             'Stone1_Color'] = 'Smokey'\n",
    "\n",
    "\n",
    "df.loc[(df['Stone1_Stone'] == 'Ruby') & \n",
    "             (df['Stone1_Color'].isnull()),\n",
    "             'Stone1_Color'] = 'Red'\n",
    "\n",
    "\n",
    "df.loc[(df['Stone1_Stone'] == 'Sapphire') & \n",
    "             (df['Stone1_Color'].isnull()),\n",
    "             'Stone1_Color'] = 'Blue'\n",
    "\n",
    "\n",
    "df.loc[(df['Stone1_Stone'] == 'Sapphire') & \n",
    "             (df['Stone1_Cut'].isnull()),\n",
    "             'Stone1_Cut'] = 'Round'\n",
    "\n",
    "df.loc[(df['Stone1_Stone'] == 'Tanzanite') & \n",
    "             (df['Stone1_Color'].isnull()),\n",
    "             'Stone1_Color'] = 'Blue'\n",
    "\n",
    "\n",
    "df.loc[(df['Stone1_Stone'] == 'Topaz') & \n",
    "             (df['Stone1_Color'].isnull()),\n",
    "             'Stone1_Color'] = 'Blue'\n",
    "\n",
    "\n",
    "df.loc[(df['Stone1_Stone'] == 'Turquoise') & \n",
    "             (df['Stone1_Color'].isnull()),\n",
    "             'Stone1_Color'] = 'Turquoise'\n",
    "\n",
    "df.loc[(df['Stone1_Stone'] == 'Tsavorite') & \n",
    "             (df['Stone1_Color'].isnull()),\n",
    "             'Stone1_Color'] = 'Green'\n",
    "\n",
    "df.loc[(df['Stone1_Stone'] == 'Coral') & \n",
    "             (df['Stone1_Color'].isnull()), \n",
    "             'Stone1_Color'] = 'Orange'\n",
    "\n",
    "df.loc[(df['Stone1_Stone'] == 'Tanzanite') & \n",
    "             (df['Stone1_Color'].isnull()), \n",
    "             'Stone1_Color'] = 'Blue'\n",
    "\n",
    "df.loc[(df['Stone1_Stone'] == 'Abalone') & \n",
    "             (df['Stone1_Color'].isnull()),\n",
    "             'Stone1_Color'] = 'Blue-Green'\n",
    "\n",
    "df.loc[(df['Stone1_Stone'] == 'Tourmaline') & \n",
    "             (df['Stone1_Color'].isnull()),\n",
    "             'Stone1_Color'] = 'Blue-Green'\n",
    "\n",
    "\n",
    "df.loc[(df['Stone1_Desc'] == 'Round Mother of Pearl') & \n",
    "             (df['Stone1_Color'].isnull()),\n",
    "             'Stone1_Color'] = 'White'\n",
    "\n",
    "df.loc[(df['Stone1_Desc'] == 'Round Mother of Pearl') & \n",
    "             (df['Stone1_Stone'].isnull()),\n",
    "             'Stone1_Stone'] = 'Pearl'\n",
    "\n",
    "df.loc[(df['Stone1_Desc'] == 'Round Mother of Pearl') & \n",
    "             (df['Stone1_Cut'].isnull()),\n",
    "             'Stone1_Cut'] = 'Round'\n",
    "\n",
    "df.loc[(df['Stone1_Desc'] == 'Multi-Shape Mother of Pearl') & \n",
    "             (df['Stone1_Color'].isnull()),\n",
    "             'Stone1_Color'] = 'White'\n",
    "\n",
    "df.loc[(df['Stone1_Desc'] == 'Multi-Shape Mother of Pearl') & \n",
    "             (df['Stone1_Cut'].isnull()),\n",
    "             'Stone1_Cut'] = 'Multi-Shape'\n",
    "\n",
    "df.loc[(df['Stone1_Desc'] == 'Multi-Shape Mother of Pearl') & \n",
    "             (df['Stone1_Stone'].isnull()),\n",
    "             'Stone1_Stone'] = 'Pearl'\n",
    "\n",
    "\n"
   ]
  },
  {
   "cell_type": "code",
   "execution_count": 6,
   "metadata": {},
   "outputs": [],
   "source": [
    "#df.drop(df[df['Stone1_Stone']== ' '].index,inplace=True)\n",
    "df.drop(df[df['Stone2_Stone'] == 'Band'].index, inplace=True)\n",
    "df.drop(df[df['Stone2_Stone'] == 'Bands'].index, inplace=True)\n",
    "df.drop(df[df['Stone2_Desc'] == 'Matching band for Style WZ0M486DTR'].index, inplace=True)\n",
    "df.drop(df[df['Stone2_Desc'] == 'Matching band for Style WZ0P637D26'].index, inplace=True)\n",
    "\n"
   ]
  },
  {
   "cell_type": "code",
   "execution_count": 7,
   "metadata": {},
   "outputs": [],
   "source": [
    "df.loc[(df['Stone2_Stone'] == 'Diamond') & \n",
    "             (df['Stone2_Color'].isnull()), \n",
    "             'Stone2_Color'] = 'White'\n",
    "\n",
    "df.loc[(df['Stone2_Stone'] == 'Emerald') & \n",
    "             (df['Stone2_Color'].isnull()), \n",
    "             'Stone2_Color'] = 'Green'\n",
    "\n",
    "df.loc[(df['Stone2_Stone'] == 'Garnet') & \n",
    "             (df['Stone2_Color'].isnull()),\n",
    "             'Stone2_Color'] = 'Red'\n",
    "\n",
    "df.loc[(df['Stone2_Stone'] == 'Multi-Sapphire') & \n",
    "             (df['Stone2_Color'].isnull()),\n",
    "             'Stone2_Color'] = 'Multi-Sapphire'\n",
    "\n",
    "df.loc[(df['Stone2_Stone'] == 'Ruby') & \n",
    "             (df['Stone2_Color'].isnull()),\n",
    "             'Stone2_Color'] = 'Red'\n",
    "\n",
    "\n",
    "df.loc[(df['Stone2_Stone'] == 'Sapphire') & \n",
    "             (df['Stone2_Color'].isnull()),\n",
    "             'Stone2_Color'] = 'Blue'\n",
    "df.loc[(df['Stone2_Stone'] == 'Peridot') & \n",
    "             (df['Stone2_Color'].isnull()),\n",
    "             'Stone2_Color'] = 'Green'\n",
    "\n",
    "df.loc[(df['Stone2_Stone'] == 'Peridot') & \n",
    "             (df['Stone2_Cut'].isnull()),\n",
    "             'Stone2_Cut'] = 'Oval'\n",
    "\n",
    "df.loc[(df['Stone2_Stone'] == 'Tsavorite') & \n",
    "             (df['Stone2_Color'].isnull()),\n",
    "             'Stone2_Color'] = 'Green'"
   ]
  },
  {
   "cell_type": "code",
   "execution_count": 8,
   "metadata": {},
   "outputs": [],
   "source": [
    "for index, row in df.iterrows():\n",
    "    if (row['Stone1_Carat'] == 0 ) & (row['Stone2_Carat'] == 0):\n",
    "        c = row['Product_Carat'] / 2 \n",
    "        #print('Divided c: ', c )\n",
    "        \n",
    "        df.at[index, 'Stone1_Carat'] = c\n",
    "        df.at[index, 'Stone2_Carat'] = c\n",
    "        #print()\n",
    " \n",
    "                                                                       \n",
    "df['Stone2_Carat'].fillna(0, inplace=True)\n",
    "df['Stone2_Desc'].fillna('', inplace=True)\n",
    "df['Stone2_Stone'].fillna('', inplace=True)\n",
    "df['Stone2_Color'].fillna('', inplace=True)\n",
    "df['Stone2_Cut'].fillna('', inplace=True)\n"
   ]
  },
  {
   "cell_type": "code",
   "execution_count": 9,
   "metadata": {},
   "outputs": [],
   "source": [
    "df.drop(df[df['Stone1_Cut'].isnull()].index, inplace=True)"
   ]
  },
  {
   "cell_type": "code",
   "execution_count": 10,
   "metadata": {},
   "outputs": [
    {
     "data": {
      "text/plain": [
       "Description      False\n",
       "Price            False\n",
       "Jewelry_Type     False\n",
       "Product_Carat    False\n",
       "Stone1_Desc      False\n",
       "Stone1_Carat     False\n",
       "Stone1_Stone     False\n",
       "Stone1_Color     False\n",
       "Stone1_Cut       False\n",
       "Stone2_Desc      False\n",
       "Stone2_Carat     False\n",
       "Stone2_Stone     False\n",
       "Stone2_Color     False\n",
       "Stone2_Cut       False\n",
       "dtype: bool"
      ]
     },
     "execution_count": 10,
     "metadata": {},
     "output_type": "execute_result"
    }
   ],
   "source": [
    "df.isnull().any()"
   ]
  },
  {
   "cell_type": "markdown",
   "metadata": {},
   "source": [
    "# Recommender System "
   ]
  },
  {
   "cell_type": "code",
   "execution_count": 25,
   "metadata": {},
   "outputs": [],
   "source": [
    "from sklearn.feature_extraction.text import CountVectorizer\n",
    "from sklearn.feature_extraction.text import TfidfVectorizer\n",
    "from sklearn.metrics.pairwise import cosine_similarity"
   ]
  },
  {
   "cell_type": "code",
   "execution_count": 26,
   "metadata": {},
   "outputs": [],
   "source": [
    "def create_desc_vector(data, vectorizer_method):\n",
    "    # Instantiate the vectorizer object to the vectorizer variable\n",
    "    vectorizer = vectorizer_method\n",
    "    \n",
    "    # Fit and transform\n",
    "    vectorizer_data = vectorizer.fit_transform(data)\n",
    "    \n",
    "    # Look at the features generated\n",
    "    #print(vectorizer.get_feature_names())\n",
    "    \n",
    "    # Create Dataframe from vectorized array\n",
    "    vectorized_df = pd.DataFrame(vectorizer_data.toarray(), columns=vectorizer.get_feature_names())\n",
    "\n",
    "    # Assign the index\n",
    "    vectorized_df.index = data\n",
    "    \n",
    "    return vectorized_df\n",
    "\n",
    "  \n",
    "def get_cosine_similarity(dataframe,column,current_item):  \n",
    "\n",
    "\n",
    "    # Create the array of cosine similarity values\n",
    "    cosine_similarity_array = cosine_similarity(dataframe)\n",
    "\n",
    "    # Wrap the array in a pandas DataFrame\n",
    "    cosine_similarity_df = pd.DataFrame(cosine_similarity_array, index=dataframe.index, columns=column)\n",
    "\n",
    "    cosine_similarity_series = cosine_similarity_df.loc[current_item]\n",
    "\n",
    "    # Sort these values highest to lowest\n",
    "    ordered_similarities = cosine_similarity_series.sort_values(ascending=False)\n",
    "\n",
    "    return ordered_similarities\n",
    "\n",
    "def recommender_engine(cosine_similarity):\n",
    "    \n",
    "    new_df= cosine_similarity.to_frame()\n",
    "    new_df.columns = ['Score']\n",
    "    new_df.reset_index()\n",
    "\n",
    "\n",
    "    type_df = pd.DataFrame(df[['Description','Jewelry_Type','Stone1_Desc','Stone2_Desc']])\n",
    "    final_df = new_df.merge(type_df, on='Description',how='inner' )\n",
    "\n",
    "    #final_df.head(25)\n",
    "\n",
    "    current_type = (final_df.loc[final_df['Description'] == current_item]['Jewelry_Type']).values\n",
    "    current_Stone1_Desc = (final_df.loc[final_df['Description'] == current_item]['Stone1_Desc']).values\n",
    "    #print(current_Stone1_Desc)\n",
    "    current_Stone2_Desc = (final_df.loc[final_df['Description'] == current_item]['Stone2_Desc']).values\n",
    "    #print(current_Stone2_Desc)\n",
    "\n",
    "    #Find the unique jewelery_types available\n",
    "    jewel_types = list(df['Jewelry_Type'].unique())\n",
    "    #print(jewel_types)\n",
    "    #print(current_type)\n",
    "    jewel_types.remove(current_type)\n",
    "\n",
    "    #print(\"jewel_types after\", jewel_types)\n",
    "    recommended_list = list()\n",
    "\n",
    "    for index, row in final_df.iterrows():\n",
    "        if row['Jewelry_Type'] in jewel_types:\n",
    "            if (row['Stone1_Desc'] == current_Stone1_Desc):\n",
    "                if (row['Stone2_Desc'] == current_Stone2_Desc):\n",
    "                    recommended_list.append(row['Description'])\n",
    "                    jewel_types.remove(row['Jewelry_Type'])    \n",
    "\n",
    "\n",
    "    return recommended_list\n"
   ]
  },
  {
   "cell_type": "markdown",
   "metadata": {},
   "source": [
    "### Recommender System using CountVectorizer"
   ]
  },
  {
   "cell_type": "code",
   "execution_count": 27,
   "metadata": {},
   "outputs": [
    {
     "name": "stdout",
     "output_type": "stream",
     "text": [
      "['Effy Ruby Royale 14K Rose Gold Ruby and Diamond Bow Necklace, 7.25 TCW', 'Effy Ruby Royale 14K Rose Gold Ruby and Diamond Bangle, 3.93 TCW', 'Effy Ruby Royale 14K Rose Gold Ruby and Diamond Earrings, 1.90 TCW']\n"
     ]
    }
   ],
   "source": [
    "countvect_df = create_desc_vector(df['Description'],CountVectorizer())\n",
    "\n",
    "current_item = 'Effy Ruby Royale 14K Rose Gold Ruby and Diamond Bow Ring, 1.61 TCW'\n",
    " \n",
    "countvect_cosine = get_cosine_similarity(countvect_df,df['Description'],current_item)\n",
    "\n",
    "recommended_list = recommender_engine(countvect_cosine)\n",
    "\n",
    "print(recommended_list)\n"
   ]
  },
  {
   "cell_type": "markdown",
   "metadata": {},
   "source": [
    "### Recommender System using TD-IDF Vectorizer"
   ]
  },
  {
   "cell_type": "code",
   "execution_count": 28,
   "metadata": {},
   "outputs": [
    {
     "name": "stdout",
     "output_type": "stream",
     "text": [
      "['Effy Ruby Royale 14K Rose Gold Ruby and Diamond Bow Necklace, 7.25 TCW', 'Effy Ruby Royale 14K Rose Gold Ruby and Diamond Earrings, 1.90 TCW', 'Effy Ruby Royale 14K Rose Gold Ruby and Diamond Bangle, 3.93 TCW']\n"
     ]
    }
   ],
   "source": [
    "tdidf_df = create_desc_vector(df['Description'],TfidfVectorizer())\n",
    "\n",
    "current_item = 'Effy Ruby Royale 14K Rose Gold Ruby and Diamond Bow Ring, 1.61 TCW'\n",
    " \n",
    "tdidf_cosine = get_cosine_similarity(tdidf_df,df['Description'],current_item)\n",
    "\n",
    "recommended_list = recommender_engine(tdidf_cosine)\n",
    "\n",
    "print(recommended_list)\n"
   ]
  },
  {
   "cell_type": "code",
   "execution_count": null,
   "metadata": {},
   "outputs": [],
   "source": []
  },
  {
   "cell_type": "code",
   "execution_count": null,
   "metadata": {},
   "outputs": [],
   "source": []
  },
  {
   "cell_type": "code",
   "execution_count": 16,
   "metadata": {},
   "outputs": [],
   "source": [
    "from sklearn.feature_extraction.text import CountVectorizer\n",
    "\n",
    "# Instantiate the vectorizer object to the vectorizer variable\n",
    "Cvectorizer = CountVectorizer()\n",
    "\n",
    "# Fit and transform the plot column\n",
    "Cvectorized_data = Cvectorizer.fit_transform(df['Description'])\n",
    "\n",
    "# Look at the features generated\n",
    "#print(vectorizer.get_feature_names())\n",
    "\n",
    "\n",
    "# Create Dataframe from TF-IDFarray\n",
    "Ctfidf_df = pd.DataFrame(Cvectorized_data.toarray(), columns=Cvectorizer.get_feature_names())\n",
    "\n",
    "# Assign the movie titles to the index and inspect\n",
    "Ctfidf_df.index = df['Description']\n",
    "#print(Ctfidf_df.head())\n",
    "\n",
    "\n",
    "# Import cosine_similarity measure\n",
    "from sklearn.metrics.pairwise import cosine_similarity\n",
    "\n",
    "# Create the array of cosine similarity values\n",
    "Ccosine_similarity_array = cosine_similarity(Ctfidf_df)\n",
    "\n",
    "# Wrap the array in a pandas DataFrame\n",
    "Ccosine_similarity_df = pd.DataFrame(Ccosine_similarity_array, index=Ctfidf_df.index, columns=df['Description'])\n",
    "\n",
    "# Find the values \n",
    "#current_item = 'Effy Ruby Royale 14K White Gold Ruby and Diamond Ring, 2.12 TCW'\n",
    "#current_item = 'Effy Ruby Royale 14K White Gold Ruby and Diamond Hoop Earrings, 1.19 TCW'\n",
    "#current_item = '14K Two Tone Gold Blue and White Diamond Crossover Bangle, 2.00 TCW'\n",
    "current_item = 'Effy Ruby Royale 14K Rose Gold Ruby and Diamond Bow Ring, 1.61 TCW'\n",
    "\n",
    "Ccosine_similarity_series = Ccosine_similarity_df.loc[current_item]\n",
    "\n",
    "# Sort these values highest to lowest\n",
    "Cordered_similarities = Ccosine_similarity_series.sort_values(ascending=False)\n",
    "\n",
    "# Print the results\n",
    "#print(Cordered_similarities.head(15))"
   ]
  },
  {
   "cell_type": "code",
   "execution_count": 17,
   "metadata": {},
   "outputs": [],
   "source": [
    "new_df= Cordered_similarities.to_frame()\n",
    "new_df.columns = ['Score']\n",
    "new_df.reset_index()\n",
    "\n",
    "\n",
    "type_df = pd.DataFrame(df[['Description','Jewelry_Type','Stone1_Desc','Stone2_Desc']])\n",
    "type_df\n",
    "final_df = new_df.merge(type_df, on='Description',how='inner' )\n",
    "\n",
    "#final_df.head(25)\n"
   ]
  },
  {
   "cell_type": "code",
   "execution_count": 18,
   "metadata": {},
   "outputs": [],
   "source": [
    "current_type = (final_df.loc[final_df['Description'] == current_item]['Jewelry_Type']).values\n",
    "current_Stone1_Desc = (final_df.loc[final_df['Description'] == current_item]['Stone1_Desc']).values\n",
    "#print(current_Stone1_Desc)\n",
    "current_Stone2_Desc = (final_df.loc[final_df['Description'] == current_item]['Stone2_Desc']).values\n",
    "#print(current_Stone2_Desc)\n"
   ]
  },
  {
   "cell_type": "code",
   "execution_count": 19,
   "metadata": {},
   "outputs": [
    {
     "data": {
      "text/plain": [
       "['Effy Ruby Royale 14K Rose Gold Ruby and Diamond Bow Necklace, 7.25 TCW',\n",
       " 'Effy Ruby Royale 14K Rose Gold Ruby and Diamond Bangle, 3.93 TCW',\n",
       " 'Effy Ruby Royale 14K Rose Gold Ruby and Diamond Earrings, 1.90 TCW']"
      ]
     },
     "execution_count": 19,
     "metadata": {},
     "output_type": "execute_result"
    }
   ],
   "source": [
    "#Find the unique jewelery_types available\n",
    "jewel_types = list(df['Jewelry_Type'].unique())\n",
    "#print(jewel_types)\n",
    "#print(current_type)\n",
    "jewel_types.remove(current_type)\n",
    "\n",
    "#print(\"jewel_types after\", jewel_types)\n",
    "recommended_list = list()\n",
    "\n",
    "for index, row in final_df.iterrows():\n",
    "    if row['Jewelry_Type'] in jewel_types:\n",
    "        if (row['Stone1_Desc'] == current_Stone1_Desc):\n",
    "            if (row['Stone2_Desc'] == current_Stone2_Desc):\n",
    "                recommended_list.append(row['Description'])\n",
    "                jewel_types.remove(row['Jewelry_Type'])    \n",
    "\n",
    "\n",
    "recommended_list\n"
   ]
  },
  {
   "cell_type": "code",
   "execution_count": null,
   "metadata": {},
   "outputs": [],
   "source": [
    "#current_item = 'Effy Ruby Royale 14K Rose Gold Ruby and Diamond Bow Ring, 1.61 TCW'\n",
    "['Effy Ruby Royale 14K Rose Gold Ruby and Diamond Bow Necklace, 7.25 TCW',\n",
    " 'Effy Ruby Royale 14K Rose Gold Ruby and Diamond Bangle, 3.93 TCW',\n",
    " 'Effy Ruby Royale 14K Rose Gold Ruby and Diamond Earrings, 1.90 TCW']"
   ]
  },
  {
   "cell_type": "code",
   "execution_count": null,
   "metadata": {},
   "outputs": [],
   "source": [
    "#current_item = 'Effy Ruby Royale 14K White Gold Ruby and Diamond Ring, 2.12 TCW'\n",
    "['Effy Ruby Royale 14K White Gold Ruby and Diamond Pendant, 2.23 TCW',\n",
    " 'Effy Ruby Royale 14K White Gold Ruby and Diamond Earrings, 3.26 TCW',\n",
    " 'Effy Ruby Royale 14K Yellow Gold Ruby and Diamond Bracelet, 12.19 TCW']"
   ]
  },
  {
   "cell_type": "code",
   "execution_count": null,
   "metadata": {},
   "outputs": [],
   "source": [
    "\n",
    "#current_item = '14K Two Tone Gold Blue and White Diamond Crossover Bangle, 2.00 TCW'\n",
    "\n",
    "\n",
    "#['14K Two Tone Gold Blue and White Diamond Crossover Pendant, 1.00 TCW',\n",
    "# '14K Two Tone Gold Blue and White Diamond Crossover Ring, 1.00 TCW',\n",
    "# '14K 2-Tone Gold Espresso & White Diamond Crossover Hoop Earrings, 1.00 TCW']\n",
    "\n",
    "raw_df[raw_df['Description'] ==  '14K Two Tone Gold Blue and White Diamond Crossover Hoop Earrings, 1.00 TCW']"
   ]
  },
  {
   "cell_type": "code",
   "execution_count": null,
   "metadata": {},
   "outputs": [],
   "source": [
    "#current_item = 'Effy Ruby Royale 14K White Gold Ruby and Diamond Hoop Earrings, 1.19 TCW'\n",
    "['Effy Ruby Royale 14K White Gold Ruby and Diamond Ring, 1.12 TCW',\n",
    " 'Effy Ruby Royale 14K White Gold Ruby and Diamond Pendant, 1.17 TCW',\n",
    " 'Effy Ruby Royale 14K White Gold Ruby and Diamond Tennis Bracelet, 5.22 TCW']\n",
    "\n"
   ]
  }
 ],
 "metadata": {
  "kernelspec": {
   "display_name": "Python 3",
   "language": "python",
   "name": "python3"
  },
  "language_info": {
   "codemirror_mode": {
    "name": "ipython",
    "version": 3
   },
   "file_extension": ".py",
   "mimetype": "text/x-python",
   "name": "python",
   "nbconvert_exporter": "python",
   "pygments_lexer": "ipython3",
   "version": "3.8.2"
  }
 },
 "nbformat": 4,
 "nbformat_minor": 4
}
